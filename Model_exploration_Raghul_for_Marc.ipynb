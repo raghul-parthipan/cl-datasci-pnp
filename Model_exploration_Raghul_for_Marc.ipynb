{
  "nbformat": 4,
  "nbformat_minor": 0,
  "metadata": {
    "colab": {
      "name": " Model_exploration_Raghul_for_Marc.ipynb",
      "provenance": [],
      "collapsed_sections": [],
      "toc_visible": true,
      "machine_shape": "hm",
      "mount_file_id": "14G0Plb1oiIIrM0gA6OqMXuYWQXXowgWJ",
      "authorship_tag": "ABX9TyMI2wxTvkxdxy3sJcDZXkBw",
      "include_colab_link": true
    },
    "kernelspec": {
      "name": "python3",
      "display_name": "Python 3"
    }
  },
  "cells": [
    {
      "cell_type": "markdown",
      "metadata": {
        "id": "view-in-github",
        "colab_type": "text"
      },
      "source": [
        "<a href=\"https://colab.research.google.com/github/raghul-parthipan/cl-datasci-pnp/blob/master/Model_exploration_Raghul_for_Marc.ipynb\" target=\"_parent\"><img src=\"https://colab.research.google.com/assets/colab-badge.svg\" alt=\"Open In Colab\"/></a>"
      ]
    },
    {
      "cell_type": "code",
      "metadata": {
        "id": "ZEeE5bv5GfwF",
        "colab_type": "code",
        "outputId": "7a329fb4-003c-4264-9fcc-5e93daf19035",
        "colab": {
          "base_uri": "https://localhost:8080/",
          "height": 35
        }
      },
      "source": [
        "!pip install tqdm==4.42.1\n"
      ],
      "execution_count": 1,
      "outputs": [
        {
          "output_type": "stream",
          "text": [
            "Requirement already satisfied: tqdm==4.42.1 in /usr/local/lib/python3.6/dist-packages (4.42.1)\n"
          ],
          "name": "stdout"
        }
      ]
    },
    {
      "cell_type": "code",
      "metadata": {
        "id": "f8smQ57MVOmq",
        "colab_type": "code",
        "outputId": "c8fc8153-ee4a-4899-81d4-28b2b2442121",
        "colab": {
          "base_uri": "https://localhost:8080/",
          "height": 595
        }
      },
      "source": [
        "!pip install requests\n",
        "!pip install tabulate\n",
        "!pip install \"colorama>=0.3.8\"\n",
        "!pip install future\n",
        "\n",
        "!pip install -f http://h2o-release.s3.amazonaws.com/h2o/latest_stable_Py.html h2o\n",
        "\n"
      ],
      "execution_count": 2,
      "outputs": [
        {
          "output_type": "stream",
          "text": [
            "Requirement already satisfied: requests in /usr/local/lib/python3.6/dist-packages (2.21.0)\n",
            "Requirement already satisfied: urllib3<1.25,>=1.21.1 in /usr/local/lib/python3.6/dist-packages (from requests) (1.24.3)\n",
            "Requirement already satisfied: idna<2.9,>=2.5 in /usr/local/lib/python3.6/dist-packages (from requests) (2.8)\n",
            "Requirement already satisfied: chardet<3.1.0,>=3.0.2 in /usr/local/lib/python3.6/dist-packages (from requests) (3.0.4)\n",
            "Requirement already satisfied: certifi>=2017.4.17 in /usr/local/lib/python3.6/dist-packages (from requests) (2019.11.28)\n",
            "Requirement already satisfied: tabulate in /usr/local/lib/python3.6/dist-packages (0.8.6)\n",
            "Collecting colorama>=0.3.8\n",
            "  Downloading https://files.pythonhosted.org/packages/c9/dc/45cdef1b4d119eb96316b3117e6d5708a08029992b2fee2c143c7a0a5cc5/colorama-0.4.3-py2.py3-none-any.whl\n",
            "Installing collected packages: colorama\n",
            "Successfully installed colorama-0.4.3\n",
            "Requirement already satisfied: future in /usr/local/lib/python3.6/dist-packages (0.16.0)\n",
            "Looking in links: http://h2o-release.s3.amazonaws.com/h2o/latest_stable_Py.html\n",
            "\u001b[33mWARNING: The repository located at h2o-release.s3.amazonaws.com is not a trusted or secure host and is being ignored. If this repository is available via HTTPS we recommend you use HTTPS instead, otherwise you may silence this warning and allow it anyway with '--trusted-host h2o-release.s3.amazonaws.com'.\u001b[0m\n",
            "Collecting h2o\n",
            "\u001b[?25l  Downloading https://files.pythonhosted.org/packages/ef/f5/23c0d33d0b4880cbb09327ba8bc0072d366bc80eada9122bd6758ef1d365/h2o-3.28.0.3.tar.gz (126.2MB)\n",
            "\u001b[K     |████████████████████████████████| 126.2MB 89kB/s \n",
            "\u001b[?25hRequirement already satisfied: requests in /usr/local/lib/python3.6/dist-packages (from h2o) (2.21.0)\n",
            "Requirement already satisfied: tabulate in /usr/local/lib/python3.6/dist-packages (from h2o) (0.8.6)\n",
            "Requirement already satisfied: future in /usr/local/lib/python3.6/dist-packages (from h2o) (0.16.0)\n",
            "Requirement already satisfied: colorama>=0.3.8 in /usr/local/lib/python3.6/dist-packages (from h2o) (0.4.3)\n",
            "Requirement already satisfied: urllib3<1.25,>=1.21.1 in /usr/local/lib/python3.6/dist-packages (from requests->h2o) (1.24.3)\n",
            "Requirement already satisfied: chardet<3.1.0,>=3.0.2 in /usr/local/lib/python3.6/dist-packages (from requests->h2o) (3.0.4)\n",
            "Requirement already satisfied: idna<2.9,>=2.5 in /usr/local/lib/python3.6/dist-packages (from requests->h2o) (2.8)\n",
            "Requirement already satisfied: certifi>=2017.4.17 in /usr/local/lib/python3.6/dist-packages (from requests->h2o) (2019.11.28)\n",
            "Building wheels for collected packages: h2o\n",
            "  Building wheel for h2o (setup.py) ... \u001b[?25l\u001b[?25hdone\n",
            "  Created wheel for h2o: filename=h2o-3.28.0.3-py2.py3-none-any.whl size=126303006 sha256=75914a2859b0d5e2dbbd66b89320df99c7a6b75486dfac9845380857ff1fe579\n",
            "  Stored in directory: /root/.cache/pip/wheels/fa/7c/ce/95ae52b4d3f1b14a27c3c961c1f94635aee841ab1eec3aeeca\n",
            "Successfully built h2o\n",
            "Installing collected packages: h2o\n",
            "Successfully installed h2o-3.28.0.3\n"
          ],
          "name": "stdout"
        }
      ]
    },
    {
      "cell_type": "code",
      "metadata": {
        "id": "IMkLCgwC19RJ",
        "colab_type": "code",
        "outputId": "800ce045-4c2c-4284-cf38-ef9b31b11ca2",
        "colab": {
          "base_uri": "https://localhost:8080/",
          "height": 35
        }
      },
      "source": [
        "from google.colab import drive\n",
        "drive.mount('/content/drive')"
      ],
      "execution_count": 2,
      "outputs": [
        {
          "output_type": "stream",
          "text": [
            "Drive already mounted at /content/drive; to attempt to forcibly remount, call drive.mount(\"/content/drive\", force_remount=True).\n"
          ],
          "name": "stdout"
        }
      ]
    },
    {
      "cell_type": "code",
      "metadata": {
        "id": "ZA5OTap12UVr",
        "colab_type": "code",
        "colab": {}
      },
      "source": [
        "import pandas as pd\n",
        "import xarray as xr\n",
        "import numpy as np\n"
      ],
      "execution_count": 0,
      "outputs": []
    },
    {
      "cell_type": "code",
      "metadata": {
        "id": "dCnxus8i3R2G",
        "colab_type": "code",
        "colab": {}
      },
      "source": [
        "import os, sys\n",
        "\n",
        "path = '/content/drive/My Drive/Team Plants/data'\n",
        "os.chdir(path)"
      ],
      "execution_count": 0,
      "outputs": []
    },
    {
      "cell_type": "markdown",
      "metadata": {
        "colab_type": "text",
        "id": "OoJMJ_V0b-Tl"
      },
      "source": [
        "# Import full dataset # "
      ]
    },
    {
      "cell_type": "markdown",
      "metadata": {
        "id": "qglC5r2-AKDC",
        "colab_type": "text"
      },
      "source": [
        "## Data processing ## "
      ]
    },
    {
      "cell_type": "code",
      "metadata": {
        "id": "55usFvQXGc0P",
        "colab_type": "code",
        "colab": {}
      },
      "source": [
        "dataset = pd.read_csv(\"climate_monthly_seasonal_2005_2010_with_spatial_attributes_filtered.csv\") #replace this with the file you want to use\n",
        "#you should import the csv which is already processed (nans removed) and with only the columns we want but not one-hot encoded\n",
        "\n",
        "from sklearn.model_selection import train_test_split\n",
        "from tqdm import tqdm\n",
        "tqdm.pandas()\n",
        "import xarray as xr\n",
        "import random\n",
        "\n",
        "random_seed = 42\n",
        "\n",
        "target = 'maize_a_2010'\n",
        "\n",
        "X = dataset.drop(target,axis=1)\n",
        "\n",
        "y = dataset[[target]]\n",
        "train_set_x, test_set_x, train_set_y, test_set_y = train_test_split(X, y, test_size=0.2, random_state=random_seed)\n",
        "del X\n",
        "del y\n"
      ],
      "execution_count": 0,
      "outputs": []
    },
    {
      "cell_type": "code",
      "metadata": {
        "id": "0tEAo-aW6TtB",
        "colab_type": "code",
        "outputId": "6429bb47-4ba3-4cf7-a2ae-af3c15026e89",
        "colab": {
          "base_uri": "https://localhost:8080/",
          "height": 456
        }
      },
      "source": [
        "train_set_x"
      ],
      "execution_count": 6,
      "outputs": [
        {
          "output_type": "execute_result",
          "data": {
            "text/html": [
              "<div>\n",
              "<style scoped>\n",
              "    .dataframe tbody tr th:only-of-type {\n",
              "        vertical-align: middle;\n",
              "    }\n",
              "\n",
              "    .dataframe tbody tr th {\n",
              "        vertical-align: top;\n",
              "    }\n",
              "\n",
              "    .dataframe thead th {\n",
              "        text-align: right;\n",
              "    }\n",
              "</style>\n",
              "<table border=\"1\" class=\"dataframe\">\n",
              "  <thead>\n",
              "    <tr style=\"text-align: right;\">\n",
              "      <th></th>\n",
              "      <th>Unnamed: 0</th>\n",
              "      <th>Unnamed: 0.1</th>\n",
              "      <th>Unnamed: 0.1.1</th>\n",
              "      <th>alloc_key</th>\n",
              "      <th>lon</th>\n",
              "      <th>lat</th>\n",
              "      <th>iso3</th>\n",
              "      <th>maize_a_2005</th>\n",
              "      <th>CDD-Q1-2010</th>\n",
              "      <th>CDD-Q2-2010</th>\n",
              "      <th>CDD-Q3-2010</th>\n",
              "      <th>CDD-Q4-2010</th>\n",
              "      <th>CDD-Q1-2005</th>\n",
              "      <th>CDD-Q2-2005</th>\n",
              "      <th>CDD-Q3-2005</th>\n",
              "      <th>CDD-Q4-2005</th>\n",
              "      <th>CFD-Q1-2010</th>\n",
              "      <th>CFD-Q2-2010</th>\n",
              "      <th>CFD-Q4-2010</th>\n",
              "      <th>CFD-Q1-2005</th>\n",
              "      <th>CFD-Q2-2005</th>\n",
              "      <th>CFD-Q4-2005</th>\n",
              "      <th>CWD-Q1-2010</th>\n",
              "      <th>CWD-Q2-2010</th>\n",
              "      <th>CWD-Q3-2010</th>\n",
              "      <th>CWD-Q4-2010</th>\n",
              "      <th>CWD-Q1-2005</th>\n",
              "      <th>CWD-Q2-2005</th>\n",
              "      <th>CWD-Q3-2005</th>\n",
              "      <th>CWD-Q4-2005</th>\n",
              "      <th>WW-Q1-2010</th>\n",
              "      <th>WW-Q2-2010</th>\n",
              "      <th>WW-Q3-2010</th>\n",
              "      <th>WW-Q4-2010</th>\n",
              "      <th>WW-Q1-2005</th>\n",
              "      <th>WW-Q2-2005</th>\n",
              "      <th>WW-Q3-2005</th>\n",
              "      <th>WW-Q4-2005</th>\n",
              "      <th>WSDI-Q1-2010</th>\n",
              "      <th>WSDI-Q2-2010</th>\n",
              "      <th>...</th>\n",
              "      <th>TXn-02-2005</th>\n",
              "      <th>TXn-03-2005</th>\n",
              "      <th>TXn-04-2005</th>\n",
              "      <th>TXn-05-2005</th>\n",
              "      <th>TXn-06-2005</th>\n",
              "      <th>TXn-07-2005</th>\n",
              "      <th>TXn-08-2005</th>\n",
              "      <th>TXn-09-2005</th>\n",
              "      <th>TXn-10-2005</th>\n",
              "      <th>TXn-11-2005</th>\n",
              "      <th>TXn-12-2005</th>\n",
              "      <th>TXx-01-2010</th>\n",
              "      <th>TXx-02-2010</th>\n",
              "      <th>TXx-03-2010</th>\n",
              "      <th>TXx-04-2010</th>\n",
              "      <th>TXx-05-2010</th>\n",
              "      <th>TXx-06-2010</th>\n",
              "      <th>TXx-07-2010</th>\n",
              "      <th>TXx-08-2010</th>\n",
              "      <th>TXx-09-2010</th>\n",
              "      <th>TXx-10-2010</th>\n",
              "      <th>TXx-11-2010</th>\n",
              "      <th>TXx-12-2010</th>\n",
              "      <th>TXx-01-2005</th>\n",
              "      <th>TXx-02-2005</th>\n",
              "      <th>TXx-03-2005</th>\n",
              "      <th>TXx-04-2005</th>\n",
              "      <th>TXx-05-2005</th>\n",
              "      <th>TXx-06-2005</th>\n",
              "      <th>TXx-07-2005</th>\n",
              "      <th>TXx-08-2005</th>\n",
              "      <th>TXx-09-2005</th>\n",
              "      <th>TXx-10-2005</th>\n",
              "      <th>TXx-11-2005</th>\n",
              "      <th>TXx-12-2005</th>\n",
              "      <th>soil_types</th>\n",
              "      <th>climate_zones</th>\n",
              "      <th>elevation</th>\n",
              "      <th>slope</th>\n",
              "      <th>irrigation</th>\n",
              "    </tr>\n",
              "  </thead>\n",
              "  <tbody>\n",
              "    <tr>\n",
              "      <th>355204</th>\n",
              "      <td>364416</td>\n",
              "      <td>364416</td>\n",
              "      <td>565289</td>\n",
              "      <td>12222643</td>\n",
              "      <td>40.208333</td>\n",
              "      <td>-11.791667</td>\n",
              "      <td>MOZ</td>\n",
              "      <td>623.9</td>\n",
              "      <td>3.923611</td>\n",
              "      <td>6.118056</td>\n",
              "      <td>29.520833</td>\n",
              "      <td>56.631944</td>\n",
              "      <td>4.000000</td>\n",
              "      <td>10.548611</td>\n",
              "      <td>47.201389</td>\n",
              "      <td>34.152778</td>\n",
              "      <td>0.000000</td>\n",
              "      <td>0.000000</td>\n",
              "      <td>0.000000</td>\n",
              "      <td>0.000000</td>\n",
              "      <td>0.000000</td>\n",
              "      <td>0.000000</td>\n",
              "      <td>17.083333</td>\n",
              "      <td>24.069444</td>\n",
              "      <td>2.000000</td>\n",
              "      <td>2.000000</td>\n",
              "      <td>20.000000</td>\n",
              "      <td>10.909722</td>\n",
              "      <td>1.076389</td>\n",
              "      <td>2.006944</td>\n",
              "      <td>0.166667</td>\n",
              "      <td>3.388889</td>\n",
              "      <td>0.000000</td>\n",
              "      <td>0.000000</td>\n",
              "      <td>0.250000</td>\n",
              "      <td>0.923611</td>\n",
              "      <td>0.000000</td>\n",
              "      <td>0.000000</td>\n",
              "      <td>0.000000</td>\n",
              "      <td>0.000000</td>\n",
              "      <td>...</td>\n",
              "      <td>908.393785</td>\n",
              "      <td>906.554170</td>\n",
              "      <td>905.158947</td>\n",
              "      <td>904.318018</td>\n",
              "      <td>904.771799</td>\n",
              "      <td>901.663620</td>\n",
              "      <td>901.719895</td>\n",
              "      <td>908.877349</td>\n",
              "      <td>905.743442</td>\n",
              "      <td>912.000439</td>\n",
              "      <td>904.165154</td>\n",
              "      <td>926.264328</td>\n",
              "      <td>926.529684</td>\n",
              "      <td>924.810166</td>\n",
              "      <td>922.873361</td>\n",
              "      <td>919.053254</td>\n",
              "      <td>912.300745</td>\n",
              "      <td>911.295880</td>\n",
              "      <td>912.857578</td>\n",
              "      <td>917.149973</td>\n",
              "      <td>922.933951</td>\n",
              "      <td>926.185872</td>\n",
              "      <td>926.645062</td>\n",
              "      <td>927.586952</td>\n",
              "      <td>923.649570</td>\n",
              "      <td>927.893631</td>\n",
              "      <td>918.196134</td>\n",
              "      <td>919.229500</td>\n",
              "      <td>914.655982</td>\n",
              "      <td>910.881853</td>\n",
              "      <td>912.928275</td>\n",
              "      <td>920.459700</td>\n",
              "      <td>921.655112</td>\n",
              "      <td>921.514699</td>\n",
              "      <td>926.703497</td>\n",
              "      <td>72</td>\n",
              "      <td>1</td>\n",
              "      <td>30.0</td>\n",
              "      <td>0.162162</td>\n",
              "      <td>0</td>\n",
              "    </tr>\n",
              "    <tr>\n",
              "      <th>419087</th>\n",
              "      <td>428752</td>\n",
              "      <td>428752</td>\n",
              "      <td>650529</td>\n",
              "      <td>6641058</td>\n",
              "      <td>-91.875000</td>\n",
              "      <td>34.708333</td>\n",
              "      <td>USA</td>\n",
              "      <td>9339.2</td>\n",
              "      <td>13.520833</td>\n",
              "      <td>9.854167</td>\n",
              "      <td>6.937500</td>\n",
              "      <td>25.375000</td>\n",
              "      <td>14.000000</td>\n",
              "      <td>22.250000</td>\n",
              "      <td>12.229167</td>\n",
              "      <td>30.062500</td>\n",
              "      <td>14.541667</td>\n",
              "      <td>1.000000</td>\n",
              "      <td>1.770833</td>\n",
              "      <td>7.000000</td>\n",
              "      <td>0.750000</td>\n",
              "      <td>2.000000</td>\n",
              "      <td>3.229167</td>\n",
              "      <td>4.000000</td>\n",
              "      <td>5.187500</td>\n",
              "      <td>4.937500</td>\n",
              "      <td>7.000000</td>\n",
              "      <td>3.000000</td>\n",
              "      <td>10.000000</td>\n",
              "      <td>3.000000</td>\n",
              "      <td>4.833333</td>\n",
              "      <td>2.083333</td>\n",
              "      <td>0.000000</td>\n",
              "      <td>2.750000</td>\n",
              "      <td>3.000000</td>\n",
              "      <td>0.000000</td>\n",
              "      <td>0.000000</td>\n",
              "      <td>3.000000</td>\n",
              "      <td>0.000000</td>\n",
              "      <td>0.000000</td>\n",
              "      <td>...</td>\n",
              "      <td>841.899771</td>\n",
              "      <td>851.245895</td>\n",
              "      <td>869.035982</td>\n",
              "      <td>879.883261</td>\n",
              "      <td>901.863073</td>\n",
              "      <td>901.879573</td>\n",
              "      <td>910.141638</td>\n",
              "      <td>899.902578</td>\n",
              "      <td>874.782134</td>\n",
              "      <td>850.373627</td>\n",
              "      <td>828.507864</td>\n",
              "      <td>865.526875</td>\n",
              "      <td>861.272446</td>\n",
              "      <td>894.588688</td>\n",
              "      <td>907.039158</td>\n",
              "      <td>920.210690</td>\n",
              "      <td>932.397455</td>\n",
              "      <td>940.577604</td>\n",
              "      <td>949.170173</td>\n",
              "      <td>928.739906</td>\n",
              "      <td>914.764879</td>\n",
              "      <td>896.216425</td>\n",
              "      <td>876.206207</td>\n",
              "      <td>875.333734</td>\n",
              "      <td>874.709742</td>\n",
              "      <td>888.017803</td>\n",
              "      <td>899.496624</td>\n",
              "      <td>914.253298</td>\n",
              "      <td>920.810230</td>\n",
              "      <td>924.410300</td>\n",
              "      <td>928.461952</td>\n",
              "      <td>922.063803</td>\n",
              "      <td>907.207299</td>\n",
              "      <td>890.933190</td>\n",
              "      <td>877.596862</td>\n",
              "      <td>31</td>\n",
              "      <td>5</td>\n",
              "      <td>59.0</td>\n",
              "      <td>0.092229</td>\n",
              "      <td>38</td>\n",
              "    </tr>\n",
              "    <tr>\n",
              "      <th>239275</th>\n",
              "      <td>247020</td>\n",
              "      <td>247020</td>\n",
              "      <td>368303</td>\n",
              "      <td>13521445</td>\n",
              "      <td>-59.625000</td>\n",
              "      <td>-22.625000</td>\n",
              "      <td>PRY</td>\n",
              "      <td>4767.1</td>\n",
              "      <td>8.625000</td>\n",
              "      <td>13.500000</td>\n",
              "      <td>39.875000</td>\n",
              "      <td>10.125000</td>\n",
              "      <td>11.000000</td>\n",
              "      <td>12.187500</td>\n",
              "      <td>44.375000</td>\n",
              "      <td>12.437500</td>\n",
              "      <td>0.000000</td>\n",
              "      <td>0.000000</td>\n",
              "      <td>0.000000</td>\n",
              "      <td>0.000000</td>\n",
              "      <td>0.000000</td>\n",
              "      <td>0.000000</td>\n",
              "      <td>11.125000</td>\n",
              "      <td>3.562500</td>\n",
              "      <td>3.000000</td>\n",
              "      <td>4.187500</td>\n",
              "      <td>6.250000</td>\n",
              "      <td>5.000000</td>\n",
              "      <td>3.375000</td>\n",
              "      <td>5.375000</td>\n",
              "      <td>1.000000</td>\n",
              "      <td>0.000000</td>\n",
              "      <td>0.000000</td>\n",
              "      <td>0.062500</td>\n",
              "      <td>0.000000</td>\n",
              "      <td>0.000000</td>\n",
              "      <td>0.000000</td>\n",
              "      <td>0.000000</td>\n",
              "      <td>5.250000</td>\n",
              "      <td>0.375000</td>\n",
              "      <td>...</td>\n",
              "      <td>906.545441</td>\n",
              "      <td>906.071720</td>\n",
              "      <td>882.036423</td>\n",
              "      <td>873.265734</td>\n",
              "      <td>881.727446</td>\n",
              "      <td>871.462231</td>\n",
              "      <td>873.826921</td>\n",
              "      <td>882.332533</td>\n",
              "      <td>893.978527</td>\n",
              "      <td>904.358011</td>\n",
              "      <td>907.887192</td>\n",
              "      <td>941.128468</td>\n",
              "      <td>940.239595</td>\n",
              "      <td>933.372713</td>\n",
              "      <td>929.084911</td>\n",
              "      <td>911.448999</td>\n",
              "      <td>909.109278</td>\n",
              "      <td>919.175514</td>\n",
              "      <td>922.518522</td>\n",
              "      <td>943.112972</td>\n",
              "      <td>940.464275</td>\n",
              "      <td>934.252159</td>\n",
              "      <td>944.581396</td>\n",
              "      <td>935.103764</td>\n",
              "      <td>936.803442</td>\n",
              "      <td>929.950758</td>\n",
              "      <td>926.498344</td>\n",
              "      <td>923.016140</td>\n",
              "      <td>914.946199</td>\n",
              "      <td>920.494280</td>\n",
              "      <td>931.865175</td>\n",
              "      <td>931.209604</td>\n",
              "      <td>941.136791</td>\n",
              "      <td>938.593412</td>\n",
              "      <td>936.987637</td>\n",
              "      <td>87</td>\n",
              "      <td>1</td>\n",
              "      <td>122.0</td>\n",
              "      <td>0.000000</td>\n",
              "      <td>0</td>\n",
              "    </tr>\n",
              "    <tr>\n",
              "      <th>130975</th>\n",
              "      <td>135916</td>\n",
              "      <td>135916</td>\n",
              "      <td>228315</td>\n",
              "      <td>4982537</td>\n",
              "      <td>31.375000</td>\n",
              "      <td>48.541667</td>\n",
              "      <td>UKR</td>\n",
              "      <td>3918.9</td>\n",
              "      <td>9.000000</td>\n",
              "      <td>16.250000</td>\n",
              "      <td>14.416667</td>\n",
              "      <td>14.750000</td>\n",
              "      <td>15.000000</td>\n",
              "      <td>17.812500</td>\n",
              "      <td>11.041667</td>\n",
              "      <td>40.437500</td>\n",
              "      <td>47.687500</td>\n",
              "      <td>19.000000</td>\n",
              "      <td>4.750000</td>\n",
              "      <td>29.833333</td>\n",
              "      <td>16.000000</td>\n",
              "      <td>9.000000</td>\n",
              "      <td>7.333333</td>\n",
              "      <td>8.270833</td>\n",
              "      <td>9.583333</td>\n",
              "      <td>3.562500</td>\n",
              "      <td>6.020833</td>\n",
              "      <td>6.000000</td>\n",
              "      <td>4.333333</td>\n",
              "      <td>3.687500</td>\n",
              "      <td>1.437500</td>\n",
              "      <td>0.770833</td>\n",
              "      <td>0.875000</td>\n",
              "      <td>1.250000</td>\n",
              "      <td>1.687500</td>\n",
              "      <td>0.000000</td>\n",
              "      <td>0.750000</td>\n",
              "      <td>0.000000</td>\n",
              "      <td>0.000000</td>\n",
              "      <td>7.000000</td>\n",
              "      <td>...</td>\n",
              "      <td>800.122006</td>\n",
              "      <td>810.795009</td>\n",
              "      <td>850.307720</td>\n",
              "      <td>867.334359</td>\n",
              "      <td>871.597658</td>\n",
              "      <td>884.977369</td>\n",
              "      <td>883.727970</td>\n",
              "      <td>875.120321</td>\n",
              "      <td>845.058563</td>\n",
              "      <td>824.565187</td>\n",
              "      <td>809.948702</td>\n",
              "      <td>830.964038</td>\n",
              "      <td>833.400040</td>\n",
              "      <td>853.746532</td>\n",
              "      <td>877.735928</td>\n",
              "      <td>895.427663</td>\n",
              "      <td>913.139800</td>\n",
              "      <td>913.448381</td>\n",
              "      <td>922.037959</td>\n",
              "      <td>893.713789</td>\n",
              "      <td>864.877017</td>\n",
              "      <td>865.444504</td>\n",
              "      <td>840.833471</td>\n",
              "      <td>846.299822</td>\n",
              "      <td>827.381402</td>\n",
              "      <td>848.789111</td>\n",
              "      <td>877.089631</td>\n",
              "      <td>897.691255</td>\n",
              "      <td>901.947215</td>\n",
              "      <td>911.004962</td>\n",
              "      <td>912.444956</td>\n",
              "      <td>900.089669</td>\n",
              "      <td>880.499061</td>\n",
              "      <td>851.672105</td>\n",
              "      <td>839.321878</td>\n",
              "      <td>16</td>\n",
              "      <td>5</td>\n",
              "      <td>157.0</td>\n",
              "      <td>0.105993</td>\n",
              "      <td>1</td>\n",
              "    </tr>\n",
              "    <tr>\n",
              "      <th>110221</th>\n",
              "      <td>115023</td>\n",
              "      <td>115023</td>\n",
              "      <td>171132</td>\n",
              "      <td>4230802</td>\n",
              "      <td>-113.208333</td>\n",
              "      <td>54.791667</td>\n",
              "      <td>CAN</td>\n",
              "      <td>5886.6</td>\n",
              "      <td>25.000000</td>\n",
              "      <td>13.680556</td>\n",
              "      <td>6.250000</td>\n",
              "      <td>20.590278</td>\n",
              "      <td>20.333333</td>\n",
              "      <td>17.020833</td>\n",
              "      <td>9.000000</td>\n",
              "      <td>13.333333</td>\n",
              "      <td>90.000000</td>\n",
              "      <td>29.826389</td>\n",
              "      <td>25.000000</td>\n",
              "      <td>67.312500</td>\n",
              "      <td>26.076389</td>\n",
              "      <td>14.000000</td>\n",
              "      <td>2.000000</td>\n",
              "      <td>5.013889</td>\n",
              "      <td>5.319444</td>\n",
              "      <td>2.090278</td>\n",
              "      <td>4.597222</td>\n",
              "      <td>4.166667</td>\n",
              "      <td>5.250000</td>\n",
              "      <td>3.083333</td>\n",
              "      <td>0.000000</td>\n",
              "      <td>2.000000</td>\n",
              "      <td>1.000000</td>\n",
              "      <td>0.000000</td>\n",
              "      <td>0.076389</td>\n",
              "      <td>1.236111</td>\n",
              "      <td>1.000000</td>\n",
              "      <td>0.000000</td>\n",
              "      <td>0.000000</td>\n",
              "      <td>6.083333</td>\n",
              "      <td>...</td>\n",
              "      <td>791.707462</td>\n",
              "      <td>814.553952</td>\n",
              "      <td>839.399404</td>\n",
              "      <td>853.529739</td>\n",
              "      <td>866.058341</td>\n",
              "      <td>868.541636</td>\n",
              "      <td>860.763337</td>\n",
              "      <td>853.140265</td>\n",
              "      <td>838.097342</td>\n",
              "      <td>800.278235</td>\n",
              "      <td>784.456306</td>\n",
              "      <td>815.983930</td>\n",
              "      <td>824.256163</td>\n",
              "      <td>852.501682</td>\n",
              "      <td>879.949702</td>\n",
              "      <td>876.555659</td>\n",
              "      <td>891.302988</td>\n",
              "      <td>899.741737</td>\n",
              "      <td>894.929103</td>\n",
              "      <td>882.201393</td>\n",
              "      <td>869.860325</td>\n",
              "      <td>840.778124</td>\n",
              "      <td>807.030689</td>\n",
              "      <td>816.115447</td>\n",
              "      <td>840.415870</td>\n",
              "      <td>846.736602</td>\n",
              "      <td>874.761002</td>\n",
              "      <td>883.004927</td>\n",
              "      <td>895.358650</td>\n",
              "      <td>896.814210</td>\n",
              "      <td>897.715225</td>\n",
              "      <td>874.581659</td>\n",
              "      <td>864.904186</td>\n",
              "      <td>856.750083</td>\n",
              "      <td>844.021377</td>\n",
              "      <td>48</td>\n",
              "      <td>5</td>\n",
              "      <td>571.0</td>\n",
              "      <td>0.128953</td>\n",
              "      <td>0</td>\n",
              "    </tr>\n",
              "    <tr>\n",
              "      <th>...</th>\n",
              "      <td>...</td>\n",
              "      <td>...</td>\n",
              "      <td>...</td>\n",
              "      <td>...</td>\n",
              "      <td>...</td>\n",
              "      <td>...</td>\n",
              "      <td>...</td>\n",
              "      <td>...</td>\n",
              "      <td>...</td>\n",
              "      <td>...</td>\n",
              "      <td>...</td>\n",
              "      <td>...</td>\n",
              "      <td>...</td>\n",
              "      <td>...</td>\n",
              "      <td>...</td>\n",
              "      <td>...</td>\n",
              "      <td>...</td>\n",
              "      <td>...</td>\n",
              "      <td>...</td>\n",
              "      <td>...</td>\n",
              "      <td>...</td>\n",
              "      <td>...</td>\n",
              "      <td>...</td>\n",
              "      <td>...</td>\n",
              "      <td>...</td>\n",
              "      <td>...</td>\n",
              "      <td>...</td>\n",
              "      <td>...</td>\n",
              "      <td>...</td>\n",
              "      <td>...</td>\n",
              "      <td>...</td>\n",
              "      <td>...</td>\n",
              "      <td>...</td>\n",
              "      <td>...</td>\n",
              "      <td>...</td>\n",
              "      <td>...</td>\n",
              "      <td>...</td>\n",
              "      <td>...</td>\n",
              "      <td>...</td>\n",
              "      <td>...</td>\n",
              "      <td>...</td>\n",
              "      <td>...</td>\n",
              "      <td>...</td>\n",
              "      <td>...</td>\n",
              "      <td>...</td>\n",
              "      <td>...</td>\n",
              "      <td>...</td>\n",
              "      <td>...</td>\n",
              "      <td>...</td>\n",
              "      <td>...</td>\n",
              "      <td>...</td>\n",
              "      <td>...</td>\n",
              "      <td>...</td>\n",
              "      <td>...</td>\n",
              "      <td>...</td>\n",
              "      <td>...</td>\n",
              "      <td>...</td>\n",
              "      <td>...</td>\n",
              "      <td>...</td>\n",
              "      <td>...</td>\n",
              "      <td>...</td>\n",
              "      <td>...</td>\n",
              "      <td>...</td>\n",
              "      <td>...</td>\n",
              "      <td>...</td>\n",
              "      <td>...</td>\n",
              "      <td>...</td>\n",
              "      <td>...</td>\n",
              "      <td>...</td>\n",
              "      <td>...</td>\n",
              "      <td>...</td>\n",
              "      <td>...</td>\n",
              "      <td>...</td>\n",
              "      <td>...</td>\n",
              "      <td>...</td>\n",
              "      <td>...</td>\n",
              "      <td>...</td>\n",
              "      <td>...</td>\n",
              "      <td>...</td>\n",
              "      <td>...</td>\n",
              "      <td>...</td>\n",
              "    </tr>\n",
              "    <tr>\n",
              "      <th>259178</th>\n",
              "      <td>267116</td>\n",
              "      <td>267116</td>\n",
              "      <td>392600</td>\n",
              "      <td>15261440</td>\n",
              "      <td>-60.041667</td>\n",
              "      <td>-37.125000</td>\n",
              "      <td>ARG</td>\n",
              "      <td>6783.9</td>\n",
              "      <td>6.416667</td>\n",
              "      <td>24.812500</td>\n",
              "      <td>13.000000</td>\n",
              "      <td>8.437500</td>\n",
              "      <td>7.895833</td>\n",
              "      <td>28.812500</td>\n",
              "      <td>10.000000</td>\n",
              "      <td>17.562500</td>\n",
              "      <td>0.000000</td>\n",
              "      <td>2.000000</td>\n",
              "      <td>1.000000</td>\n",
              "      <td>0.000000</td>\n",
              "      <td>1.750000</td>\n",
              "      <td>3.000000</td>\n",
              "      <td>3.000000</td>\n",
              "      <td>4.000000</td>\n",
              "      <td>3.000000</td>\n",
              "      <td>3.000000</td>\n",
              "      <td>5.375000</td>\n",
              "      <td>3.875000</td>\n",
              "      <td>3.000000</td>\n",
              "      <td>3.437500</td>\n",
              "      <td>3.458333</td>\n",
              "      <td>1.000000</td>\n",
              "      <td>1.541667</td>\n",
              "      <td>1.687500</td>\n",
              "      <td>4.000000</td>\n",
              "      <td>0.000000</td>\n",
              "      <td>1.000000</td>\n",
              "      <td>0.812500</td>\n",
              "      <td>0.000000</td>\n",
              "      <td>0.000000</td>\n",
              "      <td>...</td>\n",
              "      <td>889.788423</td>\n",
              "      <td>880.395236</td>\n",
              "      <td>862.315240</td>\n",
              "      <td>855.247999</td>\n",
              "      <td>848.189603</td>\n",
              "      <td>844.135787</td>\n",
              "      <td>845.081171</td>\n",
              "      <td>850.580022</td>\n",
              "      <td>864.159236</td>\n",
              "      <td>879.457476</td>\n",
              "      <td>877.636742</td>\n",
              "      <td>921.747295</td>\n",
              "      <td>910.866094</td>\n",
              "      <td>909.652884</td>\n",
              "      <td>898.572873</td>\n",
              "      <td>886.339270</td>\n",
              "      <td>875.697435</td>\n",
              "      <td>875.344306</td>\n",
              "      <td>886.098457</td>\n",
              "      <td>886.376015</td>\n",
              "      <td>895.835179</td>\n",
              "      <td>903.359943</td>\n",
              "      <td>922.618679</td>\n",
              "      <td>922.979172</td>\n",
              "      <td>918.674417</td>\n",
              "      <td>906.031939</td>\n",
              "      <td>898.562558</td>\n",
              "      <td>891.146406</td>\n",
              "      <td>871.013318</td>\n",
              "      <td>878.055774</td>\n",
              "      <td>876.559456</td>\n",
              "      <td>885.826038</td>\n",
              "      <td>905.158101</td>\n",
              "      <td>915.558517</td>\n",
              "      <td>909.115356</td>\n",
              "      <td>79</td>\n",
              "      <td>2</td>\n",
              "      <td>46.0</td>\n",
              "      <td>0.000000</td>\n",
              "      <td>1</td>\n",
              "    </tr>\n",
              "    <tr>\n",
              "      <th>365838</th>\n",
              "      <td>375164</td>\n",
              "      <td>375164</td>\n",
              "      <td>577382</td>\n",
              "      <td>12792449</td>\n",
              "      <td>24.041667</td>\n",
              "      <td>-16.541667</td>\n",
              "      <td>ZMB</td>\n",
              "      <td>1894.8</td>\n",
              "      <td>3.756944</td>\n",
              "      <td>38.000000</td>\n",
              "      <td>92.000000</td>\n",
              "      <td>52.090278</td>\n",
              "      <td>8.000000</td>\n",
              "      <td>33.340278</td>\n",
              "      <td>92.000000</td>\n",
              "      <td>65.000000</td>\n",
              "      <td>0.000000</td>\n",
              "      <td>0.000000</td>\n",
              "      <td>0.000000</td>\n",
              "      <td>0.000000</td>\n",
              "      <td>0.000000</td>\n",
              "      <td>0.000000</td>\n",
              "      <td>19.000000</td>\n",
              "      <td>15.000000</td>\n",
              "      <td>0.000000</td>\n",
              "      <td>12.000000</td>\n",
              "      <td>19.659722</td>\n",
              "      <td>5.076389</td>\n",
              "      <td>0.000000</td>\n",
              "      <td>10.000000</td>\n",
              "      <td>0.000000</td>\n",
              "      <td>0.000000</td>\n",
              "      <td>0.000000</td>\n",
              "      <td>0.000000</td>\n",
              "      <td>1.166667</td>\n",
              "      <td>0.000000</td>\n",
              "      <td>0.000000</td>\n",
              "      <td>0.000000</td>\n",
              "      <td>5.784722</td>\n",
              "      <td>5.201389</td>\n",
              "      <td>...</td>\n",
              "      <td>901.969312</td>\n",
              "      <td>905.232911</td>\n",
              "      <td>906.722480</td>\n",
              "      <td>904.697588</td>\n",
              "      <td>904.713907</td>\n",
              "      <td>896.225394</td>\n",
              "      <td>908.343826</td>\n",
              "      <td>913.242728</td>\n",
              "      <td>922.633307</td>\n",
              "      <td>904.449632</td>\n",
              "      <td>899.930696</td>\n",
              "      <td>929.556125</td>\n",
              "      <td>928.925239</td>\n",
              "      <td>930.764246</td>\n",
              "      <td>919.576879</td>\n",
              "      <td>923.315144</td>\n",
              "      <td>911.511231</td>\n",
              "      <td>911.493019</td>\n",
              "      <td>917.723335</td>\n",
              "      <td>931.365071</td>\n",
              "      <td>932.865242</td>\n",
              "      <td>932.393093</td>\n",
              "      <td>922.004914</td>\n",
              "      <td>931.249060</td>\n",
              "      <td>925.443427</td>\n",
              "      <td>933.465286</td>\n",
              "      <td>923.932107</td>\n",
              "      <td>921.032430</td>\n",
              "      <td>914.515001</td>\n",
              "      <td>911.670064</td>\n",
              "      <td>923.455470</td>\n",
              "      <td>927.075040</td>\n",
              "      <td>937.494943</td>\n",
              "      <td>944.427231</td>\n",
              "      <td>931.601833</td>\n",
              "      <td>71</td>\n",
              "      <td>1</td>\n",
              "      <td>1097.0</td>\n",
              "      <td>0.000000</td>\n",
              "      <td>1</td>\n",
              "    </tr>\n",
              "    <tr>\n",
              "      <th>131932</th>\n",
              "      <td>136873</td>\n",
              "      <td>136873</td>\n",
              "      <td>229540</td>\n",
              "      <td>5012197</td>\n",
              "      <td>3.041667</td>\n",
              "      <td>48.291667</td>\n",
              "      <td>FRA</td>\n",
              "      <td>10692.4</td>\n",
              "      <td>10.000000</td>\n",
              "      <td>17.048611</td>\n",
              "      <td>12.916667</td>\n",
              "      <td>9.805556</td>\n",
              "      <td>13.000000</td>\n",
              "      <td>9.250000</td>\n",
              "      <td>10.902778</td>\n",
              "      <td>12.631944</td>\n",
              "      <td>12.048611</td>\n",
              "      <td>7.166667</td>\n",
              "      <td>5.583333</td>\n",
              "      <td>9.000000</td>\n",
              "      <td>4.076389</td>\n",
              "      <td>7.451389</td>\n",
              "      <td>8.000000</td>\n",
              "      <td>7.000000</td>\n",
              "      <td>5.000000</td>\n",
              "      <td>7.166667</td>\n",
              "      <td>7.583333</td>\n",
              "      <td>6.000000</td>\n",
              "      <td>6.951389</td>\n",
              "      <td>4.000000</td>\n",
              "      <td>2.083333</td>\n",
              "      <td>0.048611</td>\n",
              "      <td>2.368056</td>\n",
              "      <td>2.000000</td>\n",
              "      <td>2.951389</td>\n",
              "      <td>1.569444</td>\n",
              "      <td>1.847222</td>\n",
              "      <td>1.666667</td>\n",
              "      <td>0.000000</td>\n",
              "      <td>0.000000</td>\n",
              "      <td>...</td>\n",
              "      <td>827.585120</td>\n",
              "      <td>842.328509</td>\n",
              "      <td>855.181718</td>\n",
              "      <td>865.269475</td>\n",
              "      <td>879.725944</td>\n",
              "      <td>881.769943</td>\n",
              "      <td>879.779799</td>\n",
              "      <td>873.820085</td>\n",
              "      <td>867.076038</td>\n",
              "      <td>837.528049</td>\n",
              "      <td>827.696560</td>\n",
              "      <td>841.496289</td>\n",
              "      <td>855.654165</td>\n",
              "      <td>872.309721</td>\n",
              "      <td>889.945208</td>\n",
              "      <td>886.870227</td>\n",
              "      <td>904.503862</td>\n",
              "      <td>918.156993</td>\n",
              "      <td>910.313118</td>\n",
              "      <td>898.388270</td>\n",
              "      <td>883.957682</td>\n",
              "      <td>861.152655</td>\n",
              "      <td>839.522412</td>\n",
              "      <td>852.395690</td>\n",
              "      <td>847.303125</td>\n",
              "      <td>872.879859</td>\n",
              "      <td>886.997122</td>\n",
              "      <td>905.213451</td>\n",
              "      <td>916.211347</td>\n",
              "      <td>916.998434</td>\n",
              "      <td>912.621913</td>\n",
              "      <td>902.325542</td>\n",
              "      <td>890.029845</td>\n",
              "      <td>857.645555</td>\n",
              "      <td>853.035578</td>\n",
              "      <td>22</td>\n",
              "      <td>4</td>\n",
              "      <td>145.0</td>\n",
              "      <td>0.460638</td>\n",
              "      <td>3</td>\n",
              "    </tr>\n",
              "    <tr>\n",
              "      <th>146867</th>\n",
              "      <td>151973</td>\n",
              "      <td>151973</td>\n",
              "      <td>248176</td>\n",
              "      <td>5522284</td>\n",
              "      <td>10.291667</td>\n",
              "      <td>44.041667</td>\n",
              "      <td>ITA</td>\n",
              "      <td>1007.9</td>\n",
              "      <td>7.395833</td>\n",
              "      <td>6.562500</td>\n",
              "      <td>12.819444</td>\n",
              "      <td>6.000000</td>\n",
              "      <td>25.236111</td>\n",
              "      <td>18.750000</td>\n",
              "      <td>16.500000</td>\n",
              "      <td>10.000000</td>\n",
              "      <td>16.305556</td>\n",
              "      <td>6.284722</td>\n",
              "      <td>3.402778</td>\n",
              "      <td>20.020833</td>\n",
              "      <td>9.062500</td>\n",
              "      <td>5.222222</td>\n",
              "      <td>6.000000</td>\n",
              "      <td>7.368056</td>\n",
              "      <td>8.854167</td>\n",
              "      <td>5.951389</td>\n",
              "      <td>7.312500</td>\n",
              "      <td>4.569444</td>\n",
              "      <td>6.166667</td>\n",
              "      <td>7.000000</td>\n",
              "      <td>3.465278</td>\n",
              "      <td>0.534722</td>\n",
              "      <td>0.000000</td>\n",
              "      <td>4.097222</td>\n",
              "      <td>1.451389</td>\n",
              "      <td>0.000000</td>\n",
              "      <td>0.000000</td>\n",
              "      <td>2.486111</td>\n",
              "      <td>0.000000</td>\n",
              "      <td>0.000000</td>\n",
              "      <td>...</td>\n",
              "      <td>823.919927</td>\n",
              "      <td>834.047430</td>\n",
              "      <td>844.447166</td>\n",
              "      <td>861.791834</td>\n",
              "      <td>873.652775</td>\n",
              "      <td>884.626381</td>\n",
              "      <td>883.886366</td>\n",
              "      <td>868.370132</td>\n",
              "      <td>858.551423</td>\n",
              "      <td>842.951807</td>\n",
              "      <td>825.561399</td>\n",
              "      <td>838.979555</td>\n",
              "      <td>847.833260</td>\n",
              "      <td>855.452004</td>\n",
              "      <td>871.137657</td>\n",
              "      <td>874.777696</td>\n",
              "      <td>891.259308</td>\n",
              "      <td>903.314119</td>\n",
              "      <td>897.511132</td>\n",
              "      <td>886.248438</td>\n",
              "      <td>871.075932</td>\n",
              "      <td>857.664757</td>\n",
              "      <td>849.510379</td>\n",
              "      <td>846.178094</td>\n",
              "      <td>842.203612</td>\n",
              "      <td>855.359385</td>\n",
              "      <td>865.777764</td>\n",
              "      <td>880.846220</td>\n",
              "      <td>897.806704</td>\n",
              "      <td>904.843130</td>\n",
              "      <td>901.023226</td>\n",
              "      <td>890.261422</td>\n",
              "      <td>872.218074</td>\n",
              "      <td>859.383771</td>\n",
              "      <td>842.030051</td>\n",
              "      <td>8</td>\n",
              "      <td>3</td>\n",
              "      <td>1124.0</td>\n",
              "      <td>4.577572</td>\n",
              "      <td>1</td>\n",
              "    </tr>\n",
              "    <tr>\n",
              "      <th>121958</th>\n",
              "      <td>126887</td>\n",
              "      <td>126887</td>\n",
              "      <td>211917</td>\n",
              "      <td>4662340</td>\n",
              "      <td>14.958333</td>\n",
              "      <td>51.208333</td>\n",
              "      <td>DEU</td>\n",
              "      <td>5006.3</td>\n",
              "      <td>8.986111</td>\n",
              "      <td>8.000000</td>\n",
              "      <td>11.000000</td>\n",
              "      <td>15.048611</td>\n",
              "      <td>16.256944</td>\n",
              "      <td>9.381944</td>\n",
              "      <td>9.201389</td>\n",
              "      <td>19.951389</td>\n",
              "      <td>64.687500</td>\n",
              "      <td>10.687500</td>\n",
              "      <td>7.000000</td>\n",
              "      <td>17.777778</td>\n",
              "      <td>13.472222</td>\n",
              "      <td>9.368056</td>\n",
              "      <td>6.000000</td>\n",
              "      <td>7.000000</td>\n",
              "      <td>7.069444</td>\n",
              "      <td>5.034722</td>\n",
              "      <td>8.048611</td>\n",
              "      <td>5.000000</td>\n",
              "      <td>6.034722</td>\n",
              "      <td>8.000000</td>\n",
              "      <td>1.166667</td>\n",
              "      <td>0.000000</td>\n",
              "      <td>3.965278</td>\n",
              "      <td>3.520833</td>\n",
              "      <td>4.118056</td>\n",
              "      <td>1.402778</td>\n",
              "      <td>1.000000</td>\n",
              "      <td>2.083333</td>\n",
              "      <td>0.000000</td>\n",
              "      <td>0.000000</td>\n",
              "      <td>...</td>\n",
              "      <td>812.294461</td>\n",
              "      <td>826.720824</td>\n",
              "      <td>846.455319</td>\n",
              "      <td>857.848215</td>\n",
              "      <td>867.868458</td>\n",
              "      <td>876.376181</td>\n",
              "      <td>870.556748</td>\n",
              "      <td>869.786023</td>\n",
              "      <td>851.483268</td>\n",
              "      <td>829.359592</td>\n",
              "      <td>814.633749</td>\n",
              "      <td>819.592308</td>\n",
              "      <td>838.521688</td>\n",
              "      <td>864.094343</td>\n",
              "      <td>880.373918</td>\n",
              "      <td>877.947183</td>\n",
              "      <td>910.119853</td>\n",
              "      <td>921.930993</td>\n",
              "      <td>909.418632</td>\n",
              "      <td>886.482626</td>\n",
              "      <td>862.352861</td>\n",
              "      <td>862.642028</td>\n",
              "      <td>828.769552</td>\n",
              "      <td>846.483081</td>\n",
              "      <td>836.900506</td>\n",
              "      <td>855.518894</td>\n",
              "      <td>881.577301</td>\n",
              "      <td>902.793776</td>\n",
              "      <td>903.731048</td>\n",
              "      <td>912.031068</td>\n",
              "      <td>898.966533</td>\n",
              "      <td>895.263908</td>\n",
              "      <td>875.459903</td>\n",
              "      <td>846.214537</td>\n",
              "      <td>836.327956</td>\n",
              "      <td>7</td>\n",
              "      <td>4</td>\n",
              "      <td>246.0</td>\n",
              "      <td>0.345629</td>\n",
              "      <td>4</td>\n",
              "    </tr>\n",
              "  </tbody>\n",
              "</table>\n",
              "<p>341047 rows × 426 columns</p>\n",
              "</div>"
            ],
            "text/plain": [
              "        Unnamed: 0  Unnamed: 0.1  ...     slope  irrigation\n",
              "355204      364416        364416  ...  0.162162           0\n",
              "419087      428752        428752  ...  0.092229          38\n",
              "239275      247020        247020  ...  0.000000           0\n",
              "130975      135916        135916  ...  0.105993           1\n",
              "110221      115023        115023  ...  0.128953           0\n",
              "...            ...           ...  ...       ...         ...\n",
              "259178      267116        267116  ...  0.000000           1\n",
              "365838      375164        375164  ...  0.000000           1\n",
              "131932      136873        136873  ...  0.460638           3\n",
              "146867      151973        151973  ...  4.577572           1\n",
              "121958      126887        126887  ...  0.345629           4\n",
              "\n",
              "[341047 rows x 426 columns]"
            ]
          },
          "metadata": {
            "tags": []
          },
          "execution_count": 6
        }
      ]
    },
    {
      "cell_type": "markdown",
      "metadata": {
        "id": "X5iL1UNtCn6z",
        "colab_type": "text"
      },
      "source": [
        "### One-hot encode categorical features ###\n"
      ]
    },
    {
      "cell_type": "code",
      "metadata": {
        "id": "coheRmoQN5c5",
        "colab_type": "code",
        "colab": {}
      },
      "source": [
        "from sklearn.preprocessing import OneHotEncoder\n",
        "from sklearn.compose import ColumnTransformer\n",
        "\n",
        "#specify the names of categorical variables \n",
        "\n",
        "categorical_variables = [\"climate_zones\",\n",
        "                         \"soil_types\",\n",
        "                         \"iso3\"\n",
        "                       \n",
        "                         ]\n",
        "\n",
        "#find the column indices for the categorical features\n",
        "\n",
        "indices = [train_set_x.columns.get_loc(c) for c in categorical_variables]\n",
        "\n",
        "#list of all values for the categorical variables\n",
        "\n",
        "categories=[]\n",
        "\n",
        "for i in categorical_variables:\n",
        "  a = sorted(list(dataset[i].unique()))\n",
        "  categories.append(a)\n",
        "\n",
        "\n",
        "#create the transformer\n",
        "\n",
        "ct = ColumnTransformer([\n",
        "                        (\"selector\", OneHotEncoder(categories=categories), indices)], \n",
        "                        remainder = 'passthrough')\n",
        "\n",
        "#apply fit and transform\n",
        "\n",
        "train_set_x_prepared = ct.fit_transform(train_set_x)\n",
        "test_set_x_prepared = ct.transform(test_set_x)"
      ],
      "execution_count": 0,
      "outputs": []
    },
    {
      "cell_type": "markdown",
      "metadata": {
        "id": "d2ss8SnsIVGg",
        "colab_type": "text"
      },
      "source": [
        "# Model exploration # "
      ]
    },
    {
      "cell_type": "markdown",
      "metadata": {
        "id": "KluTcmZTbHJ1",
        "colab_type": "text"
      },
      "source": [
        "## Which models can at least fit the training data? ##"
      ]
    },
    {
      "cell_type": "markdown",
      "metadata": {
        "id": "g_ogXEQ2bLVE",
        "colab_type": "text"
      },
      "source": [
        "### Random Forests ###\n"
      ]
    },
    {
      "cell_type": "markdown",
      "metadata": {
        "id": "TNZ7N6P1WQTj",
        "colab_type": "text"
      },
      "source": [
        "For this example we can run without doing the feature selection above."
      ]
    },
    {
      "cell_type": "code",
      "metadata": {
        "id": "HLFNZB5TIUCC",
        "colab_type": "code",
        "outputId": "69706118-ef4a-4aff-a883-b7640c19e1c4",
        "colab": {
          "base_uri": "https://localhost:8080/",
          "height": 190
        }
      },
      "source": [
        "from sklearn.ensemble import RandomForestRegressor\n",
        "\n",
        "rnd_reg = RandomForestRegressor(n_estimators=15, n_jobs=-1)\n",
        "rnd_reg.fit(train_set_x_prepared,train_set_y)"
      ],
      "execution_count": 0,
      "outputs": [
        {
          "output_type": "stream",
          "text": [
            "/usr/local/lib/python3.6/dist-packages/ipykernel_launcher.py:4: DataConversionWarning: A column-vector y was passed when a 1d array was expected. Please change the shape of y to (n_samples,), for example using ravel().\n",
            "  after removing the cwd from sys.path.\n"
          ],
          "name": "stderr"
        },
        {
          "output_type": "execute_result",
          "data": {
            "text/plain": [
              "RandomForestRegressor(bootstrap=True, ccp_alpha=0.0, criterion='mse',\n",
              "                      max_depth=None, max_features='auto', max_leaf_nodes=None,\n",
              "                      max_samples=None, min_impurity_decrease=0.0,\n",
              "                      min_impurity_split=None, min_samples_leaf=1,\n",
              "                      min_samples_split=2, min_weight_fraction_leaf=0.0,\n",
              "                      n_estimators=15, n_jobs=-1, oob_score=False,\n",
              "                      random_state=None, verbose=0, warm_start=False)"
            ]
          },
          "metadata": {
            "tags": []
          },
          "execution_count": 30
        }
      ]
    },
    {
      "cell_type": "markdown",
      "metadata": {
        "id": "xLJVEFcSJqRD",
        "colab_type": "text"
      },
      "source": [
        "Can we overfit to the training set? Does the model have enough sophisitication to overfit to the trainin set..."
      ]
    },
    {
      "cell_type": "code",
      "metadata": {
        "id": "hpOcxA0GIi6H",
        "colab_type": "code",
        "outputId": "480d75f0-9acf-40ff-a51f-ec3081f90f55",
        "colab": {
          "base_uri": "https://localhost:8080/",
          "height": 34
        }
      },
      "source": [
        "rnd_reg.score(train_set_x_prepared,train_set_y)"
      ],
      "execution_count": 0,
      "outputs": [
        {
          "output_type": "execute_result",
          "data": {
            "text/plain": [
              "0.9945966246464768"
            ]
          },
          "metadata": {
            "tags": []
          },
          "execution_count": 31
        }
      ]
    },
    {
      "cell_type": "code",
      "metadata": {
        "id": "NzUH2ROsESAs",
        "colab_type": "code",
        "outputId": "17a850f3-4324-4b7b-95b7-d8a4077419d2",
        "colab": {
          "base_uri": "https://localhost:8080/",
          "height": 34
        }
      },
      "source": [
        "rnd_reg.score(test_set_x_prepared,test_set_y)"
      ],
      "execution_count": 0,
      "outputs": [
        {
          "output_type": "execute_result",
          "data": {
            "text/plain": [
              "0.9686268838624702"
            ]
          },
          "metadata": {
            "tags": []
          },
          "execution_count": 32
        }
      ]
    },
    {
      "cell_type": "markdown",
      "metadata": {
        "id": "GRriw0SWWrnZ",
        "colab_type": "text"
      },
      "source": [
        "It could overfit if I train with enough max leaf nodes.\n",
        "\n",
        "\n"
      ]
    },
    {
      "cell_type": "markdown",
      "metadata": {
        "id": "AHBNJ6ukEJDk",
        "colab_type": "text"
      },
      "source": [
        "#### H2o implementation ####"
      ]
    },
    {
      "cell_type": "code",
      "metadata": {
        "id": "WWLuoTJaMbq0",
        "colab_type": "code",
        "outputId": "75032aba-40de-4332-952a-e81a01892193",
        "colab": {
          "base_uri": "https://localhost:8080/",
          "height": 71
        }
      },
      "source": [
        "h2o.shutdown()"
      ],
      "execution_count": 0,
      "outputs": [
        {
          "output_type": "stream",
          "text": [
            "/usr/local/lib/python3.6/dist-packages/ipykernel_launcher.py:1: DeprecationWarning: Deprecated, use ``h2o.cluster().shutdown()``.\n",
            "  \"\"\"Entry point for launching an IPython kernel.\n"
          ],
          "name": "stderr"
        },
        {
          "output_type": "stream",
          "text": [
            "H2O session _sid_bc7e closed.\n"
          ],
          "name": "stdout"
        }
      ]
    },
    {
      "cell_type": "code",
      "metadata": {
        "id": "GSEfhu3qVXKh",
        "colab_type": "code",
        "outputId": "58ac8697-4aa6-4f09-9966-2724f63ff95d",
        "colab": {
          "base_uri": "https://localhost:8080/",
          "height": 537
        }
      },
      "source": [
        "import h2o\n",
        "h2o.init(nthreads=-1)\n",
        "#h2o.init(nthreads = -1, max_mem_size = 12)\n"
      ],
      "execution_count": 0,
      "outputs": [
        {
          "output_type": "stream",
          "text": [
            "Checking whether there is an H2O instance running at http://localhost:54321 ..... not found.\n",
            "Attempting to start a local H2O server...\n",
            "  Java Version: openjdk version \"11.0.6\" 2020-01-14; OpenJDK Runtime Environment (build 11.0.6+10-post-Ubuntu-1ubuntu118.04.1); OpenJDK 64-Bit Server VM (build 11.0.6+10-post-Ubuntu-1ubuntu118.04.1, mixed mode, sharing)\n",
            "  Starting server from /usr/local/lib/python3.6/dist-packages/h2o/backend/bin/h2o.jar\n",
            "  Ice root: /tmp/tmpmzbs916r\n",
            "  JVM stdout: /tmp/tmpmzbs916r/h2o_unknownUser_started_from_python.out\n",
            "  JVM stderr: /tmp/tmpmzbs916r/h2o_unknownUser_started_from_python.err\n",
            "  Server is running at http://127.0.0.1:54321\n",
            "Connecting to H2O server at http://127.0.0.1:54321 ... successful.\n"
          ],
          "name": "stdout"
        },
        {
          "output_type": "display_data",
          "data": {
            "text/html": [
              "<div style=\"overflow:auto\"><table style=\"width:50%\"><tr><td>H2O cluster uptime:</td>\n",
              "<td>02 secs</td></tr>\n",
              "<tr><td>H2O cluster timezone:</td>\n",
              "<td>Etc/UTC</td></tr>\n",
              "<tr><td>H2O data parsing timezone:</td>\n",
              "<td>UTC</td></tr>\n",
              "<tr><td>H2O cluster version:</td>\n",
              "<td>3.28.0.3</td></tr>\n",
              "<tr><td>H2O cluster version age:</td>\n",
              "<td>28 days, 17 hours and 51 minutes </td></tr>\n",
              "<tr><td>H2O cluster name:</td>\n",
              "<td>H2O_from_python_unknownUser_h98mt9</td></tr>\n",
              "<tr><td>H2O cluster total nodes:</td>\n",
              "<td>1</td></tr>\n",
              "<tr><td>H2O cluster free memory:</td>\n",
              "<td>3 Gb</td></tr>\n",
              "<tr><td>H2O cluster total cores:</td>\n",
              "<td>2</td></tr>\n",
              "<tr><td>H2O cluster allowed cores:</td>\n",
              "<td>2</td></tr>\n",
              "<tr><td>H2O cluster status:</td>\n",
              "<td>accepting new members, healthy</td></tr>\n",
              "<tr><td>H2O connection url:</td>\n",
              "<td>http://127.0.0.1:54321</td></tr>\n",
              "<tr><td>H2O connection proxy:</td>\n",
              "<td>{'http': None, 'https': None}</td></tr>\n",
              "<tr><td>H2O internal security:</td>\n",
              "<td>False</td></tr>\n",
              "<tr><td>H2O API Extensions:</td>\n",
              "<td>Amazon S3, XGBoost, Algos, AutoML, Core V3, TargetEncoder, Core V4</td></tr>\n",
              "<tr><td>Python version:</td>\n",
              "<td>3.6.9 final</td></tr></table></div>"
            ],
            "text/plain": [
              "--------------------------  ------------------------------------------------------------------\n",
              "H2O cluster uptime:         02 secs\n",
              "H2O cluster timezone:       Etc/UTC\n",
              "H2O data parsing timezone:  UTC\n",
              "H2O cluster version:        3.28.0.3\n",
              "H2O cluster version age:    28 days, 17 hours and 51 minutes\n",
              "H2O cluster name:           H2O_from_python_unknownUser_h98mt9\n",
              "H2O cluster total nodes:    1\n",
              "H2O cluster free memory:    3 Gb\n",
              "H2O cluster total cores:    2\n",
              "H2O cluster allowed cores:  2\n",
              "H2O cluster status:         accepting new members, healthy\n",
              "H2O connection url:         http://127.0.0.1:54321\n",
              "H2O connection proxy:       {'http': None, 'https': None}\n",
              "H2O internal security:      False\n",
              "H2O API Extensions:         Amazon S3, XGBoost, Algos, AutoML, Core V3, TargetEncoder, Core V4\n",
              "Python version:             3.6.9 final\n",
              "--------------------------  ------------------------------------------------------------------"
            ]
          },
          "metadata": {
            "tags": []
          }
        }
      ]
    },
    {
      "cell_type": "code",
      "metadata": {
        "id": "XierHQCIkPgy",
        "colab_type": "code",
        "outputId": "511ba2c6-b01a-4910-fac9-64fbc1028612",
        "colab": {
          "base_uri": "https://localhost:8080/",
          "height": 35
        }
      },
      "source": [
        "train = pd.DataFrame(train_set_x).join(train_set_y)\n",
        "train = h2o.H2OFrame(train)\n"
      ],
      "execution_count": 0,
      "outputs": [
        {
          "output_type": "stream",
          "text": [
            "Parse progress: |█████████████████████████████████████████████████████████| 100%\n"
          ],
          "name": "stdout"
        }
      ]
    },
    {
      "cell_type": "code",
      "metadata": {
        "id": "21nIeVCO-BKI",
        "colab_type": "code",
        "outputId": "d1e5a62e-ad66-417d-cfcc-628bcc25bf6e",
        "colab": {
          "base_uri": "https://localhost:8080/",
          "height": 35
        }
      },
      "source": [
        "test = pd.DataFrame(test_set_x).join(test_set_y)\n",
        "test = h2o.H2OFrame(test)"
      ],
      "execution_count": 0,
      "outputs": [
        {
          "output_type": "stream",
          "text": [
            "Parse progress: |█████████████████████████████████████████████████████████| 100%\n"
          ],
          "name": "stdout"
        }
      ]
    },
    {
      "cell_type": "code",
      "metadata": {
        "id": "m9VAMB4Em7rh",
        "colab_type": "code",
        "colab": {}
      },
      "source": [
        "\n",
        "x = train.col_names[:-1]    \n",
        "y = train.col_names[-1]  "
      ],
      "execution_count": 0,
      "outputs": []
    },
    {
      "cell_type": "code",
      "metadata": {
        "id": "a6BahowdVXz0",
        "colab_type": "code",
        "outputId": "333bbed5-f58d-4734-8696-3706efe3aa12",
        "colab": {
          "base_uri": "https://localhost:8080/",
          "height": 35
        }
      },
      "source": [
        "from h2o.estimators.random_forest import H2ORandomForestEstimator\n",
        "rf_fit1 = H2ORandomForestEstimator(model_id='rf_fit1', seed=1, categorical_encoding='enum', max_depth=200)\n",
        "rf_fit1.train(x=x, y=y, training_frame=train, validation_frame=test)\n"
      ],
      "execution_count": 0,
      "outputs": [
        {
          "output_type": "stream",
          "text": [
            "drf Model Build progress: |███████████████████████████████████████████████| 100%\n"
          ],
          "name": "stdout"
        }
      ]
    },
    {
      "cell_type": "code",
      "metadata": {
        "id": "r6usefSAn0oy",
        "colab_type": "code",
        "outputId": "b41e6989-bc22-4c90-c9db-5dfed0da6b5a",
        "colab": {
          "base_uri": "https://localhost:8080/",
          "height": 917
        }
      },
      "source": [
        "rf_fit1.actual_params"
      ],
      "execution_count": 0,
      "outputs": [
        {
          "output_type": "execute_result",
          "data": {
            "text/plain": [
              "{'balance_classes': False,\n",
              " 'binomial_double_trees': False,\n",
              " 'build_tree_one_node': False,\n",
              " 'calibrate_model': False,\n",
              " 'calibration_frame': None,\n",
              " 'categorical_encoding': 'Enum',\n",
              " 'check_constant_response': True,\n",
              " 'checkpoint': None,\n",
              " 'class_sampling_factors': None,\n",
              " 'col_sample_rate_change_per_level': 1.0,\n",
              " 'col_sample_rate_per_tree': 1.0,\n",
              " 'custom_metric_func': None,\n",
              " 'distribution': 'gaussian',\n",
              " 'export_checkpoints_dir': None,\n",
              " 'fold_assignment': 'AUTO',\n",
              " 'fold_column': None,\n",
              " 'histogram_type': 'AUTO',\n",
              " 'ignore_const_cols': True,\n",
              " 'ignored_columns': None,\n",
              " 'keep_cross_validation_fold_assignment': False,\n",
              " 'keep_cross_validation_models': True,\n",
              " 'keep_cross_validation_predictions': False,\n",
              " 'max_after_balance_size': 5.0,\n",
              " 'max_confusion_matrix_size': 20,\n",
              " 'max_depth': 200,\n",
              " 'max_hit_ratio_k': 0,\n",
              " 'max_runtime_secs': 0.0,\n",
              " 'min_rows': 1.0,\n",
              " 'min_split_improvement': 1e-05,\n",
              " 'model_id': 'rf_fit1',\n",
              " 'mtries': -1,\n",
              " 'nbins': 20,\n",
              " 'nbins_cats': 1024,\n",
              " 'nbins_top_level': 1024,\n",
              " 'nfolds': 0,\n",
              " 'ntrees': 50,\n",
              " 'offset_column': None,\n",
              " 'r2_stopping': 1.7976931348623157e+308,\n",
              " 'response_column': 'maize_a_2010',\n",
              " 'sample_rate': 0.632,\n",
              " 'sample_rate_per_class': None,\n",
              " 'score_each_iteration': False,\n",
              " 'score_tree_interval': 0,\n",
              " 'seed': 1,\n",
              " 'stopping_metric': 'AUTO',\n",
              " 'stopping_rounds': 0,\n",
              " 'stopping_tolerance': 0.001,\n",
              " 'training_frame': 'Key_Frame__upload_953dec449663dbc7b6dedec2c03444b4.hex',\n",
              " 'validation_frame': 'Key_Frame__upload_9f815dc995ebdda68d22d8c374424d2d.hex',\n",
              " 'weights_column': None}"
            ]
          },
          "metadata": {
            "tags": []
          },
          "execution_count": 19
        }
      ]
    },
    {
      "cell_type": "code",
      "metadata": {
        "id": "dwaypROIo_Vz",
        "colab_type": "code",
        "outputId": "40814ae4-2429-4b1f-c87c-52ec4a2fd737",
        "colab": {
          "base_uri": "https://localhost:8080/",
          "height": 35
        }
      },
      "source": [
        "rf_fit1.r2()\n"
      ],
      "execution_count": 0,
      "outputs": [
        {
          "output_type": "execute_result",
          "data": {
            "text/plain": [
              "0.9720839447244436"
            ]
          },
          "metadata": {
            "tags": []
          },
          "execution_count": 18
        }
      ]
    },
    {
      "cell_type": "code",
      "metadata": {
        "id": "7FdvE7G3samT",
        "colab_type": "code",
        "outputId": "79812a5b-e0de-43d1-c1ed-abf8511b9c87",
        "colab": {
          "base_uri": "https://localhost:8080/",
          "height": 35
        }
      },
      "source": [
        "rf_fit1.r2(valid=True)"
      ],
      "execution_count": 0,
      "outputs": [
        {
          "output_type": "execute_result",
          "data": {
            "text/plain": [
              "0.9733434662272594"
            ]
          },
          "metadata": {
            "tags": []
          },
          "execution_count": 17
        }
      ]
    },
    {
      "cell_type": "code",
      "metadata": {
        "id": "Lk8pkCEapRnr",
        "colab_type": "code",
        "outputId": "b2e1c4ec-f285-4048-eda0-e6a2da137194",
        "colab": {
          "base_uri": "https://localhost:8080/",
          "height": 187
        }
      },
      "source": [
        "test = pd.DataFrame(test_set_x).join(test_set_y)\n",
        "test = h2o.H2OFrame(test)\n",
        "\n",
        "rf_fit1.model_performance(test_data=test)"
      ],
      "execution_count": 0,
      "outputs": [
        {
          "output_type": "stream",
          "text": [
            "Parse progress: |█████████████████████████████████████████████████████████| 100%\n",
            "\n",
            "ModelMetricsRegression: drf\n",
            "** Reported on test data. **\n",
            "\n",
            "MSE: 309762.0713281609\n",
            "RMSE: 556.5627290145836\n",
            "MAE: 312.822390934289\n",
            "RMSLE: 0.14385844917400437\n",
            "Mean Residual Deviance: 309762.0713281609\n"
          ],
          "name": "stdout"
        },
        {
          "output_type": "execute_result",
          "data": {
            "text/plain": [
              ""
            ]
          },
          "metadata": {
            "tags": []
          },
          "execution_count": 66
        }
      ]
    },
    {
      "cell_type": "code",
      "metadata": {
        "id": "OJkMOTOv2Jat",
        "colab_type": "code",
        "colab": {}
      },
      "source": [
        ""
      ],
      "execution_count": 0,
      "outputs": []
    },
    {
      "cell_type": "markdown",
      "metadata": {
        "id": "N4aJWb-eW5_Q",
        "colab_type": "text"
      },
      "source": [
        "### Extra trees ###\n"
      ]
    },
    {
      "cell_type": "code",
      "metadata": {
        "id": "jUIeVzdoW74p",
        "colab_type": "code",
        "outputId": "1d7f9880-fa22-414d-d879-66e2e074e61e",
        "colab": {
          "base_uri": "https://localhost:8080/",
          "height": 156
        }
      },
      "source": [
        "from sklearn.ensemble import ExtraTreesRegressor\n",
        "\n",
        "extra_trees = ExtraTreesRegressor(n_jobs=-1, verbose=1, n_estimators=10)\n",
        "extra_trees = extra_trees.fit(train_set_x_prepared, train_set_y)\n",
        "\n",
        "extra_trees.score(train_set_x_prepared,train_set_y)"
      ],
      "execution_count": 0,
      "outputs": [
        {
          "output_type": "stream",
          "text": [
            "/usr/local/lib/python3.6/dist-packages/ipykernel_launcher.py:4: DataConversionWarning: A column-vector y was passed when a 1d array was expected. Please change the shape of y to (n_samples,), for example using ravel().\n",
            "  after removing the cwd from sys.path.\n",
            "[Parallel(n_jobs=-1)]: Using backend ThreadingBackend with 2 concurrent workers.\n",
            "[Parallel(n_jobs=-1)]: Done  10 out of  10 | elapsed:  1.3min finished\n",
            "[Parallel(n_jobs=2)]: Using backend ThreadingBackend with 2 concurrent workers.\n",
            "[Parallel(n_jobs=2)]: Done  10 out of  10 | elapsed:    1.1s finished\n"
          ],
          "name": "stderr"
        },
        {
          "output_type": "execute_result",
          "data": {
            "text/plain": [
              "0.9997909847775208"
            ]
          },
          "metadata": {
            "tags": []
          },
          "execution_count": 25
        }
      ]
    },
    {
      "cell_type": "code",
      "metadata": {
        "id": "vi5NMI54dnTF",
        "colab_type": "code",
        "outputId": "426cd6ea-b355-4a9b-d564-e066779c05b9",
        "colab": {
          "base_uri": "https://localhost:8080/",
          "height": 68
        }
      },
      "source": [
        "extra_trees.score(test_set_x_prepared,test_set_y)"
      ],
      "execution_count": 0,
      "outputs": [
        {
          "output_type": "stream",
          "text": [
            "[Parallel(n_jobs=2)]: Using backend ThreadingBackend with 2 concurrent workers.\n",
            "[Parallel(n_jobs=2)]: Done  10 out of  10 | elapsed:    0.3s finished\n"
          ],
          "name": "stderr"
        },
        {
          "output_type": "execute_result",
          "data": {
            "text/plain": [
              "0.9675384416331634"
            ]
          },
          "metadata": {
            "tags": []
          },
          "execution_count": 26
        }
      ]
    },
    {
      "cell_type": "markdown",
      "metadata": {
        "id": "hqNR8QILXdBa",
        "colab_type": "text"
      },
      "source": [
        "We can fit to the training set at least."
      ]
    },
    {
      "cell_type": "markdown",
      "metadata": {
        "id": "5XkeEpdVXpGT",
        "colab_type": "text"
      },
      "source": [
        "### Extreme Boosting ###"
      ]
    },
    {
      "cell_type": "code",
      "metadata": {
        "id": "Z5qVR631XnpS",
        "colab_type": "code",
        "outputId": "a708a659-efe0-4f67-d01c-e1d3f913afb2",
        "colab": {
          "base_uri": "https://localhost:8080/",
          "height": 71
        }
      },
      "source": [
        "!pip3 install xgboost"
      ],
      "execution_count": 0,
      "outputs": [
        {
          "output_type": "stream",
          "text": [
            "Requirement already satisfied: xgboost in /usr/local/lib/python3.6/dist-packages (0.90)\n",
            "Requirement already satisfied: numpy in /usr/local/lib/python3.6/dist-packages (from xgboost) (1.17.5)\n",
            "Requirement already satisfied: scipy in /usr/local/lib/python3.6/dist-packages (from xgboost) (1.4.1)\n"
          ],
          "name": "stdout"
        }
      ]
    },
    {
      "cell_type": "code",
      "metadata": {
        "id": "7arlBrliXmYV",
        "colab_type": "code",
        "colab": {}
      },
      "source": [
        "import xgboost as xgb\n"
      ],
      "execution_count": 0,
      "outputs": []
    },
    {
      "cell_type": "code",
      "metadata": {
        "id": "TIVZ60uIee3q",
        "colab_type": "code",
        "colab": {}
      },
      "source": [
        "xgbmodel = xgb.XGBRegressor(n_jobs=-1, verboxity=2, random_state=42, n_estimators=100, objective=\"reg:squarederror\", max_depth=20,)"
      ],
      "execution_count": 0,
      "outputs": []
    },
    {
      "cell_type": "code",
      "metadata": {
        "id": "HuUaTOhKfamI",
        "colab_type": "code",
        "outputId": "7a7c64ba-5c18-4dfa-acd9-22485f59ab44",
        "colab": {
          "base_uri": "https://localhost:8080/",
          "height": 143
        }
      },
      "source": [
        "xgbmodel.fit(train_set_x_prepared,train_set_y)"
      ],
      "execution_count": 0,
      "outputs": [
        {
          "output_type": "execute_result",
          "data": {
            "text/plain": [
              "XGBRegressor(base_score=0.5, booster='gbtree', colsample_bylevel=1,\n",
              "             colsample_bynode=1, colsample_bytree=1, gamma=0,\n",
              "             importance_type='gain', learning_rate=0.1, max_delta_step=0,\n",
              "             max_depth=20, min_child_weight=1, missing=None, n_estimators=100,\n",
              "             n_jobs=-1, nthread=None, objective='reg:squarederror',\n",
              "             random_state=42, reg_alpha=0, reg_lambda=1, scale_pos_weight=1,\n",
              "             seed=None, silent=None, subsample=1, verbosity=1, verboxity=2)"
            ]
          },
          "metadata": {
            "tags": []
          },
          "execution_count": 40
        }
      ]
    },
    {
      "cell_type": "code",
      "metadata": {
        "id": "pJjowMyHfgoY",
        "colab_type": "code",
        "colab": {}
      },
      "source": [
        "from sklearn.metrics import r2_score\n",
        "\n"
      ],
      "execution_count": 0,
      "outputs": []
    },
    {
      "cell_type": "code",
      "metadata": {
        "id": "NPDdv2N3gWak",
        "colab_type": "code",
        "outputId": "68a0f0ef-898b-4b76-a421-66221c062ffb",
        "colab": {
          "base_uri": "https://localhost:8080/",
          "height": 35
        }
      },
      "source": [
        "r2_score(train_set_y, xgbmodel.predict(train_set_x_prepared))"
      ],
      "execution_count": 0,
      "outputs": [
        {
          "output_type": "execute_result",
          "data": {
            "text/plain": [
              "0.9975928970862603"
            ]
          },
          "metadata": {
            "tags": []
          },
          "execution_count": 41
        }
      ]
    },
    {
      "cell_type": "code",
      "metadata": {
        "id": "f9ZLpXS5gcMG",
        "colab_type": "code",
        "outputId": "741a082d-cbcc-4e75-bddd-dbbe2babdd09",
        "colab": {
          "base_uri": "https://localhost:8080/",
          "height": 419
        }
      },
      "source": [
        "train_set_y"
      ],
      "execution_count": 0,
      "outputs": [
        {
          "output_type": "execute_result",
          "data": {
            "text/html": [
              "<div>\n",
              "<style scoped>\n",
              "    .dataframe tbody tr th:only-of-type {\n",
              "        vertical-align: middle;\n",
              "    }\n",
              "\n",
              "    .dataframe tbody tr th {\n",
              "        vertical-align: top;\n",
              "    }\n",
              "\n",
              "    .dataframe thead th {\n",
              "        text-align: right;\n",
              "    }\n",
              "</style>\n",
              "<table border=\"1\" class=\"dataframe\">\n",
              "  <thead>\n",
              "    <tr style=\"text-align: right;\">\n",
              "      <th></th>\n",
              "      <th>maize_a_2010</th>\n",
              "    </tr>\n",
              "  </thead>\n",
              "  <tbody>\n",
              "    <tr>\n",
              "      <th>140076</th>\n",
              "      <td>5778.3</td>\n",
              "    </tr>\n",
              "    <tr>\n",
              "      <th>233620</th>\n",
              "      <td>7638.7</td>\n",
              "    </tr>\n",
              "    <tr>\n",
              "      <th>321377</th>\n",
              "      <td>1568.3</td>\n",
              "    </tr>\n",
              "    <tr>\n",
              "      <th>125005</th>\n",
              "      <td>5132.8</td>\n",
              "    </tr>\n",
              "    <tr>\n",
              "      <th>157050</th>\n",
              "      <td>2242.6</td>\n",
              "    </tr>\n",
              "    <tr>\n",
              "      <th>...</th>\n",
              "      <td>...</td>\n",
              "    </tr>\n",
              "    <tr>\n",
              "      <th>149710</th>\n",
              "      <td>2614.2</td>\n",
              "    </tr>\n",
              "    <tr>\n",
              "      <th>332415</th>\n",
              "      <td>618.8</td>\n",
              "    </tr>\n",
              "    <tr>\n",
              "      <th>164446</th>\n",
              "      <td>953.7</td>\n",
              "    </tr>\n",
              "    <tr>\n",
              "      <th>184376</th>\n",
              "      <td>1051.1</td>\n",
              "    </tr>\n",
              "    <tr>\n",
              "      <th>151963</th>\n",
              "      <td>5716.6</td>\n",
              "    </tr>\n",
              "  </tbody>\n",
              "</table>\n",
              "<p>243590 rows × 1 columns</p>\n",
              "</div>"
            ],
            "text/plain": [
              "        maize_a_2010\n",
              "140076        5778.3\n",
              "233620        7638.7\n",
              "321377        1568.3\n",
              "125005        5132.8\n",
              "157050        2242.6\n",
              "...              ...\n",
              "149710        2614.2\n",
              "332415         618.8\n",
              "164446         953.7\n",
              "184376        1051.1\n",
              "151963        5716.6\n",
              "\n",
              "[243590 rows x 1 columns]"
            ]
          },
          "metadata": {
            "tags": []
          },
          "execution_count": 44
        }
      ]
    },
    {
      "cell_type": "markdown",
      "metadata": {
        "id": "rkU6llLbNsgB",
        "colab_type": "text"
      },
      "source": [
        "## Hyperparameter tuning: search of parameter space ## "
      ]
    },
    {
      "cell_type": "code",
      "metadata": {
        "id": "BdTSVJEpOFuj",
        "colab_type": "code",
        "colab": {}
      },
      "source": [
        "from sklearn.model_selection import RandomizedSearchCV"
      ],
      "execution_count": 0,
      "outputs": []
    },
    {
      "cell_type": "code",
      "metadata": {
        "id": "e7X5KmUfPBoZ",
        "colab_type": "code",
        "colab": {}
      },
      "source": [
        "from scipy.stats import randint as sp_randint\n",
        "from scipy.stats import uniform"
      ],
      "execution_count": 0,
      "outputs": []
    },
    {
      "cell_type": "markdown",
      "metadata": {
        "id": "7lqMjBUITIH1",
        "colab_type": "text"
      },
      "source": [
        "### Random Forest (h2o) ###"
      ]
    },
    {
      "cell_type": "markdown",
      "metadata": {
        "id": "bziosPswfys_",
        "colab_type": "text"
      },
      "source": [
        "#### test implementation ####"
      ]
    },
    {
      "cell_type": "code",
      "metadata": {
        "id": "eZfDUEsUfx_0",
        "colab_type": "code",
        "colab": {}
      },
      "source": [
        ""
      ],
      "execution_count": 0,
      "outputs": []
    },
    {
      "cell_type": "code",
      "metadata": {
        "id": "nOlKgqpkn5pE",
        "colab_type": "code",
        "colab": {}
      },
      "source": [
        "#create small version of train set#\n",
        "\n",
        "train_set_x_sample = train_set_x.sample(n=100, random_state=42)"
      ],
      "execution_count": 0,
      "outputs": []
    },
    {
      "cell_type": "code",
      "metadata": {
        "id": "4W6u3JsapdtW",
        "colab_type": "code",
        "colab": {}
      },
      "source": [
        "train_set_y_sample = train_set_y.sample(n=100, random_state=42)"
      ],
      "execution_count": 0,
      "outputs": []
    },
    {
      "cell_type": "code",
      "metadata": {
        "id": "RqSwa5cSQI7e",
        "colab_type": "code",
        "colab": {}
      },
      "source": [
        "test_set_x_sample = test_set_x.sample(n=100, random_state=42)\n",
        "test_set_y_sample = test_set_y.sample(n=100, random_state=42)"
      ],
      "execution_count": 0,
      "outputs": []
    },
    {
      "cell_type": "code",
      "metadata": {
        "id": "0arMEzVXTO_o",
        "colab_type": "code",
        "outputId": "9082bcd4-48d1-4533-883d-3ade5fdd052d",
        "colab": {
          "base_uri": "https://localhost:8080/",
          "height": 391
        }
      },
      "source": [
        "import h2o\n",
        "h2o.init(nthreads = -1, max_mem_size = 12)\n",
        "\n",
        "train = pd.DataFrame(train_set_x_sample).join(train_set_y_sample)\n",
        "train = h2o.H2OFrame(train)\n"
      ],
      "execution_count": 0,
      "outputs": [
        {
          "output_type": "stream",
          "text": [
            "Checking whether there is an H2O instance running at http://localhost:54321 . connected.\n"
          ],
          "name": "stdout"
        },
        {
          "output_type": "display_data",
          "data": {
            "text/html": [
              "<div style=\"overflow:auto\"><table style=\"width:50%\"><tr><td>H2O cluster uptime:</td>\n",
              "<td>13 secs</td></tr>\n",
              "<tr><td>H2O cluster timezone:</td>\n",
              "<td>Etc/UTC</td></tr>\n",
              "<tr><td>H2O data parsing timezone:</td>\n",
              "<td>UTC</td></tr>\n",
              "<tr><td>H2O cluster version:</td>\n",
              "<td>3.28.0.3</td></tr>\n",
              "<tr><td>H2O cluster version age:</td>\n",
              "<td>27 days </td></tr>\n",
              "<tr><td>H2O cluster name:</td>\n",
              "<td>H2O_from_python_unknownUser_47wyd2</td></tr>\n",
              "<tr><td>H2O cluster total nodes:</td>\n",
              "<td>1</td></tr>\n",
              "<tr><td>H2O cluster free memory:</td>\n",
              "<td>12 Gb</td></tr>\n",
              "<tr><td>H2O cluster total cores:</td>\n",
              "<td>2</td></tr>\n",
              "<tr><td>H2O cluster allowed cores:</td>\n",
              "<td>2</td></tr>\n",
              "<tr><td>H2O cluster status:</td>\n",
              "<td>locked, healthy</td></tr>\n",
              "<tr><td>H2O connection url:</td>\n",
              "<td>http://localhost:54321</td></tr>\n",
              "<tr><td>H2O connection proxy:</td>\n",
              "<td>{'http': None, 'https': None}</td></tr>\n",
              "<tr><td>H2O internal security:</td>\n",
              "<td>False</td></tr>\n",
              "<tr><td>H2O API Extensions:</td>\n",
              "<td>Amazon S3, XGBoost, Algos, AutoML, Core V3, TargetEncoder, Core V4</td></tr>\n",
              "<tr><td>Python version:</td>\n",
              "<td>3.6.9 final</td></tr></table></div>"
            ],
            "text/plain": [
              "--------------------------  ------------------------------------------------------------------\n",
              "H2O cluster uptime:         13 secs\n",
              "H2O cluster timezone:       Etc/UTC\n",
              "H2O data parsing timezone:  UTC\n",
              "H2O cluster version:        3.28.0.3\n",
              "H2O cluster version age:    27 days\n",
              "H2O cluster name:           H2O_from_python_unknownUser_47wyd2\n",
              "H2O cluster total nodes:    1\n",
              "H2O cluster free memory:    12 Gb\n",
              "H2O cluster total cores:    2\n",
              "H2O cluster allowed cores:  2\n",
              "H2O cluster status:         locked, healthy\n",
              "H2O connection url:         http://localhost:54321\n",
              "H2O connection proxy:       {'http': None, 'https': None}\n",
              "H2O internal security:      False\n",
              "H2O API Extensions:         Amazon S3, XGBoost, Algos, AutoML, Core V3, TargetEncoder, Core V4\n",
              "Python version:             3.6.9 final\n",
              "--------------------------  ------------------------------------------------------------------"
            ]
          },
          "metadata": {
            "tags": []
          }
        },
        {
          "output_type": "stream",
          "text": [
            "Parse progress: |█████████████████████████████████████████████████████████| 100%\n"
          ],
          "name": "stdout"
        }
      ]
    },
    {
      "cell_type": "code",
      "metadata": {
        "id": "NhV_fwM4QP1X",
        "colab_type": "code",
        "outputId": "8d86b416-01b3-4308-f804-1d98f13b2281",
        "colab": {
          "base_uri": "https://localhost:8080/",
          "height": 35
        }
      },
      "source": [
        "test = pd.DataFrame(test_set_x_sample).join(test_set_y_sample)\n",
        "test = h2o.H2OFrame(test)"
      ],
      "execution_count": 0,
      "outputs": [
        {
          "output_type": "stream",
          "text": [
            "Parse progress: |█████████████████████████████████████████████████████████| 100%\n"
          ],
          "name": "stdout"
        }
      ]
    },
    {
      "cell_type": "code",
      "metadata": {
        "id": "lBACz52fTVF5",
        "colab_type": "code",
        "colab": {}
      },
      "source": [
        "x = train.col_names[:-1]    \n",
        "y = train.col_names[-1]  "
      ],
      "execution_count": 0,
      "outputs": []
    },
    {
      "cell_type": "code",
      "metadata": {
        "id": "30hlvLyxTpit",
        "colab_type": "code",
        "colab": {}
      },
      "source": [
        "from h2o.grid.grid_search import H2OGridSearch\n"
      ],
      "execution_count": 0,
      "outputs": []
    },
    {
      "cell_type": "code",
      "metadata": {
        "id": "3fY2svssTrRv",
        "colab_type": "code",
        "colab": {}
      },
      "source": [
        "#hyperparameters\n",
        "rf_parameters = {'max_depth': [200, 1000, 2000],\n",
        "                'ntrees': [10, 20, 30],\n",
        "                 'min_rows': [1, 100, 1000]}\n",
        "\n",
        "rf_parameters2 = {'max_depth': list(np.random.randint(200,5000,30)),\n",
        "                'ntrees': list(np.random.randint(8,20,10)),\n",
        "                 'min_rows': list(np.random.randint(1,20,10))\n",
        "                 }\n",
        "\n"
      ],
      "execution_count": 0,
      "outputs": []
    },
    {
      "cell_type": "code",
      "metadata": {
        "id": "RwJl0B6oWLfQ",
        "colab_type": "code",
        "colab": {}
      },
      "source": [
        "from h2o.estimators.random_forest import H2ORandomForestEstimator\n",
        "\n",
        "rf_h2o = H2ORandomForestEstimator(model_id='rf_h2o', seed=1, categorical_encoding='enum', nfolds=5, keep_cross_validation_models=True)"
      ],
      "execution_count": 0,
      "outputs": []
    },
    {
      "cell_type": "code",
      "metadata": {
        "id": "kQsmiXnoX2EP",
        "colab_type": "code",
        "colab": {}
      },
      "source": [
        "rf_h2o_grid = H2OGridSearch(model=rf_h2o,\n",
        "                          grid_id='rf_h2o_grid',\n",
        "                          hyper_params=rf_parameters2,\n",
        "                         search_criteria = {'strategy': 'RandomDiscrete', 'max_models': 10}\n",
        "\n",
        "                          )"
      ],
      "execution_count": 0,
      "outputs": []
    },
    {
      "cell_type": "code",
      "metadata": {
        "id": "Ix1RYd6UY4DU",
        "colab_type": "code",
        "outputId": "72a3fd1d-ff09-41fb-c49a-63e9371ebc0c",
        "colab": {
          "base_uri": "https://localhost:8080/",
          "height": 35
        }
      },
      "source": [
        "rf_h2o_grid.train(x=x, y=y, training_frame=train)"
      ],
      "execution_count": 0,
      "outputs": [
        {
          "output_type": "stream",
          "text": [
            "drf Grid Build progress: |████████████████████████████████████████████████| 100%\n"
          ],
          "name": "stdout"
        }
      ]
    },
    {
      "cell_type": "code",
      "metadata": {
        "id": "Qf2LwbT7cl5z",
        "colab_type": "code",
        "outputId": "7cfb61ee-eefa-455e-8488-438f4f620993",
        "colab": {
          "base_uri": "https://localhost:8080/",
          "height": 215
        }
      },
      "source": [
        "rf_h2o_grid.show()\n",
        "\n"
      ],
      "execution_count": 0,
      "outputs": [
        {
          "output_type": "stream",
          "text": [
            "    max_depth min_rows ntrees             model_ids   residual_deviance\n",
            "0        1940      3.0      8   rf_h2o_grid_model_6  3898245.5521211894\n",
            "1        3268      3.0     14   rf_h2o_grid_model_1   4163794.022026467\n",
            "2        4601      7.0      9   rf_h2o_grid_model_4   4680440.710717442\n",
            "3        2800      8.0      9   rf_h2o_grid_model_8   5093235.827122158\n",
            "4        4070      8.0      8   rf_h2o_grid_model_3   5277671.146725693\n",
            "5        3409      8.0     14   rf_h2o_grid_model_5   5341053.366693794\n",
            "6        3211      8.0     14   rf_h2o_grid_model_7   5341053.366693794\n",
            "7        1940      9.0      8  rf_h2o_grid_model_10   5616144.972942485\n",
            "8         796     17.0     14   rf_h2o_grid_model_2   8327217.316085395\n",
            "9        1689     19.0     16   rf_h2o_grid_model_9   8856706.782546768\n"
          ],
          "name": "stdout"
        }
      ]
    },
    {
      "cell_type": "code",
      "metadata": {
        "id": "m0DnPUnJ4rMk",
        "colab_type": "code",
        "outputId": "5c2dcfc2-b4a1-44e9-8657-3ec1c8ca2c0c",
        "colab": {
          "base_uri": "https://localhost:8080/",
          "height": 215
        }
      },
      "source": [
        "#rf_h2o_grid.get_xval_models() #this gives cross validation scores\n",
        "#rf_h2o_grid.model_performance(xval=True) #this gives the mean cross validation scores (it is the same value as given by rf_h2o_grid.show())\n",
        "rf_h2o_grid.get_grid(sort_by=\"r2\", decreasing=True) # this gives cross validation metrics of r2. THis is what we want (refer to https://h2o-release.s3.amazonaws.com/h2o/rel-ueno/2/docs-website/h2o-py/docs/modeling.html#h2ogridsearch )"
      ],
      "execution_count": 0,
      "outputs": [
        {
          "output_type": "stream",
          "text": [
            "    max_depth min_rows ntrees             model_ids                   r2\n",
            "0        1940      3.0      8   rf_h2o_grid_model_6   0.7057087380670802\n",
            "1        3268      3.0     14   rf_h2o_grid_model_1   0.6856616185955384\n",
            "2        4601      7.0      9   rf_h2o_grid_model_4   0.6466582762058837\n",
            "3        2800      8.0      9   rf_h2o_grid_model_8   0.6154950274822656\n",
            "4        4070      8.0      8   rf_h2o_grid_model_3    0.601571404091843\n",
            "5        3409      8.0     14   rf_h2o_grid_model_5   0.5967864737304468\n",
            "6        3211      8.0     14   rf_h2o_grid_model_7   0.5967864737304468\n",
            "7        1940      9.0      8  rf_h2o_grid_model_10   0.5760189117932494\n",
            "8         796     17.0     14   rf_h2o_grid_model_2   0.3713512246536268\n",
            "9        1689     19.0     16   rf_h2o_grid_model_9  0.33137833911276704\n"
          ],
          "name": "stdout"
        },
        {
          "output_type": "execute_result",
          "data": {
            "text/plain": [
              ""
            ]
          },
          "metadata": {
            "tags": []
          },
          "execution_count": 65
        }
      ]
    },
    {
      "cell_type": "code",
      "metadata": {
        "id": "ynDtvzxXdnrO",
        "colab_type": "code",
        "colab": {}
      },
      "source": [
        "gbm_gridperf2 = rf_h2o_grid.get_grid(sort_by='r2', decreasing=True)\n"
      ],
      "execution_count": 0,
      "outputs": []
    },
    {
      "cell_type": "code",
      "metadata": {
        "id": "iW7Ucu0Yqhiv",
        "colab_type": "code",
        "outputId": "dca154c0-652d-4bef-c8b1-bcef4ac20333",
        "colab": {
          "base_uri": "https://localhost:8080/",
          "height": 71
        }
      },
      "source": [
        "h2o.shutdown()"
      ],
      "execution_count": 0,
      "outputs": [
        {
          "output_type": "stream",
          "text": [
            "/usr/local/lib/python3.6/dist-packages/ipykernel_launcher.py:1: DeprecationWarning: Deprecated, use ``h2o.cluster().shutdown()``.\n",
            "  \"\"\"Entry point for launching an IPython kernel.\n"
          ],
          "name": "stderr"
        },
        {
          "output_type": "stream",
          "text": [
            "H2O session _sid_b41b closed.\n"
          ],
          "name": "stdout"
        }
      ]
    },
    {
      "cell_type": "markdown",
      "metadata": {
        "id": "Y3qVWcgRf7TK",
        "colab_type": "text"
      },
      "source": [
        "#### full implementation ####"
      ]
    },
    {
      "cell_type": "code",
      "metadata": {
        "id": "TSjGeJoof6m2",
        "colab_type": "code",
        "outputId": "14f5ba18-ab9d-4a22-f541-4999f832f423",
        "colab": {
          "base_uri": "https://localhost:8080/",
          "height": 537
        }
      },
      "source": [
        "import h2o\n",
        "h2o.init(nthreads = -1)\n",
        "\n"
      ],
      "execution_count": 0,
      "outputs": [
        {
          "output_type": "stream",
          "text": [
            "Checking whether there is an H2O instance running at http://localhost:54321 ..... not found.\n",
            "Attempting to start a local H2O server...\n",
            "  Java Version: openjdk version \"11.0.6\" 2020-01-14; OpenJDK Runtime Environment (build 11.0.6+10-post-Ubuntu-1ubuntu118.04.1); OpenJDK 64-Bit Server VM (build 11.0.6+10-post-Ubuntu-1ubuntu118.04.1, mixed mode, sharing)\n",
            "  Starting server from /usr/local/lib/python3.6/dist-packages/h2o/backend/bin/h2o.jar\n",
            "  Ice root: /tmp/tmpc4gcxw1b\n",
            "  JVM stdout: /tmp/tmpc4gcxw1b/h2o_unknownUser_started_from_python.out\n",
            "  JVM stderr: /tmp/tmpc4gcxw1b/h2o_unknownUser_started_from_python.err\n",
            "  Server is running at http://127.0.0.1:54321\n",
            "Connecting to H2O server at http://127.0.0.1:54321 ... successful.\n"
          ],
          "name": "stdout"
        },
        {
          "output_type": "display_data",
          "data": {
            "text/html": [
              "<div style=\"overflow:auto\"><table style=\"width:50%\"><tr><td>H2O cluster uptime:</td>\n",
              "<td>02 secs</td></tr>\n",
              "<tr><td>H2O cluster timezone:</td>\n",
              "<td>Etc/UTC</td></tr>\n",
              "<tr><td>H2O data parsing timezone:</td>\n",
              "<td>UTC</td></tr>\n",
              "<tr><td>H2O cluster version:</td>\n",
              "<td>3.28.0.3</td></tr>\n",
              "<tr><td>H2O cluster version age:</td>\n",
              "<td>1 month and 3 days </td></tr>\n",
              "<tr><td>H2O cluster name:</td>\n",
              "<td>H2O_from_python_unknownUser_bbdfqy</td></tr>\n",
              "<tr><td>H2O cluster total nodes:</td>\n",
              "<td>1</td></tr>\n",
              "<tr><td>H2O cluster free memory:</td>\n",
              "<td>3 Gb</td></tr>\n",
              "<tr><td>H2O cluster total cores:</td>\n",
              "<td>2</td></tr>\n",
              "<tr><td>H2O cluster allowed cores:</td>\n",
              "<td>2</td></tr>\n",
              "<tr><td>H2O cluster status:</td>\n",
              "<td>accepting new members, healthy</td></tr>\n",
              "<tr><td>H2O connection url:</td>\n",
              "<td>http://127.0.0.1:54321</td></tr>\n",
              "<tr><td>H2O connection proxy:</td>\n",
              "<td>{'http': None, 'https': None}</td></tr>\n",
              "<tr><td>H2O internal security:</td>\n",
              "<td>False</td></tr>\n",
              "<tr><td>H2O API Extensions:</td>\n",
              "<td>Amazon S3, XGBoost, Algos, AutoML, Core V3, TargetEncoder, Core V4</td></tr>\n",
              "<tr><td>Python version:</td>\n",
              "<td>3.6.9 final</td></tr></table></div>"
            ],
            "text/plain": [
              "--------------------------  ------------------------------------------------------------------\n",
              "H2O cluster uptime:         02 secs\n",
              "H2O cluster timezone:       Etc/UTC\n",
              "H2O data parsing timezone:  UTC\n",
              "H2O cluster version:        3.28.0.3\n",
              "H2O cluster version age:    1 month and 3 days\n",
              "H2O cluster name:           H2O_from_python_unknownUser_bbdfqy\n",
              "H2O cluster total nodes:    1\n",
              "H2O cluster free memory:    3 Gb\n",
              "H2O cluster total cores:    2\n",
              "H2O cluster allowed cores:  2\n",
              "H2O cluster status:         accepting new members, healthy\n",
              "H2O connection url:         http://127.0.0.1:54321\n",
              "H2O connection proxy:       {'http': None, 'https': None}\n",
              "H2O internal security:      False\n",
              "H2O API Extensions:         Amazon S3, XGBoost, Algos, AutoML, Core V3, TargetEncoder, Core V4\n",
              "Python version:             3.6.9 final\n",
              "--------------------------  ------------------------------------------------------------------"
            ]
          },
          "metadata": {
            "tags": []
          }
        }
      ]
    },
    {
      "cell_type": "code",
      "metadata": {
        "colab_type": "code",
        "outputId": "ab7c7c31-5b27-45f8-cf05-44a67e852405",
        "id": "8YyHM4LIgOhC",
        "colab": {
          "base_uri": "https://localhost:8080/",
          "height": 35
        }
      },
      "source": [
        "train = pd.DataFrame(train_set_x).join(train_set_y)\n",
        "\n",
        "train = h2o.H2OFrame(train)\n",
        "\n"
      ],
      "execution_count": 0,
      "outputs": [
        {
          "output_type": "stream",
          "text": [
            "Parse progress: |█████████████████████████████████████████████████████████| 100%\n"
          ],
          "name": "stdout"
        }
      ]
    },
    {
      "cell_type": "code",
      "metadata": {
        "id": "JAeiFFVpgHz1",
        "colab_type": "code",
        "colab": {}
      },
      "source": [
        "x = train.col_names[:-1]    \n",
        "y = train.col_names[-1]  \n",
        "\n",
        "from h2o.grid.grid_search import H2OGridSearch"
      ],
      "execution_count": 0,
      "outputs": []
    },
    {
      "cell_type": "code",
      "metadata": {
        "id": "hFM0PpQUgbA6",
        "colab_type": "code",
        "colab": {}
      },
      "source": [
        "rf_parameters2 = {'max_depth': list(np.random.randint(200,5000,30)),\n",
        "                'ntrees': list(np.random.randint(8,20,10)),\n",
        "                 'min_rows': list(np.random.randint(1,20,10))\n",
        "                 }"
      ],
      "execution_count": 0,
      "outputs": []
    },
    {
      "cell_type": "code",
      "metadata": {
        "id": "2xdTDfm_glsO",
        "colab_type": "code",
        "colab": {}
      },
      "source": [
        "from h2o.estimators.random_forest import H2ORandomForestEstimator\n",
        "\n",
        "rf_h2o = H2ORandomForestEstimator(model_id='rf_h2o', seed=1, categorical_encoding='enum', nfolds=5, keep_cross_validation_models=True)"
      ],
      "execution_count": 0,
      "outputs": []
    },
    {
      "cell_type": "code",
      "metadata": {
        "id": "FT3kNOnygrI8",
        "colab_type": "code",
        "colab": {}
      },
      "source": [
        "rf_h2o_grid_full = H2OGridSearch(model=rf_h2o,\n",
        "                          grid_id='rf_h2o_grid_full',\n",
        "                          hyper_params=rf_parameters2,\n",
        "                         search_criteria = {'strategy': 'RandomDiscrete', 'max_models': 20}\n",
        "\n",
        "                          )"
      ],
      "execution_count": 0,
      "outputs": []
    },
    {
      "cell_type": "code",
      "metadata": {
        "id": "9tFPHvDRg3pC",
        "colab_type": "code",
        "outputId": "ed7a3794-d1f9-426a-deb6-d37897eb4d7a",
        "colab": {
          "base_uri": "https://localhost:8080/",
          "height": 71
        }
      },
      "source": [
        "%%time \n",
        "\n",
        "rf_h2o_grid_full.train(x=x, y=y, training_frame=train)"
      ],
      "execution_count": 0,
      "outputs": [
        {
          "output_type": "stream",
          "text": [
            "drf Grid Build progress: |████████████████████████████████████████████████| 100%\n",
            "CPU times: user 40.8 s, sys: 2.66 s, total: 43.4 s\n",
            "Wall time: 2h 35min 22s\n"
          ],
          "name": "stdout"
        }
      ]
    },
    {
      "cell_type": "code",
      "metadata": {
        "id": "URR3Gkizkarp",
        "colab_type": "code",
        "outputId": "7a83bd73-6a68-42e6-ac43-4c05c791141d",
        "colab": {
          "base_uri": "https://localhost:8080/",
          "height": 376
        }
      },
      "source": [
        "rf_h2o_grid_full.get_grid(sort_by=\"r2\", decreasing=True)"
      ],
      "execution_count": 0,
      "outputs": [
        {
          "output_type": "error",
          "ename": "H2OResponseError",
          "evalue": "ignored",
          "traceback": [
            "\u001b[0;31m---------------------------------------------------------------------------\u001b[0m",
            "\u001b[0;31mH2OResponseError\u001b[0m                          Traceback (most recent call last)",
            "\u001b[0;32m<ipython-input-93-b735f4aa1823>\u001b[0m in \u001b[0;36m<module>\u001b[0;34m()\u001b[0m\n\u001b[0;32m----> 1\u001b[0;31m \u001b[0mrf_h2o_grid_full\u001b[0m\u001b[0;34m.\u001b[0m\u001b[0mget_grid\u001b[0m\u001b[0;34m(\u001b[0m\u001b[0msort_by\u001b[0m\u001b[0;34m=\u001b[0m\u001b[0;34m\"r2\"\u001b[0m\u001b[0;34m,\u001b[0m \u001b[0mdecreasing\u001b[0m\u001b[0;34m=\u001b[0m\u001b[0;32mTrue\u001b[0m\u001b[0;34m)\u001b[0m\u001b[0;34m\u001b[0m\u001b[0;34m\u001b[0m\u001b[0m\n\u001b[0m",
            "\u001b[0;32m/usr/local/lib/python3.6/dist-packages/h2o/grid/grid_search.py\u001b[0m in \u001b[0;36mget_grid\u001b[0;34m(self, sort_by, decreasing)\u001b[0m\n\u001b[1;32m    842\u001b[0m         \u001b[0;32mif\u001b[0m \u001b[0msort_by\u001b[0m \u001b[0;32mis\u001b[0m \u001b[0;32mNone\u001b[0m \u001b[0;32mand\u001b[0m \u001b[0mdecreasing\u001b[0m \u001b[0;32mis\u001b[0m \u001b[0;32mNone\u001b[0m\u001b[0;34m:\u001b[0m \u001b[0;32mreturn\u001b[0m \u001b[0mself\u001b[0m\u001b[0;34m\u001b[0m\u001b[0;34m\u001b[0m\u001b[0m\n\u001b[1;32m    843\u001b[0m \u001b[0;34m\u001b[0m\u001b[0m\n\u001b[0;32m--> 844\u001b[0;31m         \u001b[0mgrid_json\u001b[0m \u001b[0;34m=\u001b[0m \u001b[0mh2o\u001b[0m\u001b[0;34m.\u001b[0m\u001b[0mapi\u001b[0m\u001b[0;34m(\u001b[0m\u001b[0;34m\"GET /99/Grids/%s\"\u001b[0m \u001b[0;34m%\u001b[0m \u001b[0mself\u001b[0m\u001b[0;34m.\u001b[0m\u001b[0m_id\u001b[0m\u001b[0;34m,\u001b[0m \u001b[0mdata\u001b[0m\u001b[0;34m=\u001b[0m\u001b[0;34m{\u001b[0m\u001b[0;34m\"sort_by\"\u001b[0m\u001b[0;34m:\u001b[0m \u001b[0msort_by\u001b[0m\u001b[0;34m,\u001b[0m \u001b[0;34m\"decreasing\"\u001b[0m\u001b[0;34m:\u001b[0m \u001b[0mdecreasing\u001b[0m\u001b[0;34m}\u001b[0m\u001b[0;34m)\u001b[0m\u001b[0;34m\u001b[0m\u001b[0;34m\u001b[0m\u001b[0m\n\u001b[0m\u001b[1;32m    845\u001b[0m         \u001b[0mgrid\u001b[0m \u001b[0;34m=\u001b[0m \u001b[0mH2OGridSearch\u001b[0m\u001b[0;34m(\u001b[0m\u001b[0mself\u001b[0m\u001b[0;34m.\u001b[0m\u001b[0mmodel\u001b[0m\u001b[0;34m,\u001b[0m \u001b[0mself\u001b[0m\u001b[0;34m.\u001b[0m\u001b[0mhyper_params\u001b[0m\u001b[0;34m,\u001b[0m \u001b[0mself\u001b[0m\u001b[0;34m.\u001b[0m\u001b[0m_id\u001b[0m\u001b[0;34m)\u001b[0m\u001b[0;34m\u001b[0m\u001b[0;34m\u001b[0m\u001b[0m\n\u001b[1;32m    846\u001b[0m         \u001b[0mgrid\u001b[0m\u001b[0;34m.\u001b[0m\u001b[0mmodels\u001b[0m \u001b[0;34m=\u001b[0m \u001b[0;34m[\u001b[0m\u001b[0mh2o\u001b[0m\u001b[0;34m.\u001b[0m\u001b[0mget_model\u001b[0m\u001b[0;34m(\u001b[0m\u001b[0mkey\u001b[0m\u001b[0;34m[\u001b[0m\u001b[0;34m'name'\u001b[0m\u001b[0;34m]\u001b[0m\u001b[0;34m)\u001b[0m \u001b[0;32mfor\u001b[0m \u001b[0mkey\u001b[0m \u001b[0;32min\u001b[0m \u001b[0mgrid_json\u001b[0m\u001b[0;34m[\u001b[0m\u001b[0;34m'model_ids'\u001b[0m\u001b[0;34m]\u001b[0m\u001b[0;34m]\u001b[0m  \u001b[0;31m# reordered\u001b[0m\u001b[0;34m\u001b[0m\u001b[0;34m\u001b[0m\u001b[0m\n",
            "\u001b[0;32m/usr/local/lib/python3.6/dist-packages/h2o/h2o.py\u001b[0m in \u001b[0;36mapi\u001b[0;34m(endpoint, data, json, filename, save_to)\u001b[0m\n\u001b[1;32m    121\u001b[0m     \u001b[0;31m# type checks are performed in H2OConnection class\u001b[0m\u001b[0;34m\u001b[0m\u001b[0;34m\u001b[0m\u001b[0;34m\u001b[0m\u001b[0m\n\u001b[1;32m    122\u001b[0m     \u001b[0m_check_connection\u001b[0m\u001b[0;34m(\u001b[0m\u001b[0;34m)\u001b[0m\u001b[0;34m\u001b[0m\u001b[0;34m\u001b[0m\u001b[0m\n\u001b[0;32m--> 123\u001b[0;31m     \u001b[0;32mreturn\u001b[0m \u001b[0mh2oconn\u001b[0m\u001b[0;34m.\u001b[0m\u001b[0mrequest\u001b[0m\u001b[0;34m(\u001b[0m\u001b[0mendpoint\u001b[0m\u001b[0;34m,\u001b[0m \u001b[0mdata\u001b[0m\u001b[0;34m=\u001b[0m\u001b[0mdata\u001b[0m\u001b[0;34m,\u001b[0m \u001b[0mjson\u001b[0m\u001b[0;34m=\u001b[0m\u001b[0mjson\u001b[0m\u001b[0;34m,\u001b[0m \u001b[0mfilename\u001b[0m\u001b[0;34m=\u001b[0m\u001b[0mfilename\u001b[0m\u001b[0;34m,\u001b[0m \u001b[0msave_to\u001b[0m\u001b[0;34m=\u001b[0m\u001b[0msave_to\u001b[0m\u001b[0;34m)\u001b[0m\u001b[0;34m\u001b[0m\u001b[0;34m\u001b[0m\u001b[0m\n\u001b[0m\u001b[1;32m    124\u001b[0m \u001b[0;34m\u001b[0m\u001b[0m\n\u001b[1;32m    125\u001b[0m \u001b[0;34m\u001b[0m\u001b[0m\n",
            "\u001b[0;32m/usr/local/lib/python3.6/dist-packages/h2o/backend/connection.py\u001b[0m in \u001b[0;36mrequest\u001b[0;34m(self, endpoint, data, json, filename, save_to)\u001b[0m\n\u001b[1;32m    476\u001b[0m                 \u001b[0msave_to\u001b[0m \u001b[0;34m=\u001b[0m \u001b[0msave_to\u001b[0m\u001b[0;34m(\u001b[0m\u001b[0mresp\u001b[0m\u001b[0;34m)\u001b[0m\u001b[0;34m\u001b[0m\u001b[0;34m\u001b[0m\u001b[0m\n\u001b[1;32m    477\u001b[0m             \u001b[0mself\u001b[0m\u001b[0;34m.\u001b[0m\u001b[0m_log_end_transaction\u001b[0m\u001b[0;34m(\u001b[0m\u001b[0mstart_time\u001b[0m\u001b[0;34m,\u001b[0m \u001b[0mresp\u001b[0m\u001b[0;34m)\u001b[0m\u001b[0;34m\u001b[0m\u001b[0;34m\u001b[0m\u001b[0m\n\u001b[0;32m--> 478\u001b[0;31m             \u001b[0;32mreturn\u001b[0m \u001b[0mself\u001b[0m\u001b[0;34m.\u001b[0m\u001b[0m_process_response\u001b[0m\u001b[0;34m(\u001b[0m\u001b[0mresp\u001b[0m\u001b[0;34m,\u001b[0m \u001b[0msave_to\u001b[0m\u001b[0;34m)\u001b[0m\u001b[0;34m\u001b[0m\u001b[0;34m\u001b[0m\u001b[0m\n\u001b[0m\u001b[1;32m    479\u001b[0m \u001b[0;34m\u001b[0m\u001b[0m\n\u001b[1;32m    480\u001b[0m         \u001b[0;32mexcept\u001b[0m \u001b[0;34m(\u001b[0m\u001b[0mrequests\u001b[0m\u001b[0;34m.\u001b[0m\u001b[0mexceptions\u001b[0m\u001b[0;34m.\u001b[0m\u001b[0mConnectionError\u001b[0m\u001b[0;34m,\u001b[0m \u001b[0mrequests\u001b[0m\u001b[0;34m.\u001b[0m\u001b[0mexceptions\u001b[0m\u001b[0;34m.\u001b[0m\u001b[0mHTTPError\u001b[0m\u001b[0;34m)\u001b[0m \u001b[0;32mas\u001b[0m \u001b[0me\u001b[0m\u001b[0;34m:\u001b[0m\u001b[0;34m\u001b[0m\u001b[0;34m\u001b[0m\u001b[0m\n",
            "\u001b[0;32m/usr/local/lib/python3.6/dist-packages/h2o/backend/connection.py\u001b[0m in \u001b[0;36m_process_response\u001b[0;34m(response, save_to)\u001b[0m\n\u001b[1;32m    822\u001b[0m         \u001b[0;31m# Client errors (400 = \"Bad Request\", 404 = \"Not Found\", 412 = \"Precondition Failed\")\u001b[0m\u001b[0;34m\u001b[0m\u001b[0;34m\u001b[0m\u001b[0;34m\u001b[0m\u001b[0m\n\u001b[1;32m    823\u001b[0m         \u001b[0;32mif\u001b[0m \u001b[0mstatus_code\u001b[0m \u001b[0;32min\u001b[0m \u001b[0;34m{\u001b[0m\u001b[0;36m400\u001b[0m\u001b[0;34m,\u001b[0m \u001b[0;36m404\u001b[0m\u001b[0;34m,\u001b[0m \u001b[0;36m412\u001b[0m\u001b[0;34m}\u001b[0m \u001b[0;32mand\u001b[0m \u001b[0misinstance\u001b[0m\u001b[0;34m(\u001b[0m\u001b[0mdata\u001b[0m\u001b[0;34m,\u001b[0m \u001b[0;34m(\u001b[0m\u001b[0mH2OErrorV3\u001b[0m\u001b[0;34m,\u001b[0m \u001b[0mH2OModelBuilderErrorV3\u001b[0m\u001b[0;34m)\u001b[0m\u001b[0;34m)\u001b[0m\u001b[0;34m:\u001b[0m\u001b[0;34m\u001b[0m\u001b[0;34m\u001b[0m\u001b[0m\n\u001b[0;32m--> 824\u001b[0;31m             \u001b[0;32mraise\u001b[0m \u001b[0mH2OResponseError\u001b[0m\u001b[0;34m(\u001b[0m\u001b[0mdata\u001b[0m\u001b[0;34m)\u001b[0m\u001b[0;34m\u001b[0m\u001b[0;34m\u001b[0m\u001b[0m\n\u001b[0m\u001b[1;32m    825\u001b[0m \u001b[0;34m\u001b[0m\u001b[0m\n\u001b[1;32m    826\u001b[0m         \u001b[0;31m# Server errors (notably 500 = \"Server Error\")\u001b[0m\u001b[0;34m\u001b[0m\u001b[0;34m\u001b[0m\u001b[0;34m\u001b[0m\u001b[0m\n",
            "\u001b[0;31mH2OResponseError\u001b[0m: Server error water.exceptions.H2OKeyNotFoundArgumentException:\n  Error: Object 'rf_h2o_grid_full' not found for argument: grid_id\n  Request: GET /99/Grids/rf_h2o_grid_full\n    params: {'sort_by': 'r2', 'decreasing': 'True'}\n"
          ]
        }
      ]
    },
    {
      "cell_type": "code",
      "metadata": {
        "id": "UGkYVCgeKhhb",
        "colab_type": "code",
        "outputId": "904ad892-a046-4d58-e96a-a827ea7e31e2",
        "colab": {
          "base_uri": "https://localhost:8080/",
          "height": 413
        }
      },
      "source": [
        "rf_h2o_grid_full.get_grid"
      ],
      "execution_count": 0,
      "outputs": [
        {
          "output_type": "stream",
          "text": [
            "     max_depth min_rows ntrees                  model_ids   residual_deviance\n",
            "0         4384      3.0     19  rf_h2o_grid_full_model_15   338862.9547594797\n",
            "1         1924      3.0     19  rf_h2o_grid_full_model_17   338862.9547594797\n",
            "2         4135      3.0     16   rf_h2o_grid_full_model_2   342717.1997308911\n",
            "3         4384      3.0     14   rf_h2o_grid_full_model_1   345145.4088581557\n",
            "4         1089      3.0     14  rf_h2o_grid_full_model_10   345145.4088581557\n",
            "5          996      3.0     10  rf_h2o_grid_full_model_12   353971.0441829587\n",
            "6         4135      5.0     16  rf_h2o_grid_full_model_11   360489.6676185607\n",
            "7         4770      7.0     19  rf_h2o_grid_full_model_19  374371.24486761156\n",
            "8         1913      9.0     19   rf_h2o_grid_full_model_6   393125.8662299337\n",
            "9          777      9.0     16  rf_h2o_grid_full_model_18  396647.47066868923\n",
            "10        1053      9.0     14   rf_h2o_grid_full_model_7   398836.9485798189\n",
            "11        2804     15.0     16   rf_h2o_grid_full_model_5   444754.2528746515\n",
            "12        4839     15.0     15   rf_h2o_grid_full_model_8   445560.0909825309\n",
            "13        1089     15.0     14   rf_h2o_grid_full_model_9   447202.8173451869\n",
            "14         777     16.0     16   rf_h2o_grid_full_model_3  452490.35927942395\n",
            "15        4552     16.0     15  rf_h2o_grid_full_model_14  453475.65245992306\n",
            "16         660     19.0     19  rf_h2o_grid_full_model_13   468983.0311892244\n",
            "17        4770     19.0     15  rf_h2o_grid_full_model_20   473908.3117893087\n",
            "18        2622     19.0     10  rf_h2o_grid_full_model_16   482811.3328480796\n",
            "19         777     19.0     10   rf_h2o_grid_full_model_4   482811.3328480796\n"
          ],
          "name": "stdout"
        },
        {
          "output_type": "execute_result",
          "data": {
            "text/plain": [
              "<bound method H2OGridSearch.get_grid of >"
            ]
          },
          "metadata": {
            "tags": []
          },
          "execution_count": 87
        }
      ]
    },
    {
      "cell_type": "code",
      "metadata": {
        "id": "D83QBzCEMTa2",
        "colab_type": "code",
        "outputId": "668298ec-58fd-4277-cd51-11e3edbd7bc6",
        "colab": {
          "base_uri": "https://localhost:8080/",
          "height": 136
        }
      },
      "source": [
        "     max_depth min_rows ntrees                  model_ids   residual_deviance\n",
        "0         4384      3.0     19  rf_h2o_grid_full_model_15   338862.9547594797\n",
        "1         1924      3.0     19  rf_h2o_grid_full_model_17   338862.9547594797\n",
        "2         4135      3.0     16   rf_h2o_grid_full_model_2   342717.1997308911\n",
        "3         4384      3.0     14   rf_h2o_grid_full_model_1   345145.4088581557\n",
        "4         1089      3.0     14  rf_h2o_grid_full_model_10   345145.4088581557\n",
        "5          996      3.0     10  rf_h2o_grid_full_model_12   353971.0441829587\n",
        "6         4135      5.0     16  rf_h2o_grid_full_model_11   360489.6676185607\n",
        "7         4770      7.0     19  rf_h2o_grid_full_model_19  374371.24486761156\n",
        "8         1913      9.0     19   rf_h2o_grid_full_model_6   393125.8662299337\n",
        "9          777      9.0     16  rf_h2o_grid_full_model_18  396647.47066868923\n",
        "10        1053      9.0     14   rf_h2o_grid_full_model_7   398836.9485798189\n",
        "11        2804     15.0     16   rf_h2o_grid_full_model_5   444754.2528746515\n",
        "12        4839     15.0     15   rf_h2o_grid_full_model_8   445560.0909825309\n",
        "13        1089     15.0     14   rf_h2o_grid_full_model_9   447202.8173451869\n",
        "14         777     16.0     16   rf_h2o_grid_full_model_3  452490.35927942395\n",
        "15        4552     16.0     15  rf_h2o_grid_full_model_14  453475.65245992306\n",
        "16         660     19.0     19  rf_h2o_grid_full_model_13   468983.0311892244\n",
        "17        4770     19.0     15  rf_h2o_grid_full_model_20   473908.3117893087\n",
        "18        2622     19.0     10  rf_h2o_grid_full_model_16   482811.3328480796\n",
        "19         777     19.0     10   rf_h2o_grid_full_model_4   482811.3328480796"
      ],
      "execution_count": 0,
      "outputs": [
        {
          "output_type": "error",
          "ename": "SyntaxError",
          "evalue": "ignored",
          "traceback": [
            "\u001b[0;36m  File \u001b[0;32m\"<ipython-input-98-8e7c675a83e1>\"\u001b[0;36m, line \u001b[0;32m1\u001b[0m\n\u001b[0;31m    max_depth min_rows ntrees                  model_ids   residual_deviance\u001b[0m\n\u001b[0m                     ^\u001b[0m\n\u001b[0;31mSyntaxError\u001b[0m\u001b[0;31m:\u001b[0m invalid syntax\n"
          ]
        }
      ]
    },
    {
      "cell_type": "markdown",
      "metadata": {
        "id": "jQEprQ5OK_bR",
        "colab_type": "text"
      },
      "source": [
        "Note that the best R^2 is 0.969 here"
      ]
    },
    {
      "cell_type": "code",
      "metadata": {
        "id": "u1u_WeS8Kt75",
        "colab_type": "code",
        "outputId": "9fdcd1a4-5de2-4802-eb24-31bf4d8d4488",
        "colab": {
          "base_uri": "https://localhost:8080/",
          "height": 376
        }
      },
      "source": [
        "rf_h2o_grid_full.get_grid(sort_by='r2', decreasing=True)"
      ],
      "execution_count": 0,
      "outputs": [
        {
          "output_type": "error",
          "ename": "H2OResponseError",
          "evalue": "ignored",
          "traceback": [
            "\u001b[0;31m---------------------------------------------------------------------------\u001b[0m",
            "\u001b[0;31mH2OResponseError\u001b[0m                          Traceback (most recent call last)",
            "\u001b[0;32m<ipython-input-91-b944ecf11e6d>\u001b[0m in \u001b[0;36m<module>\u001b[0;34m()\u001b[0m\n\u001b[0;32m----> 1\u001b[0;31m \u001b[0mrf_h2o_grid_full\u001b[0m\u001b[0;34m.\u001b[0m\u001b[0mget_grid\u001b[0m\u001b[0;34m(\u001b[0m\u001b[0msort_by\u001b[0m\u001b[0;34m=\u001b[0m\u001b[0;34m'r2'\u001b[0m\u001b[0;34m,\u001b[0m \u001b[0mdecreasing\u001b[0m\u001b[0;34m=\u001b[0m\u001b[0;32mTrue\u001b[0m\u001b[0;34m)\u001b[0m\u001b[0;34m\u001b[0m\u001b[0;34m\u001b[0m\u001b[0m\n\u001b[0m",
            "\u001b[0;32m/usr/local/lib/python3.6/dist-packages/h2o/grid/grid_search.py\u001b[0m in \u001b[0;36mget_grid\u001b[0;34m(self, sort_by, decreasing)\u001b[0m\n\u001b[1;32m    842\u001b[0m         \u001b[0;32mif\u001b[0m \u001b[0msort_by\u001b[0m \u001b[0;32mis\u001b[0m \u001b[0;32mNone\u001b[0m \u001b[0;32mand\u001b[0m \u001b[0mdecreasing\u001b[0m \u001b[0;32mis\u001b[0m \u001b[0;32mNone\u001b[0m\u001b[0;34m:\u001b[0m \u001b[0;32mreturn\u001b[0m \u001b[0mself\u001b[0m\u001b[0;34m\u001b[0m\u001b[0;34m\u001b[0m\u001b[0m\n\u001b[1;32m    843\u001b[0m \u001b[0;34m\u001b[0m\u001b[0m\n\u001b[0;32m--> 844\u001b[0;31m         \u001b[0mgrid_json\u001b[0m \u001b[0;34m=\u001b[0m \u001b[0mh2o\u001b[0m\u001b[0;34m.\u001b[0m\u001b[0mapi\u001b[0m\u001b[0;34m(\u001b[0m\u001b[0;34m\"GET /99/Grids/%s\"\u001b[0m \u001b[0;34m%\u001b[0m \u001b[0mself\u001b[0m\u001b[0;34m.\u001b[0m\u001b[0m_id\u001b[0m\u001b[0;34m,\u001b[0m \u001b[0mdata\u001b[0m\u001b[0;34m=\u001b[0m\u001b[0;34m{\u001b[0m\u001b[0;34m\"sort_by\"\u001b[0m\u001b[0;34m:\u001b[0m \u001b[0msort_by\u001b[0m\u001b[0;34m,\u001b[0m \u001b[0;34m\"decreasing\"\u001b[0m\u001b[0;34m:\u001b[0m \u001b[0mdecreasing\u001b[0m\u001b[0;34m}\u001b[0m\u001b[0;34m)\u001b[0m\u001b[0;34m\u001b[0m\u001b[0;34m\u001b[0m\u001b[0m\n\u001b[0m\u001b[1;32m    845\u001b[0m         \u001b[0mgrid\u001b[0m \u001b[0;34m=\u001b[0m \u001b[0mH2OGridSearch\u001b[0m\u001b[0;34m(\u001b[0m\u001b[0mself\u001b[0m\u001b[0;34m.\u001b[0m\u001b[0mmodel\u001b[0m\u001b[0;34m,\u001b[0m \u001b[0mself\u001b[0m\u001b[0;34m.\u001b[0m\u001b[0mhyper_params\u001b[0m\u001b[0;34m,\u001b[0m \u001b[0mself\u001b[0m\u001b[0;34m.\u001b[0m\u001b[0m_id\u001b[0m\u001b[0;34m)\u001b[0m\u001b[0;34m\u001b[0m\u001b[0;34m\u001b[0m\u001b[0m\n\u001b[1;32m    846\u001b[0m         \u001b[0mgrid\u001b[0m\u001b[0;34m.\u001b[0m\u001b[0mmodels\u001b[0m \u001b[0;34m=\u001b[0m \u001b[0;34m[\u001b[0m\u001b[0mh2o\u001b[0m\u001b[0;34m.\u001b[0m\u001b[0mget_model\u001b[0m\u001b[0;34m(\u001b[0m\u001b[0mkey\u001b[0m\u001b[0;34m[\u001b[0m\u001b[0;34m'name'\u001b[0m\u001b[0;34m]\u001b[0m\u001b[0;34m)\u001b[0m \u001b[0;32mfor\u001b[0m \u001b[0mkey\u001b[0m \u001b[0;32min\u001b[0m \u001b[0mgrid_json\u001b[0m\u001b[0;34m[\u001b[0m\u001b[0;34m'model_ids'\u001b[0m\u001b[0;34m]\u001b[0m\u001b[0;34m]\u001b[0m  \u001b[0;31m# reordered\u001b[0m\u001b[0;34m\u001b[0m\u001b[0;34m\u001b[0m\u001b[0m\n",
            "\u001b[0;32m/usr/local/lib/python3.6/dist-packages/h2o/h2o.py\u001b[0m in \u001b[0;36mapi\u001b[0;34m(endpoint, data, json, filename, save_to)\u001b[0m\n\u001b[1;32m    121\u001b[0m     \u001b[0;31m# type checks are performed in H2OConnection class\u001b[0m\u001b[0;34m\u001b[0m\u001b[0;34m\u001b[0m\u001b[0;34m\u001b[0m\u001b[0m\n\u001b[1;32m    122\u001b[0m     \u001b[0m_check_connection\u001b[0m\u001b[0;34m(\u001b[0m\u001b[0;34m)\u001b[0m\u001b[0;34m\u001b[0m\u001b[0;34m\u001b[0m\u001b[0m\n\u001b[0;32m--> 123\u001b[0;31m     \u001b[0;32mreturn\u001b[0m \u001b[0mh2oconn\u001b[0m\u001b[0;34m.\u001b[0m\u001b[0mrequest\u001b[0m\u001b[0;34m(\u001b[0m\u001b[0mendpoint\u001b[0m\u001b[0;34m,\u001b[0m \u001b[0mdata\u001b[0m\u001b[0;34m=\u001b[0m\u001b[0mdata\u001b[0m\u001b[0;34m,\u001b[0m \u001b[0mjson\u001b[0m\u001b[0;34m=\u001b[0m\u001b[0mjson\u001b[0m\u001b[0;34m,\u001b[0m \u001b[0mfilename\u001b[0m\u001b[0;34m=\u001b[0m\u001b[0mfilename\u001b[0m\u001b[0;34m,\u001b[0m \u001b[0msave_to\u001b[0m\u001b[0;34m=\u001b[0m\u001b[0msave_to\u001b[0m\u001b[0;34m)\u001b[0m\u001b[0;34m\u001b[0m\u001b[0;34m\u001b[0m\u001b[0m\n\u001b[0m\u001b[1;32m    124\u001b[0m \u001b[0;34m\u001b[0m\u001b[0m\n\u001b[1;32m    125\u001b[0m \u001b[0;34m\u001b[0m\u001b[0m\n",
            "\u001b[0;32m/usr/local/lib/python3.6/dist-packages/h2o/backend/connection.py\u001b[0m in \u001b[0;36mrequest\u001b[0;34m(self, endpoint, data, json, filename, save_to)\u001b[0m\n\u001b[1;32m    476\u001b[0m                 \u001b[0msave_to\u001b[0m \u001b[0;34m=\u001b[0m \u001b[0msave_to\u001b[0m\u001b[0;34m(\u001b[0m\u001b[0mresp\u001b[0m\u001b[0;34m)\u001b[0m\u001b[0;34m\u001b[0m\u001b[0;34m\u001b[0m\u001b[0m\n\u001b[1;32m    477\u001b[0m             \u001b[0mself\u001b[0m\u001b[0;34m.\u001b[0m\u001b[0m_log_end_transaction\u001b[0m\u001b[0;34m(\u001b[0m\u001b[0mstart_time\u001b[0m\u001b[0;34m,\u001b[0m \u001b[0mresp\u001b[0m\u001b[0;34m)\u001b[0m\u001b[0;34m\u001b[0m\u001b[0;34m\u001b[0m\u001b[0m\n\u001b[0;32m--> 478\u001b[0;31m             \u001b[0;32mreturn\u001b[0m \u001b[0mself\u001b[0m\u001b[0;34m.\u001b[0m\u001b[0m_process_response\u001b[0m\u001b[0;34m(\u001b[0m\u001b[0mresp\u001b[0m\u001b[0;34m,\u001b[0m \u001b[0msave_to\u001b[0m\u001b[0;34m)\u001b[0m\u001b[0;34m\u001b[0m\u001b[0;34m\u001b[0m\u001b[0m\n\u001b[0m\u001b[1;32m    479\u001b[0m \u001b[0;34m\u001b[0m\u001b[0m\n\u001b[1;32m    480\u001b[0m         \u001b[0;32mexcept\u001b[0m \u001b[0;34m(\u001b[0m\u001b[0mrequests\u001b[0m\u001b[0;34m.\u001b[0m\u001b[0mexceptions\u001b[0m\u001b[0;34m.\u001b[0m\u001b[0mConnectionError\u001b[0m\u001b[0;34m,\u001b[0m \u001b[0mrequests\u001b[0m\u001b[0;34m.\u001b[0m\u001b[0mexceptions\u001b[0m\u001b[0;34m.\u001b[0m\u001b[0mHTTPError\u001b[0m\u001b[0;34m)\u001b[0m \u001b[0;32mas\u001b[0m \u001b[0me\u001b[0m\u001b[0;34m:\u001b[0m\u001b[0;34m\u001b[0m\u001b[0;34m\u001b[0m\u001b[0m\n",
            "\u001b[0;32m/usr/local/lib/python3.6/dist-packages/h2o/backend/connection.py\u001b[0m in \u001b[0;36m_process_response\u001b[0;34m(response, save_to)\u001b[0m\n\u001b[1;32m    822\u001b[0m         \u001b[0;31m# Client errors (400 = \"Bad Request\", 404 = \"Not Found\", 412 = \"Precondition Failed\")\u001b[0m\u001b[0;34m\u001b[0m\u001b[0;34m\u001b[0m\u001b[0;34m\u001b[0m\u001b[0m\n\u001b[1;32m    823\u001b[0m         \u001b[0;32mif\u001b[0m \u001b[0mstatus_code\u001b[0m \u001b[0;32min\u001b[0m \u001b[0;34m{\u001b[0m\u001b[0;36m400\u001b[0m\u001b[0;34m,\u001b[0m \u001b[0;36m404\u001b[0m\u001b[0;34m,\u001b[0m \u001b[0;36m412\u001b[0m\u001b[0;34m}\u001b[0m \u001b[0;32mand\u001b[0m \u001b[0misinstance\u001b[0m\u001b[0;34m(\u001b[0m\u001b[0mdata\u001b[0m\u001b[0;34m,\u001b[0m \u001b[0;34m(\u001b[0m\u001b[0mH2OErrorV3\u001b[0m\u001b[0;34m,\u001b[0m \u001b[0mH2OModelBuilderErrorV3\u001b[0m\u001b[0;34m)\u001b[0m\u001b[0;34m)\u001b[0m\u001b[0;34m:\u001b[0m\u001b[0;34m\u001b[0m\u001b[0;34m\u001b[0m\u001b[0m\n\u001b[0;32m--> 824\u001b[0;31m             \u001b[0;32mraise\u001b[0m \u001b[0mH2OResponseError\u001b[0m\u001b[0;34m(\u001b[0m\u001b[0mdata\u001b[0m\u001b[0;34m)\u001b[0m\u001b[0;34m\u001b[0m\u001b[0;34m\u001b[0m\u001b[0m\n\u001b[0m\u001b[1;32m    825\u001b[0m \u001b[0;34m\u001b[0m\u001b[0m\n\u001b[1;32m    826\u001b[0m         \u001b[0;31m# Server errors (notably 500 = \"Server Error\")\u001b[0m\u001b[0;34m\u001b[0m\u001b[0;34m\u001b[0m\u001b[0;34m\u001b[0m\u001b[0m\n",
            "\u001b[0;31mH2OResponseError\u001b[0m: Server error water.exceptions.H2OKeyNotFoundArgumentException:\n  Error: Object 'rf_h2o_grid_full' not found for argument: grid_id\n  Request: GET /99/Grids/rf_h2o_grid_full\n    params: {'sort_by': 'r2', 'decreasing': 'True'}\n"
          ]
        }
      ]
    },
    {
      "cell_type": "code",
      "metadata": {
        "id": "JoozPb0h2Zf4",
        "colab_type": "code",
        "colab": {}
      },
      "source": [
        "rf_parameters3 = {'max_depth': list(np.random.randint(200,6000,10)),\n",
        "                'ntrees': list(np.random.randint(30,55,10)),\n",
        "                 'min_rows': list(np.random.randint(1,2,10))\n",
        "                 }"
      ],
      "execution_count": 0,
      "outputs": []
    },
    {
      "cell_type": "code",
      "metadata": {
        "id": "PROWClAK250i",
        "colab_type": "code",
        "colab": {}
      },
      "source": [
        "from h2o.estimators.random_forest import H2ORandomForestEstimator\n",
        "\n",
        "rf_h2o2 = H2ORandomForestEstimator(model_id='rf_h2o2', seed=1, categorical_encoding='enum', nfolds=2)"
      ],
      "execution_count": 0,
      "outputs": []
    },
    {
      "cell_type": "code",
      "metadata": {
        "id": "G2HjvXFb3BJ7",
        "colab_type": "code",
        "colab": {}
      },
      "source": [
        "rf_h2o2_grid_full = H2OGridSearch(model=rf_h2o2,\n",
        "                          grid_id='rf_h2o2_grid_full',\n",
        "                          hyper_params=rf_parameters3,\n",
        "                         search_criteria = {'strategy': 'RandomDiscrete', 'max_models': 2}\n",
        "                          )"
      ],
      "execution_count": 0,
      "outputs": []
    },
    {
      "cell_type": "code",
      "metadata": {
        "id": "gNvwklOX3K6s",
        "colab_type": "code",
        "outputId": "ee27284e-80eb-4ffb-cf16-d9d318d00817",
        "colab": {
          "base_uri": "https://localhost:8080/",
          "height": 412
        }
      },
      "source": [
        "%%time \n",
        "\n",
        "rf_h2o2_grid_full.train(x=x, y=y, training_frame=train)"
      ],
      "execution_count": 0,
      "outputs": [
        {
          "output_type": "stream",
          "text": [
            "drf Grid Build progress: |████████████████████████████████████████████████ (cancelled) 100%\n"
          ],
          "name": "stdout"
        },
        {
          "output_type": "error",
          "ename": "H2OJobCancelled",
          "evalue": "ignored",
          "traceback": [
            "\u001b[0;31m---------------------------------------------------------------------------\u001b[0m",
            "\u001b[0;31mH2OJobCancelled\u001b[0m                           Traceback (most recent call last)",
            "\u001b[0;32m<ipython-input-28-46b19c84fd91>\u001b[0m in \u001b[0;36m<module>\u001b[0;34m()\u001b[0m\n\u001b[0;32m----> 1\u001b[0;31m \u001b[0mget_ipython\u001b[0m\u001b[0;34m(\u001b[0m\u001b[0;34m)\u001b[0m\u001b[0;34m.\u001b[0m\u001b[0mrun_cell_magic\u001b[0m\u001b[0;34m(\u001b[0m\u001b[0;34m'time'\u001b[0m\u001b[0;34m,\u001b[0m \u001b[0;34m''\u001b[0m\u001b[0;34m,\u001b[0m \u001b[0;34m'\\nrf_h2o2_grid_full.train(x=x, y=y, training_frame=train)'\u001b[0m\u001b[0;34m)\u001b[0m\u001b[0;34m\u001b[0m\u001b[0;34m\u001b[0m\u001b[0m\n\u001b[0m",
            "\u001b[0;32m/usr/local/lib/python3.6/dist-packages/IPython/core/interactiveshell.py\u001b[0m in \u001b[0;36mrun_cell_magic\u001b[0;34m(self, magic_name, line, cell)\u001b[0m\n\u001b[1;32m   2115\u001b[0m             \u001b[0mmagic_arg_s\u001b[0m \u001b[0;34m=\u001b[0m \u001b[0mself\u001b[0m\u001b[0;34m.\u001b[0m\u001b[0mvar_expand\u001b[0m\u001b[0;34m(\u001b[0m\u001b[0mline\u001b[0m\u001b[0;34m,\u001b[0m \u001b[0mstack_depth\u001b[0m\u001b[0;34m)\u001b[0m\u001b[0;34m\u001b[0m\u001b[0;34m\u001b[0m\u001b[0m\n\u001b[1;32m   2116\u001b[0m             \u001b[0;32mwith\u001b[0m \u001b[0mself\u001b[0m\u001b[0;34m.\u001b[0m\u001b[0mbuiltin_trap\u001b[0m\u001b[0;34m:\u001b[0m\u001b[0;34m\u001b[0m\u001b[0;34m\u001b[0m\u001b[0m\n\u001b[0;32m-> 2117\u001b[0;31m                 \u001b[0mresult\u001b[0m \u001b[0;34m=\u001b[0m \u001b[0mfn\u001b[0m\u001b[0;34m(\u001b[0m\u001b[0mmagic_arg_s\u001b[0m\u001b[0;34m,\u001b[0m \u001b[0mcell\u001b[0m\u001b[0;34m)\u001b[0m\u001b[0;34m\u001b[0m\u001b[0;34m\u001b[0m\u001b[0m\n\u001b[0m\u001b[1;32m   2118\u001b[0m             \u001b[0;32mreturn\u001b[0m \u001b[0mresult\u001b[0m\u001b[0;34m\u001b[0m\u001b[0;34m\u001b[0m\u001b[0m\n\u001b[1;32m   2119\u001b[0m \u001b[0;34m\u001b[0m\u001b[0m\n",
            "\u001b[0;32m</usr/local/lib/python3.6/dist-packages/decorator.py:decorator-gen-60>\u001b[0m in \u001b[0;36mtime\u001b[0;34m(self, line, cell, local_ns)\u001b[0m\n",
            "\u001b[0;32m/usr/local/lib/python3.6/dist-packages/IPython/core/magic.py\u001b[0m in \u001b[0;36m<lambda>\u001b[0;34m(f, *a, **k)\u001b[0m\n\u001b[1;32m    186\u001b[0m     \u001b[0;31m# but it's overkill for just that one bit of state.\u001b[0m\u001b[0;34m\u001b[0m\u001b[0;34m\u001b[0m\u001b[0;34m\u001b[0m\u001b[0m\n\u001b[1;32m    187\u001b[0m     \u001b[0;32mdef\u001b[0m \u001b[0mmagic_deco\u001b[0m\u001b[0;34m(\u001b[0m\u001b[0marg\u001b[0m\u001b[0;34m)\u001b[0m\u001b[0;34m:\u001b[0m\u001b[0;34m\u001b[0m\u001b[0;34m\u001b[0m\u001b[0m\n\u001b[0;32m--> 188\u001b[0;31m         \u001b[0mcall\u001b[0m \u001b[0;34m=\u001b[0m \u001b[0;32mlambda\u001b[0m \u001b[0mf\u001b[0m\u001b[0;34m,\u001b[0m \u001b[0;34m*\u001b[0m\u001b[0ma\u001b[0m\u001b[0;34m,\u001b[0m \u001b[0;34m**\u001b[0m\u001b[0mk\u001b[0m\u001b[0;34m:\u001b[0m \u001b[0mf\u001b[0m\u001b[0;34m(\u001b[0m\u001b[0;34m*\u001b[0m\u001b[0ma\u001b[0m\u001b[0;34m,\u001b[0m \u001b[0;34m**\u001b[0m\u001b[0mk\u001b[0m\u001b[0;34m)\u001b[0m\u001b[0;34m\u001b[0m\u001b[0;34m\u001b[0m\u001b[0m\n\u001b[0m\u001b[1;32m    189\u001b[0m \u001b[0;34m\u001b[0m\u001b[0m\n\u001b[1;32m    190\u001b[0m         \u001b[0;32mif\u001b[0m \u001b[0mcallable\u001b[0m\u001b[0;34m(\u001b[0m\u001b[0marg\u001b[0m\u001b[0;34m)\u001b[0m\u001b[0;34m:\u001b[0m\u001b[0;34m\u001b[0m\u001b[0;34m\u001b[0m\u001b[0m\n",
            "\u001b[0;32m/usr/local/lib/python3.6/dist-packages/IPython/core/magics/execution.py\u001b[0m in \u001b[0;36mtime\u001b[0;34m(self, line, cell, local_ns)\u001b[0m\n\u001b[1;32m   1187\u001b[0m         \u001b[0;32mif\u001b[0m \u001b[0mmode\u001b[0m\u001b[0;34m==\u001b[0m\u001b[0;34m'eval'\u001b[0m\u001b[0;34m:\u001b[0m\u001b[0;34m\u001b[0m\u001b[0;34m\u001b[0m\u001b[0m\n\u001b[1;32m   1188\u001b[0m             \u001b[0mst\u001b[0m \u001b[0;34m=\u001b[0m \u001b[0mclock2\u001b[0m\u001b[0;34m(\u001b[0m\u001b[0;34m)\u001b[0m\u001b[0;34m\u001b[0m\u001b[0;34m\u001b[0m\u001b[0m\n\u001b[0;32m-> 1189\u001b[0;31m             \u001b[0mout\u001b[0m \u001b[0;34m=\u001b[0m \u001b[0meval\u001b[0m\u001b[0;34m(\u001b[0m\u001b[0mcode\u001b[0m\u001b[0;34m,\u001b[0m \u001b[0mglob\u001b[0m\u001b[0;34m,\u001b[0m \u001b[0mlocal_ns\u001b[0m\u001b[0;34m)\u001b[0m\u001b[0;34m\u001b[0m\u001b[0;34m\u001b[0m\u001b[0m\n\u001b[0m\u001b[1;32m   1190\u001b[0m             \u001b[0mend\u001b[0m \u001b[0;34m=\u001b[0m \u001b[0mclock2\u001b[0m\u001b[0;34m(\u001b[0m\u001b[0;34m)\u001b[0m\u001b[0;34m\u001b[0m\u001b[0;34m\u001b[0m\u001b[0m\n\u001b[1;32m   1191\u001b[0m         \u001b[0;32melse\u001b[0m\u001b[0;34m:\u001b[0m\u001b[0;34m\u001b[0m\u001b[0;34m\u001b[0m\u001b[0m\n",
            "\u001b[0;32m<timed eval>\u001b[0m in \u001b[0;36m<module>\u001b[0;34m()\u001b[0m\n",
            "\u001b[0;32m/usr/local/lib/python3.6/dist-packages/h2o/grid/grid_search.py\u001b[0m in \u001b[0;36mtrain\u001b[0;34m(self, x, y, training_frame, offset_column, fold_column, weights_column, validation_frame, **params)\u001b[0m\n\u001b[1;32m    226\u001b[0m         \u001b[0mx\u001b[0m \u001b[0;34m=\u001b[0m \u001b[0mlist\u001b[0m\u001b[0;34m(\u001b[0m\u001b[0mxset\u001b[0m\u001b[0;34m)\u001b[0m\u001b[0;34m\u001b[0m\u001b[0;34m\u001b[0m\u001b[0m\n\u001b[1;32m    227\u001b[0m         \u001b[0mparms\u001b[0m\u001b[0;34m[\u001b[0m\u001b[0;34m\"x\"\u001b[0m\u001b[0;34m]\u001b[0m \u001b[0;34m=\u001b[0m \u001b[0mx\u001b[0m\u001b[0;34m\u001b[0m\u001b[0;34m\u001b[0m\u001b[0m\n\u001b[0;32m--> 228\u001b[0;31m         \u001b[0mself\u001b[0m\u001b[0;34m.\u001b[0m\u001b[0mbuild_model\u001b[0m\u001b[0;34m(\u001b[0m\u001b[0mparms\u001b[0m\u001b[0;34m)\u001b[0m\u001b[0;34m\u001b[0m\u001b[0;34m\u001b[0m\u001b[0m\n\u001b[0m\u001b[1;32m    229\u001b[0m \u001b[0;34m\u001b[0m\u001b[0m\n\u001b[1;32m    230\u001b[0m \u001b[0;34m\u001b[0m\u001b[0m\n",
            "\u001b[0;32m/usr/local/lib/python3.6/dist-packages/h2o/grid/grid_search.py\u001b[0m in \u001b[0;36mbuild_model\u001b[0;34m(self, algo_params)\u001b[0m\n\u001b[1;32m    244\u001b[0m             \u001b[0my\u001b[0m \u001b[0;34m=\u001b[0m \u001b[0my\u001b[0m \u001b[0;32mif\u001b[0m \u001b[0my\u001b[0m \u001b[0;32min\u001b[0m \u001b[0mtraining_frame\u001b[0m\u001b[0;34m.\u001b[0m\u001b[0mnames\u001b[0m \u001b[0;32melse\u001b[0m \u001b[0mtraining_frame\u001b[0m\u001b[0;34m.\u001b[0m\u001b[0mnames\u001b[0m\u001b[0;34m[\u001b[0m\u001b[0my\u001b[0m\u001b[0;34m]\u001b[0m\u001b[0;34m\u001b[0m\u001b[0;34m\u001b[0m\u001b[0m\n\u001b[1;32m    245\u001b[0m             \u001b[0mself\u001b[0m\u001b[0;34m.\u001b[0m\u001b[0mmodel\u001b[0m\u001b[0;34m.\u001b[0m\u001b[0m_estimator_type\u001b[0m \u001b[0;34m=\u001b[0m \u001b[0;34m\"classifier\"\u001b[0m \u001b[0;32mif\u001b[0m \u001b[0mtraining_frame\u001b[0m\u001b[0;34m.\u001b[0m\u001b[0mtypes\u001b[0m\u001b[0;34m[\u001b[0m\u001b[0my\u001b[0m\u001b[0;34m]\u001b[0m \u001b[0;34m==\u001b[0m \u001b[0;34m\"enum\"\u001b[0m \u001b[0;32melse\u001b[0m \u001b[0;34m\"regressor\"\u001b[0m\u001b[0;34m\u001b[0m\u001b[0;34m\u001b[0m\u001b[0m\n\u001b[0;32m--> 246\u001b[0;31m         \u001b[0mself\u001b[0m\u001b[0;34m.\u001b[0m\u001b[0m_model_build\u001b[0m\u001b[0;34m(\u001b[0m\u001b[0mx\u001b[0m\u001b[0;34m,\u001b[0m \u001b[0my\u001b[0m\u001b[0;34m,\u001b[0m \u001b[0mtraining_frame\u001b[0m\u001b[0;34m,\u001b[0m \u001b[0mvalidation_frame\u001b[0m\u001b[0;34m,\u001b[0m \u001b[0malgo_params\u001b[0m\u001b[0;34m)\u001b[0m\u001b[0;34m\u001b[0m\u001b[0;34m\u001b[0m\u001b[0m\n\u001b[0m\u001b[1;32m    247\u001b[0m \u001b[0;34m\u001b[0m\u001b[0m\n\u001b[1;32m    248\u001b[0m \u001b[0;34m\u001b[0m\u001b[0m\n",
            "\u001b[0;32m/usr/local/lib/python3.6/dist-packages/h2o/grid/grid_search.py\u001b[0m in \u001b[0;36m_model_build\u001b[0;34m(self, x, y, tframe, vframe, kwargs)\u001b[0m\n\u001b[1;32m    272\u001b[0m             \u001b[0;32mreturn\u001b[0m\u001b[0;34m\u001b[0m\u001b[0;34m\u001b[0m\u001b[0m\n\u001b[1;32m    273\u001b[0m \u001b[0;34m\u001b[0m\u001b[0m\n\u001b[0;32m--> 274\u001b[0;31m         \u001b[0mgrid\u001b[0m\u001b[0;34m.\u001b[0m\u001b[0mpoll\u001b[0m\u001b[0;34m(\u001b[0m\u001b[0;34m)\u001b[0m\u001b[0;34m\u001b[0m\u001b[0;34m\u001b[0m\u001b[0m\n\u001b[0m\u001b[1;32m    275\u001b[0m \u001b[0;34m\u001b[0m\u001b[0m\n\u001b[1;32m    276\u001b[0m         \u001b[0mgrid_json\u001b[0m \u001b[0;34m=\u001b[0m \u001b[0mh2o\u001b[0m\u001b[0;34m.\u001b[0m\u001b[0mapi\u001b[0m\u001b[0;34m(\u001b[0m\u001b[0;34m\"GET /99/Grids/%s\"\u001b[0m \u001b[0;34m%\u001b[0m \u001b[0;34m(\u001b[0m\u001b[0mgrid\u001b[0m\u001b[0;34m.\u001b[0m\u001b[0mdest_key\u001b[0m\u001b[0;34m)\u001b[0m\u001b[0;34m)\u001b[0m\u001b[0;34m\u001b[0m\u001b[0;34m\u001b[0m\u001b[0m\n",
            "\u001b[0;32m/usr/local/lib/python3.6/dist-packages/h2o/job.py\u001b[0m in \u001b[0;36mpoll\u001b[0;34m(self, poll_updates)\u001b[0m\n\u001b[1;32m     72\u001b[0m         \u001b[0;31m# check if failed... and politely print relevant message\u001b[0m\u001b[0;34m\u001b[0m\u001b[0;34m\u001b[0m\u001b[0;34m\u001b[0m\u001b[0m\n\u001b[1;32m     73\u001b[0m         \u001b[0;32mif\u001b[0m \u001b[0mself\u001b[0m\u001b[0;34m.\u001b[0m\u001b[0mstatus\u001b[0m \u001b[0;34m==\u001b[0m \u001b[0;34m\"CANCELLED\"\u001b[0m\u001b[0;34m:\u001b[0m\u001b[0;34m\u001b[0m\u001b[0;34m\u001b[0m\u001b[0m\n\u001b[0;32m---> 74\u001b[0;31m             \u001b[0;32mraise\u001b[0m \u001b[0mH2OJobCancelled\u001b[0m\u001b[0;34m(\u001b[0m\u001b[0;34m\"Job<%s> was cancelled by the user.\"\u001b[0m \u001b[0;34m%\u001b[0m \u001b[0mself\u001b[0m\u001b[0;34m.\u001b[0m\u001b[0mjob_key\u001b[0m\u001b[0;34m)\u001b[0m\u001b[0;34m\u001b[0m\u001b[0;34m\u001b[0m\u001b[0m\n\u001b[0m\u001b[1;32m     75\u001b[0m         \u001b[0;32mif\u001b[0m \u001b[0mself\u001b[0m\u001b[0;34m.\u001b[0m\u001b[0mstatus\u001b[0m \u001b[0;34m==\u001b[0m \u001b[0;34m\"FAILED\"\u001b[0m\u001b[0;34m:\u001b[0m\u001b[0;34m\u001b[0m\u001b[0;34m\u001b[0m\u001b[0m\n\u001b[1;32m     76\u001b[0m             \u001b[0;32mif\u001b[0m \u001b[0;34m(\u001b[0m\u001b[0misinstance\u001b[0m\u001b[0;34m(\u001b[0m\u001b[0mself\u001b[0m\u001b[0;34m.\u001b[0m\u001b[0mjob\u001b[0m\u001b[0;34m,\u001b[0m \u001b[0mdict\u001b[0m\u001b[0;34m)\u001b[0m\u001b[0;34m)\u001b[0m \u001b[0;32mand\u001b[0m \u001b[0;34m(\u001b[0m\u001b[0;34m\"stacktrace\"\u001b[0m \u001b[0;32min\u001b[0m \u001b[0mlist\u001b[0m\u001b[0;34m(\u001b[0m\u001b[0mself\u001b[0m\u001b[0;34m.\u001b[0m\u001b[0mjob\u001b[0m\u001b[0;34m)\u001b[0m\u001b[0;34m)\u001b[0m\u001b[0;34m:\u001b[0m\u001b[0;34m\u001b[0m\u001b[0;34m\u001b[0m\u001b[0m\n",
            "\u001b[0;31mH2OJobCancelled\u001b[0m: Job<$03017f00000132d4ffffffff$_8ad5ffa60b170a26b1bb32db93194514> was cancelled by the user."
          ]
        }
      ]
    },
    {
      "cell_type": "code",
      "metadata": {
        "id": "Xu2bXMZH3iS4",
        "colab_type": "code",
        "outputId": "df14a254-42a5-4fdb-8b63-fe6f0a40dbc5",
        "colab": {
          "base_uri": "https://localhost:8080/",
          "height": 53
        }
      },
      "source": [
        "rf_h2o2_grid_full.get_grid(sort_by='r2', decreasing=True)"
      ],
      "execution_count": 0,
      "outputs": [
        {
          "output_type": "stream",
          "text": [
            "    max_depth min_rows ntrees                  model_ids                  r2\n",
            "0        3348      1.0     53  rf_h2o2_grid_full_model_1  0.9685634416623081\n"
          ],
          "name": "stdout"
        },
        {
          "output_type": "execute_result",
          "data": {
            "text/plain": [
              ""
            ]
          },
          "metadata": {
            "tags": []
          },
          "execution_count": 31
        }
      ]
    },
    {
      "cell_type": "code",
      "metadata": {
        "id": "deZsj5jidyhv",
        "colab_type": "code",
        "outputId": "25dd8c46-71c6-4328-bdc3-34e0b73294a8",
        "colab": {
          "base_uri": "https://localhost:8080/",
          "height": 777
        }
      },
      "source": [
        "rf_h2o2_grid_full.get_grid"
      ],
      "execution_count": 0,
      "outputs": [
        {
          "output_type": "stream",
          "text": [
            "\n",
            "Grid Search of Model H2ORandomForestEstimator: \n"
          ],
          "name": "stdout"
        },
        {
          "output_type": "display_data",
          "data": {
            "text/html": [
              "<div>\n",
              "<style scoped>\n",
              "    .dataframe tbody tr th:only-of-type {\n",
              "        vertical-align: middle;\n",
              "    }\n",
              "\n",
              "    .dataframe tbody tr th {\n",
              "        vertical-align: top;\n",
              "    }\n",
              "\n",
              "    .dataframe thead th {\n",
              "        text-align: right;\n",
              "    }\n",
              "</style>\n",
              "<table border=\"1\" class=\"dataframe\">\n",
              "  <thead>\n",
              "    <tr style=\"text-align: right;\">\n",
              "      <th></th>\n",
              "      <th>Model</th>\n",
              "      <th>Hyperparameters: [max_depth, ntrees, min_rows]</th>\n",
              "    </tr>\n",
              "  </thead>\n",
              "  <tbody>\n",
              "    <tr>\n",
              "      <th>0</th>\n",
              "      <td>1</td>\n",
              "      <td>[2656, 52, 1]</td>\n",
              "    </tr>\n",
              "    <tr>\n",
              "      <th>1</th>\n",
              "      <td>2</td>\n",
              "      <td>[2656, 52, 1]</td>\n",
              "    </tr>\n",
              "    <tr>\n",
              "      <th>2</th>\n",
              "      <td>3</td>\n",
              "      <td>[2656, 52, 1]</td>\n",
              "    </tr>\n",
              "    <tr>\n",
              "      <th>3</th>\n",
              "      <td>4</td>\n",
              "      <td>[2656, 52, 1]</td>\n",
              "    </tr>\n",
              "    <tr>\n",
              "      <th>4</th>\n",
              "      <td>5</td>\n",
              "      <td>[2656, 52, 1]</td>\n",
              "    </tr>\n",
              "    <tr>\n",
              "      <th>5</th>\n",
              "      <td>6</td>\n",
              "      <td>[2656, 52, 1]</td>\n",
              "    </tr>\n",
              "    <tr>\n",
              "      <th>6</th>\n",
              "      <td>7</td>\n",
              "      <td>[2656, 52, 1]</td>\n",
              "    </tr>\n",
              "    <tr>\n",
              "      <th>7</th>\n",
              "      <td>8</td>\n",
              "      <td>[2656, 52, 1]</td>\n",
              "    </tr>\n",
              "    <tr>\n",
              "      <th>8</th>\n",
              "      <td>9</td>\n",
              "      <td>[2656, 52, 1]</td>\n",
              "    </tr>\n",
              "    <tr>\n",
              "      <th>9</th>\n",
              "      <td>10</td>\n",
              "      <td>[2656, 52, 1]</td>\n",
              "    </tr>\n",
              "    <tr>\n",
              "      <th>10</th>\n",
              "      <td>11</td>\n",
              "      <td>[2656, 37, 1]</td>\n",
              "    </tr>\n",
              "    <tr>\n",
              "      <th>11</th>\n",
              "      <td>12</td>\n",
              "      <td>[2656, 37, 1]</td>\n",
              "    </tr>\n",
              "    <tr>\n",
              "      <th>12</th>\n",
              "      <td>13</td>\n",
              "      <td>[2656, 37, 1]</td>\n",
              "    </tr>\n",
              "    <tr>\n",
              "      <th>13</th>\n",
              "      <td>14</td>\n",
              "      <td>[2656, 37, 1]</td>\n",
              "    </tr>\n",
              "    <tr>\n",
              "      <th>14</th>\n",
              "      <td>15</td>\n",
              "      <td>[2656, 37, 1]</td>\n",
              "    </tr>\n",
              "    <tr>\n",
              "      <th>15</th>\n",
              "      <td>16</td>\n",
              "      <td>[2656, 37, 1]</td>\n",
              "    </tr>\n",
              "    <tr>\n",
              "      <th>16</th>\n",
              "      <td>17</td>\n",
              "      <td>[2656, 37, 1]</td>\n",
              "    </tr>\n",
              "    <tr>\n",
              "      <th>17</th>\n",
              "      <td>18</td>\n",
              "      <td>[2656, 37, 1]</td>\n",
              "    </tr>\n",
              "    <tr>\n",
              "      <th>18</th>\n",
              "      <td>19</td>\n",
              "      <td>[2656, 37, 1]</td>\n",
              "    </tr>\n",
              "    <tr>\n",
              "      <th>19</th>\n",
              "      <td>20</td>\n",
              "      <td>[2656, 37, 1]</td>\n",
              "    </tr>\n",
              "  </tbody>\n",
              "</table>\n",
              "</div>"
            ],
            "text/plain": [
              "    Model Hyperparameters: [max_depth, ntrees, min_rows]\n",
              "0       1                                  [2656, 52, 1]\n",
              "1       2                                  [2656, 52, 1]\n",
              "2       3                                  [2656, 52, 1]\n",
              "3       4                                  [2656, 52, 1]\n",
              "4       5                                  [2656, 52, 1]\n",
              "5       6                                  [2656, 52, 1]\n",
              "6       7                                  [2656, 52, 1]\n",
              "7       8                                  [2656, 52, 1]\n",
              "8       9                                  [2656, 52, 1]\n",
              "9      10                                  [2656, 52, 1]\n",
              "10     11                                  [2656, 37, 1]\n",
              "11     12                                  [2656, 37, 1]\n",
              "12     13                                  [2656, 37, 1]\n",
              "13     14                                  [2656, 37, 1]\n",
              "14     15                                  [2656, 37, 1]\n",
              "15     16                                  [2656, 37, 1]\n",
              "16     17                                  [2656, 37, 1]\n",
              "17     18                                  [2656, 37, 1]\n",
              "18     19                                  [2656, 37, 1]\n",
              "19     20                                  [2656, 37, 1]"
            ]
          },
          "metadata": {
            "tags": []
          }
        },
        {
          "output_type": "stream",
          "text": [
            "\n",
            "See the whole table with table.as_data_frame()\n",
            "\n"
          ],
          "name": "stdout"
        },
        {
          "output_type": "execute_result",
          "data": {
            "text/plain": [
              "<bound method H2OGridSearch.get_grid of >"
            ]
          },
          "metadata": {
            "tags": []
          },
          "execution_count": 30
        }
      ]
    },
    {
      "cell_type": "code",
      "metadata": {
        "id": "2GDiebrMKOKw",
        "colab_type": "code",
        "outputId": "7f7f819c-46fd-41a7-d9e0-5a7b7169ac55",
        "colab": {
          "base_uri": "https://localhost:8080/",
          "height": 71
        }
      },
      "source": [
        "h2o.cluster().shutdown()"
      ],
      "execution_count": 0,
      "outputs": [
        {
          "output_type": "stream",
          "text": [
            "/usr/local/lib/python3.6/dist-packages/ipykernel_launcher.py:1: DeprecationWarning: Deprecated, use ``h2o.cluster().shutdown()``.\n",
            "  \"\"\"Entry point for launching an IPython kernel.\n"
          ],
          "name": "stderr"
        },
        {
          "output_type": "stream",
          "text": [
            "H2O session _sid_98a1 closed.\n"
          ],
          "name": "stdout"
        }
      ]
    },
    {
      "cell_type": "markdown",
      "metadata": {
        "id": "z6vNPsr59WQP",
        "colab_type": "text"
      },
      "source": [
        "#### sklearn ####"
      ]
    },
    {
      "cell_type": "code",
      "metadata": {
        "id": "qo1eEcX69Y7J",
        "colab_type": "code",
        "colab": {}
      },
      "source": [
        "parameter_grid = {\n",
        "\n",
        "  'n_estimators': sp_randint(8,40),\n",
        "  'max_depth':  sp_randint(800,10000),\n",
        "  'min_samples_split': uniform(0.0001,0.8)\n",
        "\n",
        "}"
      ],
      "execution_count": 0,
      "outputs": []
    },
    {
      "cell_type": "code",
      "metadata": {
        "id": "FMCkEGiS9b70",
        "colab_type": "code",
        "colab": {}
      },
      "source": [
        "from sklearn.ensemble import RandomForestRegressor\n",
        "\n",
        "rnd_search = RandomForestRegressor()\n",
        "\n",
        "random_search_rf = RandomizedSearchCV(rnd_search, parameter_grid, cv=5, n_jobs=-1, random_state=42, verbose=10)"
      ],
      "execution_count": 0,
      "outputs": []
    },
    {
      "cell_type": "code",
      "metadata": {
        "id": "EGwtTYLd9ruA",
        "colab_type": "code",
        "outputId": "650348c7-fc3b-4172-d3e1-5bd2a60d4f14",
        "colab": {
          "base_uri": "https://localhost:8080/",
          "height": 631
        }
      },
      "source": [
        "random_search_rf.fit(train_set_x_prepared,train_set_y)"
      ],
      "execution_count": 0,
      "outputs": [
        {
          "output_type": "stream",
          "text": [
            "Fitting 5 folds for each of 10 candidates, totalling 50 fits\n"
          ],
          "name": "stdout"
        },
        {
          "output_type": "stream",
          "text": [
            "[Parallel(n_jobs=-1)]: Using backend LokyBackend with 2 concurrent workers.\n",
            "[Parallel(n_jobs=-1)]: Done   1 tasks      | elapsed:    2.4s\n",
            "[Parallel(n_jobs=-1)]: Done   4 tasks      | elapsed:    3.0s\n",
            "[Parallel(n_jobs=-1)]: Done   9 tasks      | elapsed:   26.2s\n",
            "[Parallel(n_jobs=-1)]: Done  14 tasks      | elapsed:  2.1min\n",
            "[Parallel(n_jobs=-1)]: Done  21 tasks      | elapsed:  2.8min\n",
            "[Parallel(n_jobs=-1)]: Done  28 tasks      | elapsed: 12.0min\n",
            "[Parallel(n_jobs=-1)]: Done  37 tasks      | elapsed: 15.9min\n",
            "[Parallel(n_jobs=-1)]: Done  46 tasks      | elapsed: 17.7min\n",
            "[Parallel(n_jobs=-1)]: Done  50 out of  50 | elapsed: 18.7min finished\n",
            "/usr/local/lib/python3.6/dist-packages/sklearn/model_selection/_search.py:739: DataConversionWarning: A column-vector y was passed when a 1d array was expected. Please change the shape of y to (n_samples,), for example using ravel().\n",
            "  self.best_estimator_.fit(X, y, **fit_params)\n"
          ],
          "name": "stderr"
        },
        {
          "output_type": "execute_result",
          "data": {
            "text/plain": [
              "RandomizedSearchCV(cv=5, error_score=nan,\n",
              "                   estimator=RandomForestRegressor(bootstrap=True,\n",
              "                                                   ccp_alpha=0.0,\n",
              "                                                   criterion='mse',\n",
              "                                                   max_depth=None,\n",
              "                                                   max_features='auto',\n",
              "                                                   max_leaf_nodes=None,\n",
              "                                                   max_samples=None,\n",
              "                                                   min_impurity_decrease=0.0,\n",
              "                                                   min_impurity_split=None,\n",
              "                                                   min_samples_leaf=1,\n",
              "                                                   min_samples_split=2,\n",
              "                                                   min_weight_fraction_leaf=0.0,\n",
              "                                                   n_estimators=100,\n",
              "                                                   n_jobs=None, oob_score=Fals...\n",
              "                   param_distributions={'max_depth': <scipy.stats._distn_infrastructure.rv_frozen object at 0x7f0740710128>,\n",
              "                                        'min_samples_split': <scipy.stats._distn_infrastructure.rv_frozen object at 0x7f07410e3908>,\n",
              "                                        'n_estimators': <scipy.stats._distn_infrastructure.rv_frozen object at 0x7f0740c436a0>},\n",
              "                   pre_dispatch='2*n_jobs', random_state=42, refit=True,\n",
              "                   return_train_score=False, scoring=None, verbose=10)"
            ]
          },
          "metadata": {
            "tags": []
          },
          "execution_count": 230
        }
      ]
    },
    {
      "cell_type": "code",
      "metadata": {
        "id": "LjR_Pu74-YVX",
        "colab_type": "code",
        "colab": {}
      },
      "source": [
        "#random_search_rf.cv_results_"
      ],
      "execution_count": 0,
      "outputs": []
    },
    {
      "cell_type": "code",
      "metadata": {
        "id": "ERjHF3VNGi93",
        "colab_type": "code",
        "colab": {}
      },
      "source": [
        "result = pd.concat([pd.DataFrame(random_search_rf.cv_results_[\"params\"]),pd.DataFrame(random_search_rf.cv_results_[\"mean_test_score\"], columns=[\"Score\"])],axis=1)\n"
      ],
      "execution_count": 0,
      "outputs": []
    },
    {
      "cell_type": "code",
      "metadata": {
        "id": "yjUnKZ3IGtP8",
        "colab_type": "code",
        "colab": {}
      },
      "source": [
        "result.sort_values(by=\"Score\", ascending=False, inplace=True)"
      ],
      "execution_count": 0,
      "outputs": []
    },
    {
      "cell_type": "code",
      "metadata": {
        "id": "BYP6xxcoHICf",
        "colab_type": "code",
        "outputId": "b821c5bb-b4d2-40b8-8236-704f45052711",
        "colab": {
          "base_uri": "https://localhost:8080/",
          "height": 359
        }
      },
      "source": [
        "result\n",
        "\n",
        "#clearly we need a smaller min_samples_split"
      ],
      "execution_count": 0,
      "outputs": [
        {
          "output_type": "execute_result",
          "data": {
            "text/html": [
              "<div>\n",
              "<style scoped>\n",
              "    .dataframe tbody tr th:only-of-type {\n",
              "        vertical-align: middle;\n",
              "    }\n",
              "\n",
              "    .dataframe tbody tr th {\n",
              "        vertical-align: top;\n",
              "    }\n",
              "\n",
              "    .dataframe thead th {\n",
              "        text-align: right;\n",
              "    }\n",
              "</style>\n",
              "<table border=\"1\" class=\"dataframe\">\n",
              "  <thead>\n",
              "    <tr style=\"text-align: right;\">\n",
              "      <th></th>\n",
              "      <th>max_depth</th>\n",
              "      <th>min_samples_split</th>\n",
              "      <th>n_estimators</th>\n",
              "      <th>Score</th>\n",
              "    </tr>\n",
              "  </thead>\n",
              "  <tbody>\n",
              "    <tr>\n",
              "      <th>5</th>\n",
              "      <td>7749</td>\n",
              "      <td>0.000723</td>\n",
              "      <td>35</td>\n",
              "      <td>0.952434</td>\n",
              "    </tr>\n",
              "    <tr>\n",
              "      <th>4</th>\n",
              "      <td>9122</td>\n",
              "      <td>0.016568</td>\n",
              "      <td>9</td>\n",
              "      <td>0.912773</td>\n",
              "    </tr>\n",
              "    <tr>\n",
              "      <th>2</th>\n",
              "      <td>7065</td>\n",
              "      <td>0.124896</td>\n",
              "      <td>18</td>\n",
              "      <td>0.869070</td>\n",
              "    </tr>\n",
              "    <tr>\n",
              "      <th>9</th>\n",
              "      <td>2847</td>\n",
              "      <td>0.233816</td>\n",
              "      <td>23</td>\n",
              "      <td>0.736472</td>\n",
              "    </tr>\n",
              "    <tr>\n",
              "      <th>7</th>\n",
              "      <td>7196</td>\n",
              "      <td>0.345656</td>\n",
              "      <td>24</td>\n",
              "      <td>0.722565</td>\n",
              "    </tr>\n",
              "    <tr>\n",
              "      <th>1</th>\n",
              "      <td>5991</td>\n",
              "      <td>0.479027</td>\n",
              "      <td>14</td>\n",
              "      <td>0.658738</td>\n",
              "    </tr>\n",
              "    <tr>\n",
              "      <th>6</th>\n",
              "      <td>7220</td>\n",
              "      <td>0.494085</td>\n",
              "      <td>33</td>\n",
              "      <td>0.658445</td>\n",
              "    </tr>\n",
              "    <tr>\n",
              "      <th>8</th>\n",
              "      <td>9466</td>\n",
              "      <td>0.489582</td>\n",
              "      <td>17</td>\n",
              "      <td>0.657863</td>\n",
              "    </tr>\n",
              "    <tr>\n",
              "      <th>3</th>\n",
              "      <td>6378</td>\n",
              "      <td>0.693041</td>\n",
              "      <td>11</td>\n",
              "      <td>-0.000022</td>\n",
              "    </tr>\n",
              "    <tr>\n",
              "      <th>0</th>\n",
              "      <td>8070</td>\n",
              "      <td>0.637334</td>\n",
              "      <td>22</td>\n",
              "      <td>-0.000023</td>\n",
              "    </tr>\n",
              "  </tbody>\n",
              "</table>\n",
              "</div>"
            ],
            "text/plain": [
              "   max_depth  min_samples_split  n_estimators     Score\n",
              "5       7749           0.000723            35  0.952434\n",
              "4       9122           0.016568             9  0.912773\n",
              "2       7065           0.124896            18  0.869070\n",
              "9       2847           0.233816            23  0.736472\n",
              "7       7196           0.345656            24  0.722565\n",
              "1       5991           0.479027            14  0.658738\n",
              "6       7220           0.494085            33  0.658445\n",
              "8       9466           0.489582            17  0.657863\n",
              "3       6378           0.693041            11 -0.000022\n",
              "0       8070           0.637334            22 -0.000023"
            ]
          },
          "metadata": {
            "tags": []
          },
          "execution_count": 239
        }
      ]
    },
    {
      "cell_type": "code",
      "metadata": {
        "id": "cZE8YUFCHV8v",
        "colab_type": "code",
        "colab": {}
      },
      "source": [
        "parameter_grid = {\n",
        "\n",
        "  'n_estimators': sp_randint(8,40),\n",
        "  'max_depth':  sp_randint(800,10000),\n",
        "  'min_samples_split': uniform(0,0.017)\n",
        "\n",
        "}\n",
        "\n",
        "from sklearn.ensemble import RandomForestRegressor\n",
        "\n",
        "rnd_search = RandomForestRegressor()\n",
        "\n",
        "random_search_rf2 = RandomizedSearchCV(rnd_search, parameter_grid, cv=5, n_jobs=-1, random_state=42, verbose=10)"
      ],
      "execution_count": 0,
      "outputs": []
    },
    {
      "cell_type": "code",
      "metadata": {
        "id": "_JuZ6XY5Hxzu",
        "colab_type": "code",
        "outputId": "a41c92e6-18ca-41bb-b278-8be5f4f38a36",
        "colab": {
          "base_uri": "https://localhost:8080/",
          "height": 505
        }
      },
      "source": [
        "random_search_rf2.fit(train_set_x_prepared,train_set_y)\n",
        "\n",
        "result2 = pd.concat([pd.DataFrame(random_search_rf2.cv_results_[\"params\"]),pd.DataFrame(random_search_rf2.cv_results_[\"mean_test_score\"], columns=[\"Score\"])],axis=1)\n",
        "result2.sort_values(by=\"Score\", ascending=False, inplace=True)\n",
        "\n",
        "print(result2)"
      ],
      "execution_count": 0,
      "outputs": [
        {
          "output_type": "stream",
          "text": [
            "Fitting 5 folds for each of 10 candidates, totalling 50 fits\n"
          ],
          "name": "stdout"
        },
        {
          "output_type": "stream",
          "text": [
            "[Parallel(n_jobs=-1)]: Using backend LokyBackend with 2 concurrent workers.\n",
            "[Parallel(n_jobs=-1)]: Done   1 tasks      | elapsed:  1.7min\n",
            "[Parallel(n_jobs=-1)]: Done   4 tasks      | elapsed:  3.6min\n",
            "[Parallel(n_jobs=-1)]: Done   9 tasks      | elapsed:  7.5min\n",
            "[Parallel(n_jobs=-1)]: Done  14 tasks      | elapsed: 11.8min\n",
            "[Parallel(n_jobs=-1)]: Done  21 tasks      | elapsed: 15.7min\n",
            "/usr/local/lib/python3.6/dist-packages/joblib/externals/loky/process_executor.py:706: UserWarning: A worker stopped while some jobs were given to the executor. This can be caused by a too short worker timeout or by a memory leak.\n",
            "  \"timeout or by a memory leak.\", UserWarning\n",
            "[Parallel(n_jobs=-1)]: Done  28 tasks      | elapsed: 28.7min\n",
            "[Parallel(n_jobs=-1)]: Done  37 tasks      | elapsed: 45.1min\n",
            "[Parallel(n_jobs=-1)]: Done  46 tasks      | elapsed: 54.9min\n",
            "[Parallel(n_jobs=-1)]: Done  50 out of  50 | elapsed: 58.7min finished\n",
            "/usr/local/lib/python3.6/dist-packages/sklearn/model_selection/_search.py:739: DataConversionWarning: A column-vector y was passed when a 1d array was expected. Please change the shape of y to (n_samples,), for example using ravel().\n",
            "  self.best_estimator_.fit(X, y, **fit_params)\n"
          ],
          "name": "stderr"
        },
        {
          "output_type": "stream",
          "text": [
            "   max_depth  min_samples_split  n_estimators     Score\n",
            "5       7749           0.000013            35  0.968081\n",
            "4       9122           0.000350             9  0.957459\n",
            "2       7065           0.002652            18  0.937268\n",
            "9       2847           0.004966            23  0.930110\n",
            "7       7196           0.007343            24  0.925844\n",
            "1       5991           0.010177            14  0.922679\n",
            "8       9466           0.010401            17  0.922534\n",
            "6       7220           0.010497            33  0.922357\n",
            "0       8070           0.013541            22  0.919202\n",
            "3       6378           0.014725            11  0.917046\n"
          ],
          "name": "stdout"
        }
      ]
    },
    {
      "cell_type": "code",
      "metadata": {
        "id": "-UvEhkezXB8Y",
        "colab_type": "code",
        "outputId": "b7b78ed9-e146-4370-937a-456fea1c3750",
        "colab": {
          "base_uri": "https://localhost:8080/",
          "height": 35
        }
      },
      "source": [
        "random_search_rf2.best_score_"
      ],
      "execution_count": 0,
      "outputs": [
        {
          "output_type": "execute_result",
          "data": {
            "text/plain": [
              "0.9680812404229426"
            ]
          },
          "metadata": {
            "tags": []
          },
          "execution_count": 244
        }
      ]
    },
    {
      "cell_type": "code",
      "metadata": {
        "id": "4mPD7ePfXR3o",
        "colab_type": "code",
        "outputId": "f4819986-ab5a-493e-de8e-08c0423a6f4c",
        "colab": {
          "base_uri": "https://localhost:8080/",
          "height": 161
        }
      },
      "source": [
        "random_search_rf2.best_estimator_\n"
      ],
      "execution_count": 0,
      "outputs": [
        {
          "output_type": "execute_result",
          "data": {
            "text/plain": [
              "RandomForestRegressor(bootstrap=True, ccp_alpha=0.0, criterion='mse',\n",
              "                      max_depth=7749, max_features='auto', max_leaf_nodes=None,\n",
              "                      max_samples=None, min_impurity_decrease=0.0,\n",
              "                      min_impurity_split=None, min_samples_leaf=1,\n",
              "                      min_samples_split=1.3239019297243582e-05,\n",
              "                      min_weight_fraction_leaf=0.0, n_estimators=35,\n",
              "                      n_jobs=None, oob_score=False, random_state=None,\n",
              "                      verbose=0, warm_start=False)"
            ]
          },
          "metadata": {
            "tags": []
          },
          "execution_count": 245
        }
      ]
    },
    {
      "cell_type": "code",
      "metadata": {
        "id": "0unDQBQXXZ0V",
        "colab_type": "code",
        "outputId": "6a2dcbdc-1d08-4ca9-a320-6d774293ae14",
        "colab": {
          "base_uri": "https://localhost:8080/",
          "height": 1000
        }
      },
      "source": [
        "random_search_rf2.cv_results_"
      ],
      "execution_count": 0,
      "outputs": [
        {
          "output_type": "execute_result",
          "data": {
            "text/plain": [
              "{'mean_fit_time': array([106.01386795,  76.76913152, 119.85460391,  53.24200501,\n",
              "         71.57606568, 341.71993203, 210.74233551, 169.57905755,\n",
              "        102.09912105, 137.99191804]),\n",
              " 'mean_score_time': array([0.26150894, 0.18422699, 0.27372127, 0.1394309 , 0.19121604,\n",
              "        1.55218248, 0.37647562, 0.3163949 , 0.2178257 , 0.287466  ]),\n",
              " 'mean_test_score': array([0.91920202, 0.92267937, 0.93726835, 0.91704638, 0.9574594 ,\n",
              "        0.96808124, 0.92235714, 0.92584386, 0.92253418, 0.93010957]),\n",
              " 'param_max_depth': masked_array(data=[8070, 5991, 7065, 6378, 9122, 7749, 7220, 7196, 9466,\n",
              "                    2847],\n",
              "              mask=[False, False, False, False, False, False, False, False,\n",
              "                    False, False],\n",
              "        fill_value='?',\n",
              "             dtype=object),\n",
              " 'param_min_samples_split': masked_array(data=[0.01354123077662396, 0.010177194231349622,\n",
              "                    0.002651906845715445, 0.0147249944781739,\n",
              "                    0.0003499364030286416, 1.3239019297243582e-05,\n",
              "                    0.010497185663671181, 0.0073430653169159685,\n",
              "                    0.010401499210280453, 0.004966459025098709],\n",
              "              mask=[False, False, False, False, False, False, False, False,\n",
              "                    False, False],\n",
              "        fill_value='?',\n",
              "             dtype=object),\n",
              " 'param_n_estimators': masked_array(data=[22, 14, 18, 11, 9, 35, 33, 24, 17, 23],\n",
              "              mask=[False, False, False, False, False, False, False, False,\n",
              "                    False, False],\n",
              "        fill_value='?',\n",
              "             dtype=object),\n",
              " 'params': [{'max_depth': 8070,\n",
              "   'min_samples_split': 0.01354123077662396,\n",
              "   'n_estimators': 22},\n",
              "  {'max_depth': 5991,\n",
              "   'min_samples_split': 0.010177194231349622,\n",
              "   'n_estimators': 14},\n",
              "  {'max_depth': 7065,\n",
              "   'min_samples_split': 0.002651906845715445,\n",
              "   'n_estimators': 18},\n",
              "  {'max_depth': 6378,\n",
              "   'min_samples_split': 0.0147249944781739,\n",
              "   'n_estimators': 11},\n",
              "  {'max_depth': 9122,\n",
              "   'min_samples_split': 0.0003499364030286416,\n",
              "   'n_estimators': 9},\n",
              "  {'max_depth': 7749,\n",
              "   'min_samples_split': 1.3239019297243582e-05,\n",
              "   'n_estimators': 35},\n",
              "  {'max_depth': 7220,\n",
              "   'min_samples_split': 0.010497185663671181,\n",
              "   'n_estimators': 33},\n",
              "  {'max_depth': 7196,\n",
              "   'min_samples_split': 0.0073430653169159685,\n",
              "   'n_estimators': 24},\n",
              "  {'max_depth': 9466,\n",
              "   'min_samples_split': 0.010401499210280453,\n",
              "   'n_estimators': 17},\n",
              "  {'max_depth': 2847,\n",
              "   'min_samples_split': 0.004966459025098709,\n",
              "   'n_estimators': 23}],\n",
              " 'rank_test_score': array([ 9,  6,  3, 10,  2,  1,  8,  5,  7,  4], dtype=int32),\n",
              " 'split0_test_score': array([0.91904421, 0.92204463, 0.93741288, 0.91694177, 0.95718295,\n",
              "        0.96839627, 0.92201967, 0.92527611, 0.9226887 , 0.93015383]),\n",
              " 'split1_test_score': array([0.92009963, 0.92354745, 0.93753948, 0.91854061, 0.95711867,\n",
              "        0.96703572, 0.92295403, 0.92661446, 0.92309647, 0.93077339]),\n",
              " 'split2_test_score': array([0.91979423, 0.92365491, 0.93836929, 0.91737441, 0.95794904,\n",
              "        0.9686317 , 0.92350303, 0.92701131, 0.92322656, 0.93102882]),\n",
              " 'split3_test_score': array([0.91851948, 0.922289  , 0.93629955, 0.91686632, 0.95788176,\n",
              "        0.96847288, 0.92156508, 0.92547278, 0.92202185, 0.92968706]),\n",
              " 'split4_test_score': array([0.91855253, 0.92186086, 0.93672056, 0.91550876, 0.95716459,\n",
              "        0.96786963, 0.9217439 , 0.92484463, 0.9216373 , 0.92890477]),\n",
              " 'std_fit_time': array([ 3.52499549,  1.40550032,  1.60153869,  0.95507517,  1.15913285,\n",
              "        38.0153224 , 14.42706421,  8.06570973, 10.84670339, 26.47402056]),\n",
              " 'std_score_time': array([0.00712092, 0.00566369, 0.00355079, 0.00299447, 0.00494253,\n",
              "        0.14324556, 0.01729282, 0.01210266, 0.01214091, 0.04970852]),\n",
              " 'std_test_score': array([0.00064327, 0.00076557, 0.00071346, 0.00097447, 0.00037352,\n",
              "        0.00058199, 0.00074654, 0.00082647, 0.00061422, 0.0007639 ])}"
            ]
          },
          "metadata": {
            "tags": []
          },
          "execution_count": 246
        }
      ]
    },
    {
      "cell_type": "code",
      "metadata": {
        "id": "Mc9Xd86X_3fz",
        "colab_type": "code",
        "colab": {}
      },
      "source": [
        "parameter_grid3 = {\n",
        "\n",
        "  'n_estimators': sp_randint(30,60),\n",
        "  'max_depth':  sp_randint(4000,10000),\n",
        "  'min_samples_split': sp_randint(2,5)\n",
        "\n",
        "}\n",
        "\n",
        "\n",
        "from sklearn.ensemble import RandomForestRegressor\n",
        "\n",
        "rnd_search = RandomForestRegressor()\n",
        "\n",
        "random_search_rf3 = RandomizedSearchCV(rnd_search, parameter_grid3, cv=5, n_jobs=-1, random_state=42, verbose=10, n_iter=5)"
      ],
      "execution_count": 0,
      "outputs": []
    },
    {
      "cell_type": "code",
      "metadata": {
        "id": "Bpowh3oBBF-Q",
        "colab_type": "code",
        "outputId": "a4c4bbeb-3c40-46bd-b966-b5dff79d30a9",
        "colab": {
          "base_uri": "https://localhost:8080/",
          "height": 598
        }
      },
      "source": [
        "random_search_rf3.fit(train_set_x_prepared,train_set_y)"
      ],
      "execution_count": 0,
      "outputs": [
        {
          "output_type": "stream",
          "text": [
            "Fitting 5 folds for each of 5 candidates, totalling 25 fits\n"
          ],
          "name": "stdout"
        },
        {
          "output_type": "stream",
          "text": [
            "[Parallel(n_jobs=-1)]: Using backend LokyBackend with 2 concurrent workers.\n",
            "[Parallel(n_jobs=-1)]: Done   1 tasks      | elapsed:  5.8min\n",
            "[Parallel(n_jobs=-1)]: Done   4 tasks      | elapsed: 12.6min\n",
            "/usr/local/lib/python3.6/dist-packages/joblib/externals/loky/process_executor.py:706: UserWarning: A worker stopped while some jobs were given to the executor. This can be caused by a too short worker timeout or by a memory leak.\n",
            "  \"timeout or by a memory leak.\", UserWarning\n",
            "[Parallel(n_jobs=-1)]: Done   9 tasks      | elapsed: 33.7min\n",
            "[Parallel(n_jobs=-1)]: Done  14 tasks      | elapsed: 52.0min\n",
            "[Parallel(n_jobs=-1)]: Done  21 tasks      | elapsed: 75.1min\n",
            "[Parallel(n_jobs=-1)]: Done  25 out of  25 | elapsed: 86.9min remaining:    0.0s\n",
            "[Parallel(n_jobs=-1)]: Done  25 out of  25 | elapsed: 86.9min finished\n",
            "/usr/local/lib/python3.6/dist-packages/sklearn/model_selection/_search.py:739: DataConversionWarning: A column-vector y was passed when a 1d array was expected. Please change the shape of y to (n_samples,), for example using ravel().\n",
            "  self.best_estimator_.fit(X, y, **fit_params)\n"
          ],
          "name": "stderr"
        },
        {
          "output_type": "execute_result",
          "data": {
            "text/plain": [
              "RandomizedSearchCV(cv=5, error_score=nan,\n",
              "                   estimator=RandomForestRegressor(bootstrap=True,\n",
              "                                                   ccp_alpha=0.0,\n",
              "                                                   criterion='mse',\n",
              "                                                   max_depth=None,\n",
              "                                                   max_features='auto',\n",
              "                                                   max_leaf_nodes=None,\n",
              "                                                   max_samples=None,\n",
              "                                                   min_impurity_decrease=0.0,\n",
              "                                                   min_impurity_split=None,\n",
              "                                                   min_samples_leaf=1,\n",
              "                                                   min_samples_split=2,\n",
              "                                                   min_weight_fraction_leaf=0.0,\n",
              "                                                   n_estimators=100,\n",
              "                                                   n_jobs=None, oob_score=Fals...\n",
              "                   param_distributions={'max_depth': <scipy.stats._distn_infrastructure.rv_frozen object at 0x7f94b93bb898>,\n",
              "                                        'min_samples_split': <scipy.stats._distn_infrastructure.rv_frozen object at 0x7f94b93bb9e8>,\n",
              "                                        'n_estimators': <scipy.stats._distn_infrastructure.rv_frozen object at 0x7f94b93bb748>},\n",
              "                   pre_dispatch='2*n_jobs', random_state=42, refit=True,\n",
              "                   return_train_score=False, scoring=None, verbose=10)"
            ]
          },
          "metadata": {
            "tags": []
          },
          "execution_count": 25
        }
      ]
    },
    {
      "cell_type": "code",
      "metadata": {
        "id": "MVrxib-bBQj1",
        "colab_type": "code",
        "colab": {}
      },
      "source": [
        "result3 = pd.concat([pd.DataFrame(random_search_rf3.cv_results_[\"params\"]),pd.DataFrame(random_search_rf3.cv_results_[\"mean_test_score\"], columns=[\"Score\"])],axis=1)\n",
        "result3.sort_values(by=\"Score\", ascending=False, inplace=True)\n",
        "\n"
      ],
      "execution_count": 0,
      "outputs": []
    },
    {
      "cell_type": "code",
      "metadata": {
        "id": "qnPOoYKABgWe",
        "colab_type": "code",
        "outputId": "0f7341cf-81e2-4be9-ad41-9305fad025a9",
        "colab": {
          "base_uri": "https://localhost:8080/",
          "height": 204
        }
      },
      "source": [
        "result3"
      ],
      "execution_count": 0,
      "outputs": [
        {
          "output_type": "execute_result",
          "data": {
            "text/html": [
              "<div>\n",
              "<style scoped>\n",
              "    .dataframe tbody tr th:only-of-type {\n",
              "        vertical-align: middle;\n",
              "    }\n",
              "\n",
              "    .dataframe tbody tr th {\n",
              "        vertical-align: top;\n",
              "    }\n",
              "\n",
              "    .dataframe thead th {\n",
              "        text-align: right;\n",
              "    }\n",
              "</style>\n",
              "<table border=\"1\" class=\"dataframe\">\n",
              "  <thead>\n",
              "    <tr style=\"text-align: right;\">\n",
              "      <th></th>\n",
              "      <th>max_depth</th>\n",
              "      <th>min_samples_split</th>\n",
              "      <th>n_estimators</th>\n",
              "      <th>Score</th>\n",
              "    </tr>\n",
              "  </thead>\n",
              "  <tbody>\n",
              "    <tr>\n",
              "      <th>2</th>\n",
              "      <td>9734</td>\n",
              "      <td>3</td>\n",
              "      <td>48</td>\n",
              "      <td>0.967680</td>\n",
              "    </tr>\n",
              "    <tr>\n",
              "      <th>0</th>\n",
              "      <td>4860</td>\n",
              "      <td>4</td>\n",
              "      <td>40</td>\n",
              "      <td>0.967680</td>\n",
              "    </tr>\n",
              "    <tr>\n",
              "      <th>4</th>\n",
              "      <td>7444</td>\n",
              "      <td>4</td>\n",
              "      <td>51</td>\n",
              "      <td>0.967677</td>\n",
              "    </tr>\n",
              "    <tr>\n",
              "      <th>1</th>\n",
              "      <td>9191</td>\n",
              "      <td>2</td>\n",
              "      <td>50</td>\n",
              "      <td>0.967621</td>\n",
              "    </tr>\n",
              "    <tr>\n",
              "      <th>3</th>\n",
              "      <td>9334</td>\n",
              "      <td>4</td>\n",
              "      <td>40</td>\n",
              "      <td>0.967489</td>\n",
              "    </tr>\n",
              "  </tbody>\n",
              "</table>\n",
              "</div>"
            ],
            "text/plain": [
              "   max_depth  min_samples_split  n_estimators     Score\n",
              "2       9734                  3            48  0.967680\n",
              "0       4860                  4            40  0.967680\n",
              "4       7444                  4            51  0.967677\n",
              "1       9191                  2            50  0.967621\n",
              "3       9334                  4            40  0.967489"
            ]
          },
          "metadata": {
            "tags": []
          },
          "execution_count": 27
        }
      ]
    },
    {
      "cell_type": "code",
      "metadata": {
        "id": "f-QM3Cs2Bklb",
        "colab_type": "code",
        "outputId": "a4054a19-cd34-4c33-c099-95f575f00b4b",
        "colab": {
          "base_uri": "https://localhost:8080/",
          "height": 136
        }
      },
      "source": [
        "random_search_rf3.best_estimator_\n"
      ],
      "execution_count": 0,
      "outputs": [
        {
          "output_type": "execute_result",
          "data": {
            "text/plain": [
              "RandomForestRegressor(bootstrap=True, ccp_alpha=0.0, criterion='mse',\n",
              "                      max_depth=9734, max_features='auto', max_leaf_nodes=None,\n",
              "                      max_samples=None, min_impurity_decrease=0.0,\n",
              "                      min_impurity_split=None, min_samples_leaf=1,\n",
              "                      min_samples_split=3, min_weight_fraction_leaf=0.0,\n",
              "                      n_estimators=48, n_jobs=None, oob_score=False,\n",
              "                      random_state=None, verbose=0, warm_start=False)"
            ]
          },
          "metadata": {
            "tags": []
          },
          "execution_count": 28
        }
      ]
    },
    {
      "cell_type": "code",
      "metadata": {
        "id": "rjQTXCJWbFDu",
        "colab_type": "code",
        "colab": {}
      },
      "source": [
        "parameter_grid4 = {\n",
        "\n",
        "  'n_estimators': sp_randint(30,100),\n",
        "  'max_depth':  sp_randint(6000,100000),\n",
        "  'min_samples_split': sp_randint(2,20)\n",
        "\n",
        "}\n",
        "\n",
        "\n",
        "from sklearn.ensemble import RandomForestRegressor\n",
        "\n",
        "rnd_search = RandomForestRegressor()\n",
        "\n",
        "random_search_rf4 = RandomizedSearchCV(rnd_search, parameter_grid3, cv=5, n_jobs=-1, random_state=42, verbose=10, n_iter=10)"
      ],
      "execution_count": 0,
      "outputs": []
    },
    {
      "cell_type": "code",
      "metadata": {
        "id": "awKzbTcMjYy6",
        "colab_type": "code",
        "outputId": "572f3f7a-c957-4cd8-f581-92ae258241a8",
        "colab": {
          "base_uri": "https://localhost:8080/",
          "height": 234
        }
      },
      "source": [
        "random_search_rf4.fit(train_set_x_prepared,train_set_y)\n",
        "result4 = pd.concat([pd.DataFrame(random_search_rf4.cv_results_[\"params\"]),pd.DataFrame(random_search_rf4.cv_results_[\"mean_test_score\"], columns=[\"Score\"])],axis=1)\n",
        "result4.sort_values(by=\"Score\", ascending=False, inplace=True)\n",
        "result4\n"
      ],
      "execution_count": 0,
      "outputs": [
        {
          "output_type": "error",
          "ename": "NameError",
          "evalue": "ignored",
          "traceback": [
            "\u001b[0;31m---------------------------------------------------------------------------\u001b[0m",
            "\u001b[0;31mNameError\u001b[0m                                 Traceback (most recent call last)",
            "\u001b[0;32m<ipython-input-1-b463c90e6c15>\u001b[0m in \u001b[0;36m<module>\u001b[0;34m()\u001b[0m\n\u001b[0;32m----> 1\u001b[0;31m \u001b[0mrandom_search_rf4\u001b[0m\u001b[0;34m.\u001b[0m\u001b[0mfit\u001b[0m\u001b[0;34m(\u001b[0m\u001b[0mtrain_set_x_prepared\u001b[0m\u001b[0;34m,\u001b[0m\u001b[0mtrain_set_y\u001b[0m\u001b[0;34m)\u001b[0m\u001b[0;34m\u001b[0m\u001b[0;34m\u001b[0m\u001b[0m\n\u001b[0m\u001b[1;32m      2\u001b[0m \u001b[0mresult4\u001b[0m \u001b[0;34m=\u001b[0m \u001b[0mpd\u001b[0m\u001b[0;34m.\u001b[0m\u001b[0mconcat\u001b[0m\u001b[0;34m(\u001b[0m\u001b[0;34m[\u001b[0m\u001b[0mpd\u001b[0m\u001b[0;34m.\u001b[0m\u001b[0mDataFrame\u001b[0m\u001b[0;34m(\u001b[0m\u001b[0mrandom_search_rf4\u001b[0m\u001b[0;34m.\u001b[0m\u001b[0mcv_results_\u001b[0m\u001b[0;34m[\u001b[0m\u001b[0;34m\"params\"\u001b[0m\u001b[0;34m]\u001b[0m\u001b[0;34m)\u001b[0m\u001b[0;34m,\u001b[0m\u001b[0mpd\u001b[0m\u001b[0;34m.\u001b[0m\u001b[0mDataFrame\u001b[0m\u001b[0;34m(\u001b[0m\u001b[0mrandom_search_rf4\u001b[0m\u001b[0;34m.\u001b[0m\u001b[0mcv_results_\u001b[0m\u001b[0;34m[\u001b[0m\u001b[0;34m\"mean_test_score\"\u001b[0m\u001b[0;34m]\u001b[0m\u001b[0;34m,\u001b[0m \u001b[0mcolumns\u001b[0m\u001b[0;34m=\u001b[0m\u001b[0;34m[\u001b[0m\u001b[0;34m\"Score\"\u001b[0m\u001b[0;34m]\u001b[0m\u001b[0;34m)\u001b[0m\u001b[0;34m]\u001b[0m\u001b[0;34m,\u001b[0m\u001b[0maxis\u001b[0m\u001b[0;34m=\u001b[0m\u001b[0;36m1\u001b[0m\u001b[0;34m)\u001b[0m\u001b[0;34m\u001b[0m\u001b[0;34m\u001b[0m\u001b[0m\n\u001b[1;32m      3\u001b[0m \u001b[0mresult4\u001b[0m\u001b[0;34m.\u001b[0m\u001b[0msort_values\u001b[0m\u001b[0;34m(\u001b[0m\u001b[0mby\u001b[0m\u001b[0;34m=\u001b[0m\u001b[0;34m\"Score\"\u001b[0m\u001b[0;34m,\u001b[0m \u001b[0mascending\u001b[0m\u001b[0;34m=\u001b[0m\u001b[0;32mFalse\u001b[0m\u001b[0;34m,\u001b[0m \u001b[0minplace\u001b[0m\u001b[0;34m=\u001b[0m\u001b[0;32mTrue\u001b[0m\u001b[0;34m)\u001b[0m\u001b[0;34m\u001b[0m\u001b[0;34m\u001b[0m\u001b[0m\n\u001b[1;32m      4\u001b[0m \u001b[0mresult4\u001b[0m\u001b[0;34m\u001b[0m\u001b[0;34m\u001b[0m\u001b[0m\n",
            "\u001b[0;31mNameError\u001b[0m: name 'random_search_rf4' is not defined"
          ]
        }
      ]
    },
    {
      "cell_type": "markdown",
      "metadata": {
        "id": "lgu3dlmza65w",
        "colab_type": "text"
      },
      "source": [
        ""
      ]
    },
    {
      "cell_type": "markdown",
      "metadata": {
        "id": "sWA-acyiNz_S",
        "colab_type": "text"
      },
      "source": [
        "### Extra Trees ###"
      ]
    },
    {
      "cell_type": "code",
      "metadata": {
        "id": "f_WmbcojuyKU",
        "colab_type": "code",
        "colab": {}
      },
      "source": [
        "parameter_grid = {\n",
        "\n",
        "  'n_estimators': sp_randint(1,50),\n",
        "  'max_depth':  sp_randint(1,40),\n",
        "  'min_samples_split': uniform(0.01,0.199)\n",
        "\n",
        "}"
      ],
      "execution_count": 0,
      "outputs": []
    },
    {
      "cell_type": "code",
      "metadata": {
        "id": "PllVnTe8Pmn6",
        "colab_type": "code",
        "colab": {}
      },
      "source": [
        "from sklearn.ensemble import ExtraTreesRegressor\n",
        "\n",
        "extra_trees_search = ExtraTreesRegressor()"
      ],
      "execution_count": 0,
      "outputs": []
    },
    {
      "cell_type": "code",
      "metadata": {
        "id": "qYhzY1TLPnvP",
        "colab_type": "code",
        "colab": {}
      },
      "source": [
        "random_search = RandomizedSearchCV(extra_trees_search, parameter_grid, cv=5, n_jobs=-1, random_state=42)"
      ],
      "execution_count": 0,
      "outputs": []
    },
    {
      "cell_type": "code",
      "metadata": {
        "id": "xvWk1BPrTerz",
        "colab_type": "code",
        "outputId": "994e79fd-4a83-4d51-b2fa-10e16d743bf5",
        "colab": {
          "base_uri": "https://localhost:8080/",
          "height": 394
        }
      },
      "source": [
        "random_search.fit(train_set_x_prepared,train_set_y)"
      ],
      "execution_count": 0,
      "outputs": [
        {
          "output_type": "stream",
          "text": [
            "/usr/local/lib/python3.6/dist-packages/sklearn/model_selection/_search.py:739: DataConversionWarning: A column-vector y was passed when a 1d array was expected. Please change the shape of y to (n_samples,), for example using ravel().\n",
            "  self.best_estimator_.fit(X, y, **fit_params)\n"
          ],
          "name": "stderr"
        },
        {
          "output_type": "execute_result",
          "data": {
            "text/plain": [
              "RandomizedSearchCV(cv=5, error_score=nan,\n",
              "                   estimator=ExtraTreesRegressor(bootstrap=False, ccp_alpha=0.0,\n",
              "                                                 criterion='mse',\n",
              "                                                 max_depth=None,\n",
              "                                                 max_features='auto',\n",
              "                                                 max_leaf_nodes=None,\n",
              "                                                 max_samples=None,\n",
              "                                                 min_impurity_decrease=0.0,\n",
              "                                                 min_impurity_split=None,\n",
              "                                                 min_samples_leaf=1,\n",
              "                                                 min_samples_split=2,\n",
              "                                                 min_weight_fraction_leaf=0.0,\n",
              "                                                 n_estimators=100, n_jobs=None,\n",
              "                                                 oob_score=False...\n",
              "                   param_distributions={'max_depth': <scipy.stats._distn_infrastructure.rv_frozen object at 0x7ff3c8462fd0>,\n",
              "                                        'min_samples_split': <scipy.stats._distn_infrastructure.rv_frozen object at 0x7ff3c6863630>,\n",
              "                                        'n_estimators': <scipy.stats._distn_infrastructure.rv_frozen object at 0x7ff3c858a128>},\n",
              "                   pre_dispatch='2*n_jobs', random_state=42, refit=True,\n",
              "                   return_train_score=False, scoring=None, verbose=0)"
            ]
          },
          "metadata": {
            "tags": []
          },
          "execution_count": 20
        }
      ]
    },
    {
      "cell_type": "code",
      "metadata": {
        "id": "xVPO7l2uY7X_",
        "colab_type": "code",
        "outputId": "c2a9808a-2807-44d0-e264-442de06ad89a",
        "colab": {
          "base_uri": "https://localhost:8080/",
          "height": 1000
        }
      },
      "source": [
        "random_search.cv_results_"
      ],
      "execution_count": 0,
      "outputs": [
        {
          "output_type": "execute_result",
          "data": {
            "text/plain": [
              "{'mean_fit_time': array([ 72.47455616, 205.2609889 ,  70.10993247, 229.11446571,\n",
              "         10.60546746, 180.70490422,  43.5544241 , 138.95962658,\n",
              "        243.65751877,  62.53788862]),\n",
              " 'mean_score_time': array([0.13923707, 0.3873415 , 0.17662063, 0.42622657, 0.05305338,\n",
              "        0.2810226 , 0.09270654, 0.21287332, 0.28956146, 0.09422545]),\n",
              " 'mean_test_score': array([0.86505246, 0.87791248, 0.90934645, 0.89583211, 0.84559105,\n",
              "        0.86720167, 0.60017713, 0.89855338, 0.89839234, 0.85528205]),\n",
              " 'param_max_depth': masked_array(data=[39, 8, 19, 24, 24, 24, 2, 33, 25, 28],\n",
              "              mask=[False, False, False, False, False, False, False, False,\n",
              "                    False, False],\n",
              "        fill_value='?',\n",
              "             dtype=object),\n",
              " 'param_min_samples_split': masked_array(data=[0.16851205438518635, 0.12913303835521028,\n",
              "                    0.029895008247782573, 0.07640801361666534,\n",
              "                    0.13952680611682175, 0.17565608551928394,\n",
              "                    0.04618316847421303, 0.07054420634894801,\n",
              "                    0.06795459889941034, 0.2037773482494504],\n",
              "              mask=[False, False, False, False, False, False, False, False,\n",
              "                    False, False],\n",
              "        fill_value='?',\n",
              "             dtype=object),\n",
              " 'param_n_estimators': masked_array(data=[15, 39, 11, 40, 2, 38, 21, 22, 42, 15],\n",
              "              mask=[False, False, False, False, False, False, False, False,\n",
              "                    False, False],\n",
              "        fill_value='?',\n",
              "             dtype=object),\n",
              " 'params': [{'max_depth': 39,\n",
              "   'min_samples_split': 0.16851205438518635,\n",
              "   'n_estimators': 15},\n",
              "  {'max_depth': 8,\n",
              "   'min_samples_split': 0.12913303835521028,\n",
              "   'n_estimators': 39},\n",
              "  {'max_depth': 19,\n",
              "   'min_samples_split': 0.029895008247782573,\n",
              "   'n_estimators': 11},\n",
              "  {'max_depth': 24,\n",
              "   'min_samples_split': 0.07640801361666534,\n",
              "   'n_estimators': 40},\n",
              "  {'max_depth': 24,\n",
              "   'min_samples_split': 0.13952680611682175,\n",
              "   'n_estimators': 2},\n",
              "  {'max_depth': 24,\n",
              "   'min_samples_split': 0.17565608551928394,\n",
              "   'n_estimators': 38},\n",
              "  {'max_depth': 2,\n",
              "   'min_samples_split': 0.04618316847421303,\n",
              "   'n_estimators': 21},\n",
              "  {'max_depth': 33,\n",
              "   'min_samples_split': 0.07054420634894801,\n",
              "   'n_estimators': 22},\n",
              "  {'max_depth': 25,\n",
              "   'min_samples_split': 0.06795459889941034,\n",
              "   'n_estimators': 42},\n",
              "  {'max_depth': 28,\n",
              "   'min_samples_split': 0.2037773482494504,\n",
              "   'n_estimators': 15}],\n",
              " 'rank_test_score': array([ 7,  5,  1,  4,  9,  6, 10,  2,  3,  8], dtype=int32),\n",
              " 'split0_test_score': array([0.87601504, 0.87567964, 0.90871039, 0.89966439, 0.74978713,\n",
              "        0.86919213, 0.5513722 , 0.90024196, 0.90126845, 0.87381215]),\n",
              " 'split1_test_score': array([0.8686668 , 0.87767603, 0.91028417, 0.89102525, 0.87315735,\n",
              "        0.86645047, 0.62697981, 0.89454113, 0.89604238, 0.87228389]),\n",
              " 'split2_test_score': array([0.86036096, 0.88074761, 0.90781087, 0.89318903, 0.83202423,\n",
              "        0.88527674, 0.67119632, 0.90151423, 0.89805258, 0.86432844]),\n",
              " 'split3_test_score': array([0.86739277, 0.87348002, 0.91125071, 0.89736132, 0.88183274,\n",
              "        0.85467966, 0.57279524, 0.90081538, 0.89369962, 0.85534178]),\n",
              " 'split4_test_score': array([0.85282674, 0.88197911, 0.9086761 , 0.89792058, 0.8911538 ,\n",
              "        0.86040938, 0.57854208, 0.89565418, 0.9028987 , 0.81064397]),\n",
              " 'std_fit_time': array([ 3.01188835,  6.38847169,  2.13185771,  6.32381694,  0.78199475,\n",
              "         4.51327125,  0.31385335,  6.25712081, 11.22703287, 10.59612827]),\n",
              " 'std_score_time': array([0.00974575, 0.01827607, 0.00906916, 0.02092616, 0.0014685 ,\n",
              "        0.03673468, 0.01361092, 0.00773035, 0.01586123, 0.01719458]),\n",
              " 'std_test_score': array([0.00787651, 0.00313891, 0.00124237, 0.00320869, 0.05198418,\n",
              "        0.01033606, 0.04327095, 0.00287187, 0.00335376, 0.02326726])}"
            ]
          },
          "metadata": {
            "tags": []
          },
          "execution_count": 21
        }
      ]
    },
    {
      "cell_type": "code",
      "metadata": {
        "id": "UFyYD3jBZzSz",
        "colab_type": "code",
        "outputId": "85a9e1c6-0c1d-42c8-b126-fcbbc03441d6",
        "colab": {
          "base_uri": "https://localhost:8080/",
          "height": 153
        }
      },
      "source": [
        "random_search.best_estimator_"
      ],
      "execution_count": 0,
      "outputs": [
        {
          "output_type": "execute_result",
          "data": {
            "text/plain": [
              "ExtraTreesRegressor(bootstrap=False, ccp_alpha=0.0, criterion='mse',\n",
              "                    max_depth=19, max_features='auto', max_leaf_nodes=None,\n",
              "                    max_samples=None, min_impurity_decrease=0.0,\n",
              "                    min_impurity_split=None, min_samples_leaf=1,\n",
              "                    min_samples_split=0.029895008247782573,\n",
              "                    min_weight_fraction_leaf=0.0, n_estimators=11, n_jobs=None,\n",
              "                    oob_score=False, random_state=None, verbose=0,\n",
              "                    warm_start=False)"
            ]
          },
          "metadata": {
            "tags": []
          },
          "execution_count": 22
        }
      ]
    },
    {
      "cell_type": "code",
      "metadata": {
        "id": "hpCFkyP2Z3M1",
        "colab_type": "code",
        "outputId": "6df1e14e-78c8-4863-84d9-0743c805ad88",
        "colab": {
          "base_uri": "https://localhost:8080/",
          "height": 34
        }
      },
      "source": [
        "random_search.best_score_"
      ],
      "execution_count": 0,
      "outputs": [
        {
          "output_type": "execute_result",
          "data": {
            "text/plain": [
              "0.909346448145319"
            ]
          },
          "metadata": {
            "tags": []
          },
          "execution_count": 23
        }
      ]
    },
    {
      "cell_type": "code",
      "metadata": {
        "id": "lOBCiwx5a1WN",
        "colab_type": "code",
        "outputId": "39eb1594-219e-4f2c-9041-f1ceb4595f09",
        "colab": {
          "base_uri": "https://localhost:8080/",
          "height": 34
        }
      },
      "source": [
        "random_search.scorer_"
      ],
      "execution_count": 0,
      "outputs": [
        {
          "output_type": "execute_result",
          "data": {
            "text/plain": [
              "<function sklearn.metrics._scorer._passthrough_scorer>"
            ]
          },
          "metadata": {
            "tags": []
          },
          "execution_count": 24
        }
      ]
    },
    {
      "cell_type": "code",
      "metadata": {
        "id": "b2NkWINHl7qp",
        "colab_type": "code",
        "outputId": "9b2005f7-7f9a-4a50-d413-e2fd2b316e06",
        "colab": {
          "base_uri": "https://localhost:8080/",
          "height": 105
        }
      },
      "source": [
        "extra_trees3 = ExtraTreesRegressor(n_jobs=-1, verbose=1, n_estimators=10)\n",
        "extra_trees3 = extra_trees.fit(train_set_x_prepared, train_set_y)"
      ],
      "execution_count": 0,
      "outputs": [
        {
          "output_type": "stream",
          "text": [
            "/usr/local/lib/python3.6/dist-packages/ipykernel_launcher.py:2: DataConversionWarning: A column-vector y was passed when a 1d array was expected. Please change the shape of y to (n_samples,), for example using ravel().\n",
            "  \n",
            "[Parallel(n_jobs=-1)]: Using backend ThreadingBackend with 2 concurrent workers.\n",
            "[Parallel(n_jobs=-1)]: Done  10 out of  10 | elapsed:  1.4min finished\n"
          ],
          "name": "stderr"
        }
      ]
    },
    {
      "cell_type": "code",
      "metadata": {
        "id": "V6CyuQ1OmBJ1",
        "colab_type": "code",
        "outputId": "b2ca74e2-a35a-48d6-b581-75f2fe073c07",
        "colab": {
          "base_uri": "https://localhost:8080/",
          "height": 68
        }
      },
      "source": [
        "extra_trees3.score(test_set_x_prepared,test_set_y)"
      ],
      "execution_count": 0,
      "outputs": [
        {
          "output_type": "stream",
          "text": [
            "[Parallel(n_jobs=2)]: Using backend ThreadingBackend with 2 concurrent workers.\n",
            "[Parallel(n_jobs=2)]: Done  10 out of  10 | elapsed:    0.3s finished\n"
          ],
          "name": "stderr"
        },
        {
          "output_type": "execute_result",
          "data": {
            "text/plain": [
              "0.9678790055348738"
            ]
          },
          "metadata": {
            "tags": []
          },
          "execution_count": 29
        }
      ]
    },
    {
      "cell_type": "code",
      "metadata": {
        "id": "-jU-_X3smke1",
        "colab_type": "code",
        "outputId": "561744e8-b5f8-4de3-d36f-7a7bfcebd98b",
        "colab": {
          "base_uri": "https://localhost:8080/",
          "height": 136
        }
      },
      "source": [
        "extra_trees3"
      ],
      "execution_count": 0,
      "outputs": [
        {
          "output_type": "execute_result",
          "data": {
            "text/plain": [
              "ExtraTreesRegressor(bootstrap=False, ccp_alpha=0.0, criterion='mse',\n",
              "                    max_depth=None, max_features='auto', max_leaf_nodes=None,\n",
              "                    max_samples=None, min_impurity_decrease=0.0,\n",
              "                    min_impurity_split=None, min_samples_leaf=1,\n",
              "                    min_samples_split=2, min_weight_fraction_leaf=0.0,\n",
              "                    n_estimators=10, n_jobs=-1, oob_score=False,\n",
              "                    random_state=None, verbose=1, warm_start=False)"
            ]
          },
          "metadata": {
            "tags": []
          },
          "execution_count": 30
        }
      ]
    },
    {
      "cell_type": "code",
      "metadata": {
        "id": "GNHk_R8bD_-T",
        "colab_type": "code",
        "colab": {}
      },
      "source": [
        "parameter_grid = {\n",
        "\n",
        "  'n_estimators': sp_randint(9,30),\n",
        "  'max_depth':  sp_randint(9,45),\n",
        "  'min_samples_split': uniform(0.02,0.08)\n",
        "\n",
        "}\n",
        "\n",
        "from sklearn.ensemble import ExtraTreesRegressor\n",
        "\n",
        "extra_trees_search2 = ExtraTreesRegressor()\n",
        "\n",
        "random_search2 = RandomizedSearchCV(extra_trees_search2, parameter_grid, cv=5, n_jobs=-1, random_state=42, n_iter=40)"
      ],
      "execution_count": 0,
      "outputs": []
    },
    {
      "cell_type": "code",
      "metadata": {
        "id": "uVAShlkfE5J-",
        "colab_type": "code",
        "outputId": "fbba1a22-8814-48ca-86fc-86b7760a0853",
        "colab": {
          "base_uri": "https://localhost:8080/",
          "height": 394
        }
      },
      "source": [
        "random_search2.fit(train_set_x_prepared,train_set_y)"
      ],
      "execution_count": 0,
      "outputs": [
        {
          "output_type": "stream",
          "text": [
            "/usr/local/lib/python3.6/dist-packages/sklearn/model_selection/_search.py:739: DataConversionWarning: A column-vector y was passed when a 1d array was expected. Please change the shape of y to (n_samples,), for example using ravel().\n",
            "  self.best_estimator_.fit(X, y, **fit_params)\n"
          ],
          "name": "stderr"
        },
        {
          "output_type": "execute_result",
          "data": {
            "text/plain": [
              "RandomizedSearchCV(cv=5, error_score=nan,\n",
              "                   estimator=ExtraTreesRegressor(bootstrap=False, ccp_alpha=0.0,\n",
              "                                                 criterion='mse',\n",
              "                                                 max_depth=None,\n",
              "                                                 max_features='auto',\n",
              "                                                 max_leaf_nodes=None,\n",
              "                                                 max_samples=None,\n",
              "                                                 min_impurity_decrease=0.0,\n",
              "                                                 min_impurity_split=None,\n",
              "                                                 min_samples_leaf=1,\n",
              "                                                 min_samples_split=2,\n",
              "                                                 min_weight_fraction_leaf=0.0,\n",
              "                                                 n_estimators=100, n_jobs=None,\n",
              "                                                 oob_score=False...\n",
              "                   param_distributions={'max_depth': <scipy.stats._distn_infrastructure.rv_frozen object at 0x7f09678508d0>,\n",
              "                                        'min_samples_split': <scipy.stats._distn_infrastructure.rv_frozen object at 0x7f0967850a58>,\n",
              "                                        'n_estimators': <scipy.stats._distn_infrastructure.rv_frozen object at 0x7f0967850780>},\n",
              "                   pre_dispatch='2*n_jobs', random_state=42, refit=True,\n",
              "                   return_train_score=False, scoring=None, verbose=0)"
            ]
          },
          "metadata": {
            "tags": []
          },
          "execution_count": 20
        }
      ]
    },
    {
      "cell_type": "code",
      "metadata": {
        "id": "m-6F3caOE8AD",
        "colab_type": "code",
        "outputId": "56a73fa7-c673-44d4-b5c7-6858f5bd7345",
        "colab": {
          "base_uri": "https://localhost:8080/",
          "height": 1000
        }
      },
      "source": [
        "random_search2.cv_results_"
      ],
      "execution_count": 0,
      "outputs": [
        {
          "output_type": "execute_result",
          "data": {
            "text/plain": [
              "{'mean_fit_time': array([ 84.32273269, 148.47925954, 153.79277172,  55.99990792,\n",
              "        110.24842634, 161.64903345, 101.58182349,  86.62750764,\n",
              "         94.58214812,  62.96685677, 118.17540379,  95.687854  ,\n",
              "         53.96593237,  74.13843327, 127.88408675,  74.76687455,\n",
              "         63.06085238, 121.82361832,  81.41356611, 109.53628197,\n",
              "         87.55894737, 138.53733177, 104.67712998,  39.94230399,\n",
              "         37.11128922,  97.85231433,  49.55776749,  83.43548694,\n",
              "         72.72540288, 129.27159901,  64.36589737,  56.9669538 ,\n",
              "        113.62269115,  56.3964992 , 107.79695959, 108.51998024,\n",
              "        120.34500971, 155.27775283,  61.24376035,  93.25170255]),\n",
              " 'mean_score_time': array([0.16715827, 0.27495127, 0.30496855, 0.12990866, 0.21879888,\n",
              "        0.29295297, 0.19992509, 0.18271151, 0.1874197 , 0.13152809,\n",
              "        0.23628788, 0.19441452, 0.12681284, 0.16223497, 0.24922543,\n",
              "        0.16417675, 0.14648447, 0.25047307, 0.17102652, 0.22177305,\n",
              "        0.18186059, 0.260218  , 0.20654087, 0.09488735, 0.09155235,\n",
              "        0.21454659, 0.11312528, 0.17294822, 0.15126514, 0.24067822,\n",
              "        0.13436427, 0.12285309, 0.21889138, 0.12377958, 0.22690768,\n",
              "        0.22311049, 0.24255123, 0.2771297 , 0.13265309, 0.18811755]),\n",
              " 'mean_test_score': array([0.91262965, 0.91249753, 0.91587043, 0.90994606, 0.91526578,\n",
              "        0.91164138, 0.90932381, 0.90910773, 0.89573394, 0.89037453,\n",
              "        0.90564606, 0.89737161, 0.91550876, 0.90974174, 0.9163825 ,\n",
              "        0.90821112, 0.90756747, 0.91215995, 0.90605145, 0.90347153,\n",
              "        0.91435028, 0.90773729, 0.90769384, 0.89322736, 0.89534149,\n",
              "        0.91760167, 0.89946259, 0.9013619 , 0.89558739, 0.90930718,\n",
              "        0.89953602, 0.90228905, 0.90737407, 0.89612606, 0.91080328,\n",
              "        0.90420942, 0.91653648, 0.90451606, 0.89594793, 0.90350082]),\n",
              " 'param_max_depth': masked_array(data=[37, 29, 31, 44, 30, 38, 41, 33, 36, 11, 29, 12, 17, 28,\n",
              "                    16, 25, 12, 12, 34, 44, 23, 29, 32, 37, 33, 16, 25, 41,\n",
              "                    36, 20, 31, 43, 9, 22, 34, 35, 34, 40, 40, 31],\n",
              "              mask=[False, False, False, False, False, False, False, False,\n",
              "                    False, False, False, False, False, False, False, False,\n",
              "                    False, False, False, False, False, False, False, False,\n",
              "                    False, False, False, False, False, False, False, False,\n",
              "                    False, False, False, False, False, False, False, False],\n",
              "        fill_value='?',\n",
              "             dtype=object),\n",
              " 'param_min_samples_split': masked_array(data=[0.0346747831892931, 0.03248149123539492,\n",
              "                    0.024646688973455958, 0.031429345433755265,\n",
              "                    0.024512926322168022, 0.03698712885426209,\n",
              "                    0.04433937943676302, 0.04329833121584335,\n",
              "                    0.09790044150731674, 0.08879523253890564,\n",
              "                    0.056039940157563445, 0.09537614045478823,\n",
              "                    0.021277300177617135, 0.039282037282080934,\n",
              "                    0.02275108168921747, 0.04070239852800135,\n",
              "                    0.04493688608715288, 0.034788356442042166,\n",
              "                    0.05598033066958126, 0.06783199830488681,\n",
              "                    0.027079400164153562, 0.05109418317515856,\n",
              "                    0.04854026613548715, 0.08417575846032317,\n",
              "                    0.09895095492804139, 0.02044176936988819,\n",
              "                    0.076907356219892, 0.06847679798248091,\n",
              "                    0.08904827407004749, 0.046471841988211936,\n",
              "                    0.07350730021308859, 0.06730382301661818,\n",
              "                    0.05063414998030319, 0.08791310594128672,\n",
              "                    0.03887879357991646, 0.06181862635055953,\n",
              "                    0.022033530139527614, 0.07091283290110244,\n",
              "                    0.07564128691409021, 0.06835339034222539],\n",
              "              mask=[False, False, False, False, False, False, False, False,\n",
              "                    False, False, False, False, False, False, False, False,\n",
              "                    False, False, False, False, False, False, False, False,\n",
              "                    False, False, False, False, False, False, False, False,\n",
              "                    False, False, False, False, False, False, False, False],\n",
              "        fill_value='?',\n",
              "             dtype=object),\n",
              " 'param_n_estimators': masked_array(data=[16, 27, 29, 11, 20, 29, 20, 18, 23, 15, 26, 22, 10, 15,\n",
              "                    22, 16, 14, 26, 18, 24, 16, 26, 21, 9, 9, 19, 11, 18,\n",
              "                    16, 24, 13, 11, 23, 13, 22, 23, 21, 28, 13, 23],\n",
              "              mask=[False, False, False, False, False, False, False, False,\n",
              "                    False, False, False, False, False, False, False, False,\n",
              "                    False, False, False, False, False, False, False, False,\n",
              "                    False, False, False, False, False, False, False, False,\n",
              "                    False, False, False, False, False, False, False, False],\n",
              "        fill_value='?',\n",
              "             dtype=object),\n",
              " 'params': [{'max_depth': 37,\n",
              "   'min_samples_split': 0.0346747831892931,\n",
              "   'n_estimators': 16},\n",
              "  {'max_depth': 29,\n",
              "   'min_samples_split': 0.03248149123539492,\n",
              "   'n_estimators': 27},\n",
              "  {'max_depth': 31,\n",
              "   'min_samples_split': 0.024646688973455958,\n",
              "   'n_estimators': 29},\n",
              "  {'max_depth': 44,\n",
              "   'min_samples_split': 0.031429345433755265,\n",
              "   'n_estimators': 11},\n",
              "  {'max_depth': 30,\n",
              "   'min_samples_split': 0.024512926322168022,\n",
              "   'n_estimators': 20},\n",
              "  {'max_depth': 38,\n",
              "   'min_samples_split': 0.03698712885426209,\n",
              "   'n_estimators': 29},\n",
              "  {'max_depth': 41,\n",
              "   'min_samples_split': 0.04433937943676302,\n",
              "   'n_estimators': 20},\n",
              "  {'max_depth': 33,\n",
              "   'min_samples_split': 0.04329833121584335,\n",
              "   'n_estimators': 18},\n",
              "  {'max_depth': 36,\n",
              "   'min_samples_split': 0.09790044150731674,\n",
              "   'n_estimators': 23},\n",
              "  {'max_depth': 11,\n",
              "   'min_samples_split': 0.08879523253890564,\n",
              "   'n_estimators': 15},\n",
              "  {'max_depth': 29,\n",
              "   'min_samples_split': 0.056039940157563445,\n",
              "   'n_estimators': 26},\n",
              "  {'max_depth': 12,\n",
              "   'min_samples_split': 0.09537614045478823,\n",
              "   'n_estimators': 22},\n",
              "  {'max_depth': 17,\n",
              "   'min_samples_split': 0.021277300177617135,\n",
              "   'n_estimators': 10},\n",
              "  {'max_depth': 28,\n",
              "   'min_samples_split': 0.039282037282080934,\n",
              "   'n_estimators': 15},\n",
              "  {'max_depth': 16,\n",
              "   'min_samples_split': 0.02275108168921747,\n",
              "   'n_estimators': 22},\n",
              "  {'max_depth': 25,\n",
              "   'min_samples_split': 0.04070239852800135,\n",
              "   'n_estimators': 16},\n",
              "  {'max_depth': 12,\n",
              "   'min_samples_split': 0.04493688608715288,\n",
              "   'n_estimators': 14},\n",
              "  {'max_depth': 12,\n",
              "   'min_samples_split': 0.034788356442042166,\n",
              "   'n_estimators': 26},\n",
              "  {'max_depth': 34,\n",
              "   'min_samples_split': 0.05598033066958126,\n",
              "   'n_estimators': 18},\n",
              "  {'max_depth': 44,\n",
              "   'min_samples_split': 0.06783199830488681,\n",
              "   'n_estimators': 24},\n",
              "  {'max_depth': 23,\n",
              "   'min_samples_split': 0.027079400164153562,\n",
              "   'n_estimators': 16},\n",
              "  {'max_depth': 29,\n",
              "   'min_samples_split': 0.05109418317515856,\n",
              "   'n_estimators': 26},\n",
              "  {'max_depth': 32,\n",
              "   'min_samples_split': 0.04854026613548715,\n",
              "   'n_estimators': 21},\n",
              "  {'max_depth': 37,\n",
              "   'min_samples_split': 0.08417575846032317,\n",
              "   'n_estimators': 9},\n",
              "  {'max_depth': 33,\n",
              "   'min_samples_split': 0.09895095492804139,\n",
              "   'n_estimators': 9},\n",
              "  {'max_depth': 16,\n",
              "   'min_samples_split': 0.02044176936988819,\n",
              "   'n_estimators': 19},\n",
              "  {'max_depth': 25,\n",
              "   'min_samples_split': 0.076907356219892,\n",
              "   'n_estimators': 11},\n",
              "  {'max_depth': 41,\n",
              "   'min_samples_split': 0.06847679798248091,\n",
              "   'n_estimators': 18},\n",
              "  {'max_depth': 36,\n",
              "   'min_samples_split': 0.08904827407004749,\n",
              "   'n_estimators': 16},\n",
              "  {'max_depth': 20,\n",
              "   'min_samples_split': 0.046471841988211936,\n",
              "   'n_estimators': 24},\n",
              "  {'max_depth': 31,\n",
              "   'min_samples_split': 0.07350730021308859,\n",
              "   'n_estimators': 13},\n",
              "  {'max_depth': 43,\n",
              "   'min_samples_split': 0.06730382301661818,\n",
              "   'n_estimators': 11},\n",
              "  {'max_depth': 9,\n",
              "   'min_samples_split': 0.05063414998030319,\n",
              "   'n_estimators': 23},\n",
              "  {'max_depth': 22,\n",
              "   'min_samples_split': 0.08791310594128672,\n",
              "   'n_estimators': 13},\n",
              "  {'max_depth': 34,\n",
              "   'min_samples_split': 0.03887879357991646,\n",
              "   'n_estimators': 22},\n",
              "  {'max_depth': 35,\n",
              "   'min_samples_split': 0.06181862635055953,\n",
              "   'n_estimators': 23},\n",
              "  {'max_depth': 34,\n",
              "   'min_samples_split': 0.022033530139527614,\n",
              "   'n_estimators': 21},\n",
              "  {'max_depth': 40,\n",
              "   'min_samples_split': 0.07091283290110244,\n",
              "   'n_estimators': 28},\n",
              "  {'max_depth': 40,\n",
              "   'min_samples_split': 0.07564128691409021,\n",
              "   'n_estimators': 13},\n",
              "  {'max_depth': 31,\n",
              "   'min_samples_split': 0.06835339034222539,\n",
              "   'n_estimators': 23}],\n",
              " 'rank_test_score': array([ 8,  9,  4, 13,  6, 11, 15, 17, 36, 40, 24, 33,  5, 14,  3, 18, 21,\n",
              "        10, 23, 28,  7, 19, 20, 39, 38,  1, 32, 30, 37, 16, 31, 29, 22, 34,\n",
              "        12, 26,  2, 25, 35, 27], dtype=int32),\n",
              " 'split0_test_score': array([0.91368993, 0.91311657, 0.91699684, 0.91062359, 0.91647844,\n",
              "        0.91060619, 0.91129302, 0.91104156, 0.89705445, 0.89336478,\n",
              "        0.90325861, 0.89093441, 0.91688584, 0.91115672, 0.91837418,\n",
              "        0.90567669, 0.91075712, 0.9120833 , 0.9058116 , 0.90390958,\n",
              "        0.9153576 , 0.90985165, 0.90687722, 0.9013304 , 0.8937207 ,\n",
              "        0.91771466, 0.89815523, 0.90434172, 0.89107968, 0.91201885,\n",
              "        0.89315348, 0.90426999, 0.90303618, 0.89794472, 0.9105964 ,\n",
              "        0.90144616, 0.91663583, 0.9030837 , 0.90037927, 0.9052709 ]),\n",
              " 'split1_test_score': array([0.91133941, 0.91272807, 0.91693763, 0.90765451, 0.91524071,\n",
              "        0.91210514, 0.90860457, 0.90917246, 0.90064954, 0.90272049,\n",
              "        0.9029152 , 0.89790359, 0.91635928, 0.90930968, 0.91806261,\n",
              "        0.90917193, 0.90768478, 0.91492632, 0.90757476, 0.90237735,\n",
              "        0.91468444, 0.90917696, 0.90992688, 0.89579682, 0.88746829,\n",
              "        0.9172777 , 0.90063694, 0.90174057, 0.89966311, 0.9082193 ,\n",
              "        0.89781028, 0.90410935, 0.90860482, 0.90146379, 0.91216079,\n",
              "        0.90669524, 0.91716955, 0.90404586, 0.89113614, 0.9044507 ]),\n",
              " 'split2_test_score': array([0.91252195, 0.91162602, 0.9151374 , 0.90880295, 0.91428447,\n",
              "        0.91178755, 0.90874656, 0.90638841, 0.89284163, 0.88198493,\n",
              "        0.90771272, 0.89977969, 0.91539999, 0.90944063, 0.91409626,\n",
              "        0.90801638, 0.90437219, 0.91060006, 0.90572026, 0.90082735,\n",
              "        0.91224644, 0.90655768, 0.90858371, 0.88000225, 0.89159502,\n",
              "        0.91661151, 0.90049435, 0.90425606, 0.88666148, 0.90722493,\n",
              "        0.89783697, 0.90136112, 0.90711931, 0.89833305, 0.91083725,\n",
              "        0.9042668 , 0.91487515, 0.90577462, 0.89734768, 0.90682361]),\n",
              " 'split3_test_score': array([0.91375163, 0.91371335, 0.91415407, 0.91048891, 0.91445478,\n",
              "        0.91296402, 0.90912885, 0.90749799, 0.89907241, 0.88881782,\n",
              "        0.9103247 , 0.8980537 , 0.91452809, 0.9093267 , 0.91692618,\n",
              "        0.90815879, 0.90931435, 0.91226328, 0.90640751, 0.90581173,\n",
              "        0.91338418, 0.90870815, 0.90775513, 0.88704807, 0.90394376,\n",
              "        0.91893352, 0.89240411, 0.90034422, 0.90053585, 0.90994665,\n",
              "        0.90472676, 0.90366108, 0.9104701 , 0.89829774, 0.91096101,\n",
              "        0.90740692, 0.91786766, 0.90675341, 0.88798881, 0.90047197]),\n",
              " 'split4_test_score': array([0.91184531, 0.91130365, 0.91612623, 0.91216034, 0.91587051,\n",
              "        0.91074401, 0.90884606, 0.91143821, 0.88905167, 0.88498465,\n",
              "        0.90401907, 0.90018663, 0.9143706 , 0.90947499, 0.91445325,\n",
              "        0.9100318 , 0.90570891, 0.9109268 , 0.90474312, 0.90443163,\n",
              "        0.91607876, 0.904392  , 0.90532627, 0.90195924, 0.89997968,\n",
              "        0.91747097, 0.90562231, 0.89612694, 0.89999682, 0.90912619,\n",
              "        0.90415262, 0.89804371, 0.90763994, 0.88459098, 0.90946095,\n",
              "        0.90123198, 0.91613421, 0.90292269, 0.90288777, 0.90048693]),\n",
              " 'std_fit_time': array([ 1.59797157,  7.64327326,  1.85923315,  1.3090791 ,  5.57627411,\n",
              "         0.97801032,  2.2510307 ,  4.88896466,  2.27394429,  1.73516584,\n",
              "         2.40194669,  4.65060576,  2.73427089,  2.32083806,  5.58888537,\n",
              "         4.4208965 ,  1.71615956,  2.63722845,  0.89815759,  2.66173725,\n",
              "         2.83491347,  2.91913067,  5.58917643,  2.12784069,  1.08062422,\n",
              "         1.26712136,  1.6284128 ,  1.18056836,  1.53974743,  2.97625586,\n",
              "         2.16205676,  1.73718035,  4.52205326,  1.04046999,  0.64250544,\n",
              "         1.26574853,  7.4292209 ,  2.7755302 ,  3.13272899, 18.2212042 ]),\n",
              " 'std_score_time': array([0.00791032, 0.00386379, 0.00252348, 0.00236499, 0.00267562,\n",
              "        0.00387042, 0.00554932, 0.00682246, 0.00415335, 0.00372429,\n",
              "        0.00217314, 0.00435391, 0.00257449, 0.00119907, 0.00779487,\n",
              "        0.00272176, 0.00320714, 0.00333987, 0.00222992, 0.00858306,\n",
              "        0.0020113 , 0.00791112, 0.00788365, 0.00192503, 0.00097449,\n",
              "        0.00234892, 0.00197947, 0.00217361, 0.00170574, 0.00341183,\n",
              "        0.00230604, 0.00324428, 0.00542863, 0.0021916 , 0.00650888,\n",
              "        0.0141858 , 0.01059532, 0.00932076, 0.00296326, 0.03057535]),\n",
              " 'std_test_score': array([0.00096691, 0.00090548, 0.00109146, 0.00156299, 0.00083157,\n",
              "        0.00087894, 0.00099946, 0.0019576 , 0.0042443 , 0.00725567,\n",
              "        0.00289708, 0.00334392, 0.00098881, 0.00071034, 0.00179076,\n",
              "        0.00146301, 0.00231962, 0.00152468, 0.00093018, 0.00171925,\n",
              "        0.00137648, 0.0020034 , 0.0015527 , 0.00850405, 0.0059019 ,\n",
              "        0.00076014, 0.00428759, 0.00302785, 0.00566627, 0.00163181,\n",
              "        0.00435565, 0.0023666 , 0.00245165, 0.00590667, 0.0008618 ,\n",
              "        0.00256544, 0.0010104 , 0.00151005, 0.00559032, 0.00258201])}"
            ]
          },
          "metadata": {
            "tags": []
          },
          "execution_count": 21
        }
      ]
    },
    {
      "cell_type": "code",
      "metadata": {
        "id": "de9no4Z_jSJW",
        "colab_type": "code",
        "outputId": "b0869ed4-80ce-404b-b765-53669a648658",
        "colab": {
          "base_uri": "https://localhost:8080/",
          "height": 163
        }
      },
      "source": [
        "random_search2.best_score_"
      ],
      "execution_count": 0,
      "outputs": [
        {
          "output_type": "error",
          "ename": "NameError",
          "evalue": "ignored",
          "traceback": [
            "\u001b[0;31m---------------------------------------------------------------------------\u001b[0m",
            "\u001b[0;31mNameError\u001b[0m                                 Traceback (most recent call last)",
            "\u001b[0;32m<ipython-input-1-c9554d798499>\u001b[0m in \u001b[0;36m<module>\u001b[0;34m()\u001b[0m\n\u001b[0;32m----> 1\u001b[0;31m \u001b[0mrandom_search2\u001b[0m\u001b[0;34m.\u001b[0m\u001b[0mbest_score_\u001b[0m\u001b[0;34m\u001b[0m\u001b[0;34m\u001b[0m\u001b[0m\n\u001b[0m",
            "\u001b[0;31mNameError\u001b[0m: name 'random_search2' is not defined"
          ]
        }
      ]
    },
    {
      "cell_type": "code",
      "metadata": {
        "id": "X6dzMICvlY2Q",
        "colab_type": "code",
        "colab": {}
      },
      "source": [
        "from sklearn.model_selection import GridSearchCV"
      ],
      "execution_count": 0,
      "outputs": []
    },
    {
      "cell_type": "code",
      "metadata": {
        "id": "OaYANtBvj5a_",
        "colab_type": "code",
        "colab": {}
      },
      "source": [
        "parameter_grid = {\n",
        "\n",
        "  'n_estimators': [5, 10, 15] ,\n",
        "  'max_depth': [20, 100, 1000],\n",
        "  'min_samples_split': [0.0001, 0.02, 0.029]\n",
        "\n",
        "}\n",
        "\n",
        "from sklearn.ensemble import ExtraTreesRegressor\n",
        "\n",
        "extra_trees_search3 = ExtraTreesRegressor()\n",
        "\n",
        "random_search3 = GridSearchCV(extra_trees_search3, parameter_grid, cv=5, n_jobs=-1)"
      ],
      "execution_count": 0,
      "outputs": []
    },
    {
      "cell_type": "code",
      "metadata": {
        "id": "NQetZGsblr2z",
        "colab_type": "code",
        "outputId": "73dbc572-0b05-4ab9-af1a-c0fe05e33673",
        "colab": {
          "base_uri": "https://localhost:8080/",
          "height": 411
        }
      },
      "source": [
        "random_search3.fit(train_set_x_prepared,train_set_y)"
      ],
      "execution_count": 0,
      "outputs": [
        {
          "output_type": "stream",
          "text": [
            "/usr/local/lib/python3.6/dist-packages/sklearn/model_selection/_search.py:739: DataConversionWarning: A column-vector y was passed when a 1d array was expected. Please change the shape of y to (n_samples,), for example using ravel().\n",
            "  self.best_estimator_.fit(X, y, **fit_params)\n"
          ],
          "name": "stderr"
        },
        {
          "output_type": "execute_result",
          "data": {
            "text/plain": [
              "GridSearchCV(cv=5, error_score=nan,\n",
              "             estimator=ExtraTreesRegressor(bootstrap=False, ccp_alpha=0.0,\n",
              "                                           criterion='mse', max_depth=None,\n",
              "                                           max_features='auto',\n",
              "                                           max_leaf_nodes=None,\n",
              "                                           max_samples=None,\n",
              "                                           min_impurity_decrease=0.0,\n",
              "                                           min_impurity_split=None,\n",
              "                                           min_samples_leaf=1,\n",
              "                                           min_samples_split=2,\n",
              "                                           min_weight_fraction_leaf=0.0,\n",
              "                                           n_estimators=100, n_jobs=None,\n",
              "                                           oob_score=False, random_state=None,\n",
              "                                           verbose=0, warm_start=False),\n",
              "             iid='deprecated', n_jobs=-1,\n",
              "             param_grid={'max_depth': [20, 100, 1000],\n",
              "                         'min_samples_split': [0.0001, 0.02, 0.029],\n",
              "                         'n_estimators': [5, 10, 15]},\n",
              "             pre_dispatch='2*n_jobs', refit=True, return_train_score=False,\n",
              "             scoring=None, verbose=0)"
            ]
          },
          "metadata": {
            "tags": []
          },
          "execution_count": 17
        }
      ]
    },
    {
      "cell_type": "code",
      "metadata": {
        "id": "DGBdnAQIlwXV",
        "colab_type": "code",
        "outputId": "a491d850-f9ff-4f1c-ad2a-0408f93e9fb7",
        "colab": {
          "base_uri": "https://localhost:8080/",
          "height": 1000
        }
      },
      "source": [
        "random_search3.cv_results_"
      ],
      "execution_count": 0,
      "outputs": [
        {
          "output_type": "execute_result",
          "data": {
            "text/plain": [
              "{'mean_fit_time': array([ 34.28231077,  68.9629395 , 104.5328629 ,  28.32093906,\n",
              "         52.2639636 ,  83.54023104,  26.6851954 ,  54.81241307,\n",
              "         81.95760574,  37.08497033,  73.80888829, 108.7681221 ,\n",
              "         25.44611597,  53.38589854,  77.25632534,  26.40457644,\n",
              "         52.15934062,  78.49350448,  36.93231158,  74.08780155,\n",
              "        108.9596416 ,  26.66802902,  56.20716553,  82.1959415 ,\n",
              "         27.21377711,  52.96828947,  75.16814995]),\n",
              " 'mean_score_time': array([0.1204958 , 0.22945061, 0.32889905, 0.07954755, 0.12660527,\n",
              "        0.18292122, 0.07507524, 0.12489147, 0.17010279, 0.17162318,\n",
              "        0.30061865, 0.4392848 , 0.08324237, 0.13203239, 0.18280563,\n",
              "        0.07824707, 0.12936006, 0.175806  , 0.17596555, 0.30059633,\n",
              "        0.4516017 , 0.07989416, 0.13577571, 0.18510046, 0.07961636,\n",
              "        0.12783799, 0.15952253]),\n",
              " 'mean_test_score': array([0.95816917, 0.95927646, 0.9602826 , 0.9152354 , 0.91591678,\n",
              "        0.9184584 , 0.90999768, 0.91278388, 0.91289688, 0.96508428,\n",
              "        0.96721779, 0.96758213, 0.91622178, 0.9178164 , 0.9180914 ,\n",
              "        0.91073804, 0.91143229, 0.91254901, 0.9650159 , 0.96722659,\n",
              "        0.9677848 , 0.91514984, 0.91713957, 0.91702129, 0.91120455,\n",
              "        0.91253417, 0.91250285]),\n",
              " 'param_max_depth': masked_array(data=[20, 20, 20, 20, 20, 20, 20, 20, 20, 100, 100, 100, 100,\n",
              "                    100, 100, 100, 100, 100, 1000, 1000, 1000, 1000, 1000,\n",
              "                    1000, 1000, 1000, 1000],\n",
              "              mask=[False, False, False, False, False, False, False, False,\n",
              "                    False, False, False, False, False, False, False, False,\n",
              "                    False, False, False, False, False, False, False, False,\n",
              "                    False, False, False],\n",
              "        fill_value='?',\n",
              "             dtype=object),\n",
              " 'param_min_samples_split': masked_array(data=[0.0001, 0.0001, 0.0001, 0.02, 0.02, 0.02, 0.029, 0.029,\n",
              "                    0.029, 0.0001, 0.0001, 0.0001, 0.02, 0.02, 0.02, 0.029,\n",
              "                    0.029, 0.029, 0.0001, 0.0001, 0.0001, 0.02, 0.02, 0.02,\n",
              "                    0.029, 0.029, 0.029],\n",
              "              mask=[False, False, False, False, False, False, False, False,\n",
              "                    False, False, False, False, False, False, False, False,\n",
              "                    False, False, False, False, False, False, False, False,\n",
              "                    False, False, False],\n",
              "        fill_value='?',\n",
              "             dtype=object),\n",
              " 'param_n_estimators': masked_array(data=[5, 10, 15, 5, 10, 15, 5, 10, 15, 5, 10, 15, 5, 10, 15,\n",
              "                    5, 10, 15, 5, 10, 15, 5, 10, 15, 5, 10, 15],\n",
              "              mask=[False, False, False, False, False, False, False, False,\n",
              "                    False, False, False, False, False, False, False, False,\n",
              "                    False, False, False, False, False, False, False, False,\n",
              "                    False, False, False],\n",
              "        fill_value='?',\n",
              "             dtype=object),\n",
              " 'params': [{'max_depth': 20, 'min_samples_split': 0.0001, 'n_estimators': 5},\n",
              "  {'max_depth': 20, 'min_samples_split': 0.0001, 'n_estimators': 10},\n",
              "  {'max_depth': 20, 'min_samples_split': 0.0001, 'n_estimators': 15},\n",
              "  {'max_depth': 20, 'min_samples_split': 0.02, 'n_estimators': 5},\n",
              "  {'max_depth': 20, 'min_samples_split': 0.02, 'n_estimators': 10},\n",
              "  {'max_depth': 20, 'min_samples_split': 0.02, 'n_estimators': 15},\n",
              "  {'max_depth': 20, 'min_samples_split': 0.029, 'n_estimators': 5},\n",
              "  {'max_depth': 20, 'min_samples_split': 0.029, 'n_estimators': 10},\n",
              "  {'max_depth': 20, 'min_samples_split': 0.029, 'n_estimators': 15},\n",
              "  {'max_depth': 100, 'min_samples_split': 0.0001, 'n_estimators': 5},\n",
              "  {'max_depth': 100, 'min_samples_split': 0.0001, 'n_estimators': 10},\n",
              "  {'max_depth': 100, 'min_samples_split': 0.0001, 'n_estimators': 15},\n",
              "  {'max_depth': 100, 'min_samples_split': 0.02, 'n_estimators': 5},\n",
              "  {'max_depth': 100, 'min_samples_split': 0.02, 'n_estimators': 10},\n",
              "  {'max_depth': 100, 'min_samples_split': 0.02, 'n_estimators': 15},\n",
              "  {'max_depth': 100, 'min_samples_split': 0.029, 'n_estimators': 5},\n",
              "  {'max_depth': 100, 'min_samples_split': 0.029, 'n_estimators': 10},\n",
              "  {'max_depth': 100, 'min_samples_split': 0.029, 'n_estimators': 15},\n",
              "  {'max_depth': 1000, 'min_samples_split': 0.0001, 'n_estimators': 5},\n",
              "  {'max_depth': 1000, 'min_samples_split': 0.0001, 'n_estimators': 10},\n",
              "  {'max_depth': 1000, 'min_samples_split': 0.0001, 'n_estimators': 15},\n",
              "  {'max_depth': 1000, 'min_samples_split': 0.02, 'n_estimators': 5},\n",
              "  {'max_depth': 1000, 'min_samples_split': 0.02, 'n_estimators': 10},\n",
              "  {'max_depth': 1000, 'min_samples_split': 0.02, 'n_estimators': 15},\n",
              "  {'max_depth': 1000, 'min_samples_split': 0.029, 'n_estimators': 5},\n",
              "  {'max_depth': 1000, 'min_samples_split': 0.029, 'n_estimators': 10},\n",
              "  {'max_depth': 1000, 'min_samples_split': 0.029, 'n_estimators': 15}],\n",
              " 'rank_test_score': array([ 9,  8,  7, 17, 16, 10, 27, 20, 19,  5,  4,  2, 15, 12, 11, 26, 24,\n",
              "        21,  6,  3,  1, 18, 13, 14, 25, 22, 23], dtype=int32),\n",
              " 'split0_test_score': array([0.9586944 , 0.95976252, 0.96089958, 0.91562694, 0.91679529,\n",
              "        0.9202803 , 0.90329537, 0.91220002, 0.91181147, 0.966562  ,\n",
              "        0.96840059, 0.96890504, 0.91857125, 0.91860645, 0.91924674,\n",
              "        0.91180376, 0.90983356, 0.91334396, 0.96592639, 0.96826048,\n",
              "        0.96868443, 0.91476779, 0.91776033, 0.91751862, 0.91562208,\n",
              "        0.91277265, 0.91276369]),\n",
              " 'split1_test_score': array([0.9582712 , 0.96078693, 0.96142381, 0.91242315, 0.91391786,\n",
              "        0.91630497, 0.91055739, 0.9116902 , 0.91085005, 0.96506843,\n",
              "        0.96779402, 0.96751982, 0.9156896 , 0.91634554, 0.91584618,\n",
              "        0.90833407, 0.90909793, 0.90923072, 0.96515244, 0.96746277,\n",
              "        0.96859695, 0.91500614, 0.91607626, 0.91475168, 0.89963462,\n",
              "        0.90817671, 0.90668922]),\n",
              " 'split2_test_score': array([0.95697577, 0.95818277, 0.95967868, 0.91741551, 0.91520372,\n",
              "        0.9188546 , 0.91263485, 0.91351365, 0.91429649, 0.96441089,\n",
              "        0.96632333, 0.96680551, 0.91523106, 0.91858718, 0.91829677,\n",
              "        0.90937526, 0.91168605, 0.91202387, 0.96426956, 0.96625446,\n",
              "        0.96719279, 0.91553012, 0.91809025, 0.91818762, 0.909393  ,\n",
              "        0.91199154, 0.91333783]),\n",
              " 'split3_test_score': array([0.95824487, 0.95866145, 0.96040272, 0.91414066, 0.91633956,\n",
              "        0.91833408, 0.90993006, 0.9133027 , 0.9142965 , 0.96514178,\n",
              "        0.96727749, 0.96818994, 0.91528111, 0.91735942, 0.91904957,\n",
              "        0.90972937, 0.91410442, 0.91081242, 0.96503404, 0.96784142,\n",
              "        0.96770718, 0.91505562, 0.91744918, 0.91629162, 0.91599591,\n",
              "        0.91560647, 0.9145512 ]),\n",
              " 'split4_test_score': array([0.95865961, 0.95898864, 0.9590082 , 0.91657072, 0.91732746,\n",
              "        0.91851802, 0.91357075, 0.91321283, 0.91322988, 0.96423832,\n",
              "        0.96629354, 0.96649031, 0.91633585, 0.91818339, 0.91801777,\n",
              "        0.91444775, 0.91243948, 0.9173341 , 0.96469706, 0.9663138 ,\n",
              "        0.96674261, 0.91538952, 0.91632184, 0.91835691, 0.91537716,\n",
              "        0.91412347, 0.9151723 ]),\n",
              " 'std_fit_time': array([0.39979135, 2.10478913, 1.62483178, 1.03742608, 1.19820879,\n",
              "        1.25449674, 0.40034986, 1.9699382 , 3.75764894, 1.22356519,\n",
              "        2.20807536, 1.93372504, 0.82818211, 1.35714776, 1.73442662,\n",
              "        0.63969375, 1.80693047, 3.17850747, 0.53260807, 1.50115355,\n",
              "        4.00402046, 1.13728483, 2.54809338, 0.72650266, 0.77195053,\n",
              "        0.79200687, 8.40519785]),\n",
              " 'std_score_time': array([0.01094466, 0.01356064, 0.00813183, 0.00130513, 0.00148554,\n",
              "        0.00217323, 0.00070437, 0.00270805, 0.0047438 , 0.01198407,\n",
              "        0.00812554, 0.01678852, 0.00313753, 0.00107717, 0.00222873,\n",
              "        0.00110749, 0.00417595, 0.00289477, 0.01028767, 0.02212864,\n",
              "        0.01872227, 0.00098378, 0.00455988, 0.00205384, 0.00334585,\n",
              "        0.00279185, 0.02633161]),\n",
              " 'std_test_score': array([0.00062558, 0.00091378, 0.00085864, 0.00177744, 0.00122022,\n",
              "        0.00127535, 0.00360445, 0.00071032, 0.00137086, 0.00081931,\n",
              "        0.00082327, 0.00088528, 0.00123956, 0.00086316, 0.00121174,\n",
              "        0.00217032, 0.00180135, 0.00275069, 0.00054894, 0.00081006,\n",
              "        0.0007631 , 0.00027479, 0.00079803, 0.00134723, 0.00627738,\n",
              "        0.00250214, 0.00302936])}"
            ]
          },
          "metadata": {
            "tags": []
          },
          "execution_count": 18
        }
      ]
    },
    {
      "cell_type": "code",
      "metadata": {
        "id": "5Kv3pfc7lzkV",
        "colab_type": "code",
        "outputId": "2e2697e4-2059-4def-ab9a-f86292b6d9a4",
        "colab": {
          "base_uri": "https://localhost:8080/",
          "height": 34
        }
      },
      "source": [
        "random_search3.best_score_"
      ],
      "execution_count": 0,
      "outputs": [
        {
          "output_type": "execute_result",
          "data": {
            "text/plain": [
              "0.9677847951160079"
            ]
          },
          "metadata": {
            "tags": []
          },
          "execution_count": 19
        }
      ]
    },
    {
      "cell_type": "code",
      "metadata": {
        "id": "LSWAIDpwl6d3",
        "colab_type": "code",
        "outputId": "46186e6b-6afb-4b6f-e12d-ffc9552b7aff",
        "colab": {
          "base_uri": "https://localhost:8080/",
          "height": 136
        }
      },
      "source": [
        "random_search3.best_estimator_"
      ],
      "execution_count": 0,
      "outputs": [
        {
          "output_type": "execute_result",
          "data": {
            "text/plain": [
              "ExtraTreesRegressor(bootstrap=False, ccp_alpha=0.0, criterion='mse',\n",
              "                    max_depth=1000, max_features='auto', max_leaf_nodes=None,\n",
              "                    max_samples=None, min_impurity_decrease=0.0,\n",
              "                    min_impurity_split=None, min_samples_leaf=1,\n",
              "                    min_samples_split=0.0001, min_weight_fraction_leaf=0.0,\n",
              "                    n_estimators=15, n_jobs=None, oob_score=False,\n",
              "                    random_state=None, verbose=0, warm_start=False)"
            ]
          },
          "metadata": {
            "tags": []
          },
          "execution_count": 20
        }
      ]
    },
    {
      "cell_type": "markdown",
      "metadata": {
        "id": "U6greTm1lnHE",
        "colab_type": "text"
      },
      "source": [
        "#### h2o ####"
      ]
    },
    {
      "cell_type": "markdown",
      "metadata": {
        "id": "bBuNvsRJUbQZ",
        "colab_type": "text"
      },
      "source": [
        "### Extreme Boosting ###"
      ]
    },
    {
      "cell_type": "code",
      "metadata": {
        "id": "71jGgTGATjJx",
        "colab_type": "code",
        "colab": {}
      },
      "source": [
        "train_set_x_sample = train_set_x.sample(n=100, random_state=42)"
      ],
      "execution_count": 0,
      "outputs": []
    },
    {
      "cell_type": "code",
      "metadata": {
        "id": "gh08_3X3mrOP",
        "colab_type": "code",
        "colab": {}
      },
      "source": [
        "train_set_y_sample = train_set_y.sample(n=100, random_state=42)"
      ],
      "execution_count": 0,
      "outputs": []
    },
    {
      "cell_type": "code",
      "metadata": {
        "id": "fgy325FQmszi",
        "colab_type": "code",
        "outputId": "3543e1d9-6e86-4006-d5d8-d19edd297043",
        "colab": {
          "base_uri": "https://localhost:8080/",
          "height": 537
        }
      },
      "source": [
        "import h2o\n",
        "h2o.init(nthreads = -1)\n"
      ],
      "execution_count": 0,
      "outputs": [
        {
          "output_type": "stream",
          "text": [
            "Checking whether there is an H2O instance running at http://localhost:54321 ..... not found.\n",
            "Attempting to start a local H2O server...\n",
            "  Java Version: openjdk version \"11.0.6\" 2020-01-14; OpenJDK Runtime Environment (build 11.0.6+10-post-Ubuntu-1ubuntu118.04.1); OpenJDK 64-Bit Server VM (build 11.0.6+10-post-Ubuntu-1ubuntu118.04.1, mixed mode, sharing)\n",
            "  Starting server from /usr/local/lib/python3.6/dist-packages/h2o/backend/bin/h2o.jar\n",
            "  Ice root: /tmp/tmpddu74yrs\n",
            "  JVM stdout: /tmp/tmpddu74yrs/h2o_unknownUser_started_from_python.out\n",
            "  JVM stderr: /tmp/tmpddu74yrs/h2o_unknownUser_started_from_python.err\n",
            "  Server is running at http://127.0.0.1:54321\n",
            "Connecting to H2O server at http://127.0.0.1:54321 ... successful.\n"
          ],
          "name": "stdout"
        },
        {
          "output_type": "display_data",
          "data": {
            "text/html": [
              "<div style=\"overflow:auto\"><table style=\"width:50%\"><tr><td>H2O cluster uptime:</td>\n",
              "<td>02 secs</td></tr>\n",
              "<tr><td>H2O cluster timezone:</td>\n",
              "<td>Etc/UTC</td></tr>\n",
              "<tr><td>H2O data parsing timezone:</td>\n",
              "<td>UTC</td></tr>\n",
              "<tr><td>H2O cluster version:</td>\n",
              "<td>3.28.0.3</td></tr>\n",
              "<tr><td>H2O cluster version age:</td>\n",
              "<td>1 month and 1 day </td></tr>\n",
              "<tr><td>H2O cluster name:</td>\n",
              "<td>H2O_from_python_unknownUser_uo0b17</td></tr>\n",
              "<tr><td>H2O cluster total nodes:</td>\n",
              "<td>1</td></tr>\n",
              "<tr><td>H2O cluster free memory:</td>\n",
              "<td>2.938 Gb</td></tr>\n",
              "<tr><td>H2O cluster total cores:</td>\n",
              "<td>2</td></tr>\n",
              "<tr><td>H2O cluster allowed cores:</td>\n",
              "<td>2</td></tr>\n",
              "<tr><td>H2O cluster status:</td>\n",
              "<td>accepting new members, healthy</td></tr>\n",
              "<tr><td>H2O connection url:</td>\n",
              "<td>http://127.0.0.1:54321</td></tr>\n",
              "<tr><td>H2O connection proxy:</td>\n",
              "<td>{'http': None, 'https': None}</td></tr>\n",
              "<tr><td>H2O internal security:</td>\n",
              "<td>False</td></tr>\n",
              "<tr><td>H2O API Extensions:</td>\n",
              "<td>Amazon S3, XGBoost, Algos, AutoML, Core V3, TargetEncoder, Core V4</td></tr>\n",
              "<tr><td>Python version:</td>\n",
              "<td>3.6.9 final</td></tr></table></div>"
            ],
            "text/plain": [
              "--------------------------  ------------------------------------------------------------------\n",
              "H2O cluster uptime:         02 secs\n",
              "H2O cluster timezone:       Etc/UTC\n",
              "H2O data parsing timezone:  UTC\n",
              "H2O cluster version:        3.28.0.3\n",
              "H2O cluster version age:    1 month and 1 day\n",
              "H2O cluster name:           H2O_from_python_unknownUser_uo0b17\n",
              "H2O cluster total nodes:    1\n",
              "H2O cluster free memory:    2.938 Gb\n",
              "H2O cluster total cores:    2\n",
              "H2O cluster allowed cores:  2\n",
              "H2O cluster status:         accepting new members, healthy\n",
              "H2O connection url:         http://127.0.0.1:54321\n",
              "H2O connection proxy:       {'http': None, 'https': None}\n",
              "H2O internal security:      False\n",
              "H2O API Extensions:         Amazon S3, XGBoost, Algos, AutoML, Core V3, TargetEncoder, Core V4\n",
              "Python version:             3.6.9 final\n",
              "--------------------------  ------------------------------------------------------------------"
            ]
          },
          "metadata": {
            "tags": []
          }
        }
      ]
    },
    {
      "cell_type": "code",
      "metadata": {
        "id": "txwJx_Fbw6bd",
        "colab_type": "code",
        "outputId": "c3c67dd8-95f0-42fc-e2c4-dfb5950bd036",
        "colab": {
          "base_uri": "https://localhost:8080/",
          "height": 35
        }
      },
      "source": [
        "train = pd.DataFrame(train_set_x).join(train_set_y)\n",
        "train = h2o.H2OFrame(train)"
      ],
      "execution_count": 0,
      "outputs": [
        {
          "output_type": "stream",
          "text": [
            "Parse progress: |█████████████████████████████████████████████████████████| 100%\n"
          ],
          "name": "stdout"
        }
      ]
    },
    {
      "cell_type": "code",
      "metadata": {
        "id": "flJCrLz_w_I7",
        "colab_type": "code",
        "colab": {}
      },
      "source": [
        "x = train.col_names[:-1]    \n",
        "y = train.col_names[-1]  \n",
        "\n",
        "from h2o.grid.grid_search import H2OGridSearch"
      ],
      "execution_count": 0,
      "outputs": []
    },
    {
      "cell_type": "code",
      "metadata": {
        "id": "hhAJP0AExFlC",
        "colab_type": "code",
        "colab": {}
      },
      "source": [
        "from h2o.estimators.xgboost import H2OXGBoostEstimator\n"
      ],
      "execution_count": 0,
      "outputs": []
    },
    {
      "cell_type": "code",
      "metadata": {
        "id": "0TgH7T54xKEL",
        "colab_type": "code",
        "colab": {}
      },
      "source": [
        "xgb = H2OXGBoostEstimator(model_id='xgb_h2o', seed=1, categorical_encoding='enum', nfolds=5, keep_cross_validation_models=True, backend=\"gpu\")"
      ],
      "execution_count": 0,
      "outputs": []
    },
    {
      "cell_type": "code",
      "metadata": {
        "id": "-KXRclNekxOz",
        "colab_type": "code",
        "outputId": "bf3a7d2f-1f4f-4a48-fad1-8cbeb14a5b80",
        "colab": {
          "base_uri": "https://localhost:8080/",
          "height": 340
        }
      },
      "source": [
        "xgb.train(x=x, y=y, training_frame=train)"
      ],
      "execution_count": 0,
      "outputs": [
        {
          "output_type": "stream",
          "text": [
            "xgboost Model Build progress: |███████████████ (cancelled)\n"
          ],
          "name": "stdout"
        },
        {
          "output_type": "error",
          "ename": "H2OJobCancelled",
          "evalue": "ignored",
          "traceback": [
            "\u001b[0;31m---------------------------------------------------------------------------\u001b[0m",
            "\u001b[0;31mH2OJobCancelled\u001b[0m                           Traceback (most recent call last)",
            "\u001b[0;32m<ipython-input-19-b01127ace248>\u001b[0m in \u001b[0;36m<module>\u001b[0;34m()\u001b[0m\n\u001b[0;32m----> 1\u001b[0;31m \u001b[0mxgb\u001b[0m\u001b[0;34m.\u001b[0m\u001b[0mtrain\u001b[0m\u001b[0;34m(\u001b[0m\u001b[0mx\u001b[0m\u001b[0;34m=\u001b[0m\u001b[0mx\u001b[0m\u001b[0;34m,\u001b[0m \u001b[0my\u001b[0m\u001b[0;34m=\u001b[0m\u001b[0my\u001b[0m\u001b[0;34m,\u001b[0m \u001b[0mtraining_frame\u001b[0m\u001b[0;34m=\u001b[0m\u001b[0mtrain\u001b[0m\u001b[0;34m)\u001b[0m\u001b[0;34m\u001b[0m\u001b[0;34m\u001b[0m\u001b[0m\n\u001b[0m",
            "\u001b[0;32m/usr/local/lib/python3.6/dist-packages/h2o/estimators/estimator_base.py\u001b[0m in \u001b[0;36mtrain\u001b[0;34m(self, x, y, training_frame, offset_column, fold_column, weights_column, validation_frame, max_runtime_secs, ignored_columns, model_id, verbose)\u001b[0m\n\u001b[1;32m    110\u001b[0m         self._train(x=x, y=y, training_frame=training_frame, offset_column=offset_column, fold_column=fold_column,\n\u001b[1;32m    111\u001b[0m                     \u001b[0mweights_column\u001b[0m\u001b[0;34m=\u001b[0m\u001b[0mweights_column\u001b[0m\u001b[0;34m,\u001b[0m \u001b[0mvalidation_frame\u001b[0m\u001b[0;34m=\u001b[0m\u001b[0mvalidation_frame\u001b[0m\u001b[0;34m,\u001b[0m \u001b[0mmax_runtime_secs\u001b[0m\u001b[0;34m=\u001b[0m\u001b[0mmax_runtime_secs\u001b[0m\u001b[0;34m,\u001b[0m\u001b[0;34m\u001b[0m\u001b[0;34m\u001b[0m\u001b[0m\n\u001b[0;32m--> 112\u001b[0;31m                     ignored_columns=ignored_columns, model_id=model_id, verbose=verbose)\n\u001b[0m\u001b[1;32m    113\u001b[0m \u001b[0;34m\u001b[0m\u001b[0m\n\u001b[1;32m    114\u001b[0m \u001b[0;34m\u001b[0m\u001b[0m\n",
            "\u001b[0;32m/usr/local/lib/python3.6/dist-packages/h2o/estimators/estimator_base.py\u001b[0m in \u001b[0;36m_train\u001b[0;34m(self, x, y, training_frame, offset_column, fold_column, weights_column, validation_frame, max_runtime_secs, ignored_columns, model_id, verbose, extend_parms_fn)\u001b[0m\n\u001b[1;32m    263\u001b[0m             \u001b[0;32mreturn\u001b[0m\u001b[0;34m\u001b[0m\u001b[0;34m\u001b[0m\u001b[0m\n\u001b[1;32m    264\u001b[0m \u001b[0;34m\u001b[0m\u001b[0m\n\u001b[0;32m--> 265\u001b[0;31m         \u001b[0mmodel\u001b[0m\u001b[0;34m.\u001b[0m\u001b[0mpoll\u001b[0m\u001b[0;34m(\u001b[0m\u001b[0mpoll_updates\u001b[0m\u001b[0;34m=\u001b[0m\u001b[0mself\u001b[0m\u001b[0;34m.\u001b[0m\u001b[0m_print_model_scoring_history\u001b[0m \u001b[0;32mif\u001b[0m \u001b[0mverbose\u001b[0m \u001b[0;32melse\u001b[0m \u001b[0;32mNone\u001b[0m\u001b[0;34m)\u001b[0m\u001b[0;34m\u001b[0m\u001b[0;34m\u001b[0m\u001b[0m\n\u001b[0m\u001b[1;32m    266\u001b[0m         \u001b[0mmodel_json\u001b[0m \u001b[0;34m=\u001b[0m \u001b[0mh2o\u001b[0m\u001b[0;34m.\u001b[0m\u001b[0mapi\u001b[0m\u001b[0;34m(\u001b[0m\u001b[0;34m\"GET /%d/Models/%s\"\u001b[0m \u001b[0;34m%\u001b[0m \u001b[0;34m(\u001b[0m\u001b[0mrest_ver\u001b[0m\u001b[0;34m,\u001b[0m \u001b[0mmodel\u001b[0m\u001b[0;34m.\u001b[0m\u001b[0mdest_key\u001b[0m\u001b[0;34m)\u001b[0m\u001b[0;34m)\u001b[0m\u001b[0;34m[\u001b[0m\u001b[0;34m\"models\"\u001b[0m\u001b[0;34m]\u001b[0m\u001b[0;34m[\u001b[0m\u001b[0;36m0\u001b[0m\u001b[0;34m]\u001b[0m\u001b[0;34m\u001b[0m\u001b[0;34m\u001b[0m\u001b[0m\n\u001b[1;32m    267\u001b[0m         \u001b[0mself\u001b[0m\u001b[0;34m.\u001b[0m\u001b[0m_resolve_model\u001b[0m\u001b[0;34m(\u001b[0m\u001b[0mmodel\u001b[0m\u001b[0;34m.\u001b[0m\u001b[0mdest_key\u001b[0m\u001b[0;34m,\u001b[0m \u001b[0mmodel_json\u001b[0m\u001b[0;34m)\u001b[0m\u001b[0;34m\u001b[0m\u001b[0;34m\u001b[0m\u001b[0m\n",
            "\u001b[0;32m/usr/local/lib/python3.6/dist-packages/h2o/job.py\u001b[0m in \u001b[0;36mpoll\u001b[0;34m(self, poll_updates)\u001b[0m\n\u001b[1;32m     72\u001b[0m         \u001b[0;31m# check if failed... and politely print relevant message\u001b[0m\u001b[0;34m\u001b[0m\u001b[0;34m\u001b[0m\u001b[0;34m\u001b[0m\u001b[0m\n\u001b[1;32m     73\u001b[0m         \u001b[0;32mif\u001b[0m \u001b[0mself\u001b[0m\u001b[0;34m.\u001b[0m\u001b[0mstatus\u001b[0m \u001b[0;34m==\u001b[0m \u001b[0;34m\"CANCELLED\"\u001b[0m\u001b[0;34m:\u001b[0m\u001b[0;34m\u001b[0m\u001b[0;34m\u001b[0m\u001b[0m\n\u001b[0;32m---> 74\u001b[0;31m             \u001b[0;32mraise\u001b[0m \u001b[0mH2OJobCancelled\u001b[0m\u001b[0;34m(\u001b[0m\u001b[0;34m\"Job<%s> was cancelled by the user.\"\u001b[0m \u001b[0;34m%\u001b[0m \u001b[0mself\u001b[0m\u001b[0;34m.\u001b[0m\u001b[0mjob_key\u001b[0m\u001b[0;34m)\u001b[0m\u001b[0;34m\u001b[0m\u001b[0;34m\u001b[0m\u001b[0m\n\u001b[0m\u001b[1;32m     75\u001b[0m         \u001b[0;32mif\u001b[0m \u001b[0mself\u001b[0m\u001b[0;34m.\u001b[0m\u001b[0mstatus\u001b[0m \u001b[0;34m==\u001b[0m \u001b[0;34m\"FAILED\"\u001b[0m\u001b[0;34m:\u001b[0m\u001b[0;34m\u001b[0m\u001b[0;34m\u001b[0m\u001b[0m\n\u001b[1;32m     76\u001b[0m             \u001b[0;32mif\u001b[0m \u001b[0;34m(\u001b[0m\u001b[0misinstance\u001b[0m\u001b[0;34m(\u001b[0m\u001b[0mself\u001b[0m\u001b[0;34m.\u001b[0m\u001b[0mjob\u001b[0m\u001b[0;34m,\u001b[0m \u001b[0mdict\u001b[0m\u001b[0;34m)\u001b[0m\u001b[0;34m)\u001b[0m \u001b[0;32mand\u001b[0m \u001b[0;34m(\u001b[0m\u001b[0;34m\"stacktrace\"\u001b[0m \u001b[0;32min\u001b[0m \u001b[0mlist\u001b[0m\u001b[0;34m(\u001b[0m\u001b[0mself\u001b[0m\u001b[0;34m.\u001b[0m\u001b[0mjob\u001b[0m\u001b[0;34m)\u001b[0m\u001b[0;34m)\u001b[0m\u001b[0;34m:\u001b[0m\u001b[0;34m\u001b[0m\u001b[0;34m\u001b[0m\u001b[0m\n",
            "\u001b[0;31mH2OJobCancelled\u001b[0m: Job<$03017f00000132d4ffffffff$_abf4b1b351d3e8f29d1761b923694f0e> was cancelled by the user."
          ]
        }
      ]
    },
    {
      "cell_type": "markdown",
      "metadata": {
        "id": "WSPhpBt7JwGf",
        "colab_type": "text"
      },
      "source": [
        "#### sklearn ####"
      ]
    },
    {
      "cell_type": "code",
      "metadata": {
        "id": "eddN9EmRlZFN",
        "colab_type": "code",
        "outputId": "dd67cd36-2be4-4747-9aad-b712367d7667",
        "colab": {
          "base_uri": "https://localhost:8080/",
          "height": 71
        }
      },
      "source": [
        "!pip3 install xgboost\n"
      ],
      "execution_count": 0,
      "outputs": [
        {
          "output_type": "stream",
          "text": [
            "Requirement already satisfied: xgboost in /usr/local/lib/python3.6/dist-packages (0.90)\n",
            "Requirement already satisfied: numpy in /usr/local/lib/python3.6/dist-packages (from xgboost) (1.17.5)\n",
            "Requirement already satisfied: scipy in /usr/local/lib/python3.6/dist-packages (from xgboost) (1.4.1)\n"
          ],
          "name": "stdout"
        }
      ]
    },
    {
      "cell_type": "code",
      "metadata": {
        "id": "vdYqoCbwFu0A",
        "colab_type": "code",
        "colab": {}
      },
      "source": [
        "from sklearn.model_selection import RandomizedSearchCV\n",
        "from scipy.stats import randint as sp_randint\n",
        "from scipy.stats import uniform"
      ],
      "execution_count": 0,
      "outputs": []
    },
    {
      "cell_type": "code",
      "metadata": {
        "id": "9KQUEgogJ4Z-",
        "colab_type": "code",
        "colab": {}
      },
      "source": [
        "import xgboost as xgb\n",
        "from sklearn.metrics import r2_score\n"
      ],
      "execution_count": 0,
      "outputs": []
    },
    {
      "cell_type": "code",
      "metadata": {
        "id": "mTb3M3WNSvvP",
        "colab_type": "code",
        "colab": {}
      },
      "source": [
        "parameter_grid3 = {\n",
        "\n",
        "  'min_child_weight': sp_randint(8,20),\n",
        "  'max_depth':  sp_randint(16,30),\n",
        "  'gamma': uniform(0.5, 0.8),\n",
        "  'subsample': uniform(0.6, 0.4),\n",
        " 'colsample_bytree': uniform(0.6,0.4),\n",
        "\n",
        "}"
      ],
      "execution_count": 0,
      "outputs": []
    },
    {
      "cell_type": "code",
      "metadata": {
        "id": "CHZRKIOrTDAm",
        "colab_type": "code",
        "colab": {}
      },
      "source": [
        "xgb_model3 = xgb.XGBRegressor(tree_method='gpu_hist', objective=\"reg:squarederror\")"
      ],
      "execution_count": 0,
      "outputs": []
    },
    {
      "cell_type": "code",
      "metadata": {
        "id": "BKoVZyHOTEJv",
        "colab_type": "code",
        "colab": {}
      },
      "source": [
        "random_search_xgb3 = RandomizedSearchCV(xgb_model3, parameter_grid3, cv=5, random_state=42, verbose=10, error_score='raise', n_iter=10)"
      ],
      "execution_count": 0,
      "outputs": []
    },
    {
      "cell_type": "code",
      "metadata": {
        "id": "ShlYRzlnTIyd",
        "colab_type": "code",
        "outputId": "52c410cc-ab9e-45ad-914e-91c92e133a9a",
        "colab": {
          "base_uri": "https://localhost:8080/",
          "height": 1000
        }
      },
      "source": [
        "random_search_xgb3.fit(train_set_x_prepared,train_set_y)\n",
        "\n",
        "result = pd.concat([pd.DataFrame(random_search_xgb3.cv_results_[\"params\"]),pd.DataFrame(random_search_xgb3.cv_results_[\"mean_test_score\"], columns=[\"Score\"])],axis=1)\n",
        "result.sort_values(by=\"Score\", ascending=False, inplace=True)\n",
        "result"
      ],
      "execution_count": 0,
      "outputs": [
        {
          "output_type": "stream",
          "text": [
            "Fitting 5 folds for each of 10 candidates, totalling 50 fits\n",
            "[CV] colsample_bytree=0.749816047538945, gamma=1.2605714451279328, max_depth=26, min_child_weight=15, subsample=0.8394633936788146 \n"
          ],
          "name": "stdout"
        },
        {
          "output_type": "stream",
          "text": [
            "[Parallel(n_jobs=1)]: Using backend SequentialBackend with 1 concurrent workers.\n"
          ],
          "name": "stderr"
        },
        {
          "output_type": "stream",
          "text": [
            "[CV]  colsample_bytree=0.749816047538945, gamma=1.2605714451279328, max_depth=26, min_child_weight=15, subsample=0.8394633936788146, score=0.970, total= 1.6min\n",
            "[CV] colsample_bytree=0.749816047538945, gamma=1.2605714451279328, max_depth=26, min_child_weight=15, subsample=0.8394633936788146 \n"
          ],
          "name": "stdout"
        },
        {
          "output_type": "stream",
          "text": [
            "[Parallel(n_jobs=1)]: Done   1 out of   1 | elapsed:  1.6min remaining:    0.0s\n"
          ],
          "name": "stderr"
        },
        {
          "output_type": "stream",
          "text": [
            "[CV]  colsample_bytree=0.749816047538945, gamma=1.2605714451279328, max_depth=26, min_child_weight=15, subsample=0.8394633936788146, score=0.970, total= 1.6min\n",
            "[CV] colsample_bytree=0.749816047538945, gamma=1.2605714451279328, max_depth=26, min_child_weight=15, subsample=0.8394633936788146 \n"
          ],
          "name": "stdout"
        },
        {
          "output_type": "stream",
          "text": [
            "[Parallel(n_jobs=1)]: Done   2 out of   2 | elapsed:  3.3min remaining:    0.0s\n"
          ],
          "name": "stderr"
        },
        {
          "output_type": "stream",
          "text": [
            "[CV]  colsample_bytree=0.749816047538945, gamma=1.2605714451279328, max_depth=26, min_child_weight=15, subsample=0.8394633936788146, score=0.969, total= 1.6min\n",
            "[CV] colsample_bytree=0.749816047538945, gamma=1.2605714451279328, max_depth=26, min_child_weight=15, subsample=0.8394633936788146 \n"
          ],
          "name": "stdout"
        },
        {
          "output_type": "stream",
          "text": [
            "[Parallel(n_jobs=1)]: Done   3 out of   3 | elapsed:  4.9min remaining:    0.0s\n"
          ],
          "name": "stderr"
        },
        {
          "output_type": "stream",
          "text": [
            "[CV]  colsample_bytree=0.749816047538945, gamma=1.2605714451279328, max_depth=26, min_child_weight=15, subsample=0.8394633936788146, score=0.971, total= 1.6min\n",
            "[CV] colsample_bytree=0.749816047538945, gamma=1.2605714451279328, max_depth=26, min_child_weight=15, subsample=0.8394633936788146 \n"
          ],
          "name": "stdout"
        },
        {
          "output_type": "stream",
          "text": [
            "[Parallel(n_jobs=1)]: Done   4 out of   4 | elapsed:  6.5min remaining:    0.0s\n"
          ],
          "name": "stderr"
        },
        {
          "output_type": "stream",
          "text": [
            "[CV]  colsample_bytree=0.749816047538945, gamma=1.2605714451279328, max_depth=26, min_child_weight=15, subsample=0.8394633936788146, score=0.972, total= 1.6min\n",
            "[CV] colsample_bytree=0.6624074561769746, gamma=0.6247956162689621, max_depth=26, min_child_weight=18, subsample=0.9464704583099741 \n"
          ],
          "name": "stdout"
        },
        {
          "output_type": "stream",
          "text": [
            "[Parallel(n_jobs=1)]: Done   5 out of   5 | elapsed:  8.1min remaining:    0.0s\n"
          ],
          "name": "stderr"
        },
        {
          "output_type": "stream",
          "text": [
            "[CV]  colsample_bytree=0.6624074561769746, gamma=0.6247956162689621, max_depth=26, min_child_weight=18, subsample=0.9464704583099741, score=0.971, total= 1.7min\n",
            "[CV] colsample_bytree=0.6624074561769746, gamma=0.6247956162689621, max_depth=26, min_child_weight=18, subsample=0.9464704583099741 \n"
          ],
          "name": "stdout"
        },
        {
          "output_type": "stream",
          "text": [
            "[Parallel(n_jobs=1)]: Done   6 out of   6 | elapsed:  9.8min remaining:    0.0s\n"
          ],
          "name": "stderr"
        },
        {
          "output_type": "stream",
          "text": [
            "[CV]  colsample_bytree=0.6624074561769746, gamma=0.6247956162689621, max_depth=26, min_child_weight=18, subsample=0.9464704583099741, score=0.970, total= 1.6min\n",
            "[CV] colsample_bytree=0.6624074561769746, gamma=0.6247956162689621, max_depth=26, min_child_weight=18, subsample=0.9464704583099741 \n"
          ],
          "name": "stdout"
        },
        {
          "output_type": "stream",
          "text": [
            "[Parallel(n_jobs=1)]: Done   7 out of   7 | elapsed: 11.4min remaining:    0.0s\n"
          ],
          "name": "stderr"
        },
        {
          "output_type": "stream",
          "text": [
            "[CV]  colsample_bytree=0.6624074561769746, gamma=0.6247956162689621, max_depth=26, min_child_weight=18, subsample=0.9464704583099741, score=0.969, total= 1.6min\n",
            "[CV] colsample_bytree=0.6624074561769746, gamma=0.6247956162689621, max_depth=26, min_child_weight=18, subsample=0.9464704583099741 \n"
          ],
          "name": "stdout"
        },
        {
          "output_type": "stream",
          "text": [
            "[Parallel(n_jobs=1)]: Done   8 out of   8 | elapsed: 13.1min remaining:    0.0s\n"
          ],
          "name": "stderr"
        },
        {
          "output_type": "stream",
          "text": [
            "[CV]  colsample_bytree=0.6624074561769746, gamma=0.6247956162689621, max_depth=26, min_child_weight=18, subsample=0.9464704583099741, score=0.971, total= 1.7min\n",
            "[CV] colsample_bytree=0.6624074561769746, gamma=0.6247956162689621, max_depth=26, min_child_weight=18, subsample=0.9464704583099741 \n"
          ],
          "name": "stdout"
        },
        {
          "output_type": "stream",
          "text": [
            "[Parallel(n_jobs=1)]: Done   9 out of   9 | elapsed: 14.7min remaining:    0.0s\n"
          ],
          "name": "stderr"
        },
        {
          "output_type": "stream",
          "text": [
            "[CV]  colsample_bytree=0.6624074561769746, gamma=0.6247956162689621, max_depth=26, min_child_weight=18, subsample=0.9464704583099741, score=0.972, total= 1.6min\n",
            "[CV] colsample_bytree=0.8404460046972835, gamma=1.0664580622368365, max_depth=21, min_child_weight=12, subsample=0.9879639408647978 \n",
            "[CV]  colsample_bytree=0.8404460046972835, gamma=1.0664580622368365, max_depth=21, min_child_weight=12, subsample=0.9879639408647978, score=0.970, total=  39.0s\n",
            "[CV] colsample_bytree=0.8404460046972835, gamma=1.0664580622368365, max_depth=21, min_child_weight=12, subsample=0.9879639408647978 \n",
            "[CV]  colsample_bytree=0.8404460046972835, gamma=1.0664580622368365, max_depth=21, min_child_weight=12, subsample=0.9879639408647978, score=0.970, total=  39.1s\n",
            "[CV] colsample_bytree=0.8404460046972835, gamma=1.0664580622368365, max_depth=21, min_child_weight=12, subsample=0.9879639408647978 \n",
            "[CV]  colsample_bytree=0.8404460046972835, gamma=1.0664580622368365, max_depth=21, min_child_weight=12, subsample=0.9879639408647978, score=0.968, total=  38.7s\n",
            "[CV] colsample_bytree=0.8404460046972835, gamma=1.0664580622368365, max_depth=21, min_child_weight=12, subsample=0.9879639408647978 \n",
            "[CV]  colsample_bytree=0.8404460046972835, gamma=1.0664580622368365, max_depth=21, min_child_weight=12, subsample=0.9879639408647978, score=0.970, total=  39.3s\n",
            "[CV] colsample_bytree=0.8404460046972835, gamma=1.0664580622368365, max_depth=21, min_child_weight=12, subsample=0.9879639408647978 \n",
            "[CV]  colsample_bytree=0.8404460046972835, gamma=1.0664580622368365, max_depth=21, min_child_weight=12, subsample=0.9879639408647978, score=0.971, total=  38.7s\n",
            "[CV] colsample_bytree=0.9329770563201687, gamma=0.6698712885426209, max_depth=27, min_child_weight=12, subsample=0.8469926038510867 \n",
            "[CV]  colsample_bytree=0.9329770563201687, gamma=0.6698712885426209, max_depth=27, min_child_weight=12, subsample=0.8469926038510867, score=0.970, total= 2.7min\n",
            "[CV] colsample_bytree=0.9329770563201687, gamma=0.6698712885426209, max_depth=27, min_child_weight=12, subsample=0.8469926038510867 \n",
            "[CV]  colsample_bytree=0.9329770563201687, gamma=0.6698712885426209, max_depth=27, min_child_weight=12, subsample=0.8469926038510867, score=0.969, total= 2.7min\n",
            "[CV] colsample_bytree=0.9329770563201687, gamma=0.6698712885426209, max_depth=27, min_child_weight=12, subsample=0.8469926038510867 \n",
            "[CV]  colsample_bytree=0.9329770563201687, gamma=0.6698712885426209, max_depth=27, min_child_weight=12, subsample=0.8469926038510867, score=0.968, total= 2.7min\n",
            "[CV] colsample_bytree=0.9329770563201687, gamma=0.6698712885426209, max_depth=27, min_child_weight=12, subsample=0.8469926038510867 \n",
            "[CV]  colsample_bytree=0.9329770563201687, gamma=0.6698712885426209, max_depth=27, min_child_weight=12, subsample=0.8469926038510867, score=0.970, total= 2.7min\n",
            "[CV] colsample_bytree=0.9329770563201687, gamma=0.6698712885426209, max_depth=27, min_child_weight=12, subsample=0.8469926038510867 \n",
            "[CV]  colsample_bytree=0.9329770563201687, gamma=0.6698712885426209, max_depth=27, min_child_weight=12, subsample=0.8469926038510867, score=0.971, total= 2.7min\n",
            "[CV] colsample_bytree=0.8446612641953124, gamma=0.505653044175774, max_depth=24, min_child_weight=8, subsample=0.8099098641033556 \n",
            "[CV]  colsample_bytree=0.8446612641953124, gamma=0.505653044175774, max_depth=24, min_child_weight=8, subsample=0.8099098641033556, score=0.970, total= 1.1min\n",
            "[CV] colsample_bytree=0.8446612641953124, gamma=0.505653044175774, max_depth=24, min_child_weight=8, subsample=0.8099098641033556 \n",
            "[CV]  colsample_bytree=0.8446612641953124, gamma=0.505653044175774, max_depth=24, min_child_weight=8, subsample=0.8099098641033556, score=0.969, total= 1.2min\n",
            "[CV] colsample_bytree=0.8446612641953124, gamma=0.505653044175774, max_depth=24, min_child_weight=8, subsample=0.8099098641033556 \n",
            "[CV]  colsample_bytree=0.8446612641953124, gamma=0.505653044175774, max_depth=24, min_child_weight=8, subsample=0.8099098641033556, score=0.968, total= 1.2min\n",
            "[CV] colsample_bytree=0.8446612641953124, gamma=0.505653044175774, max_depth=24, min_child_weight=8, subsample=0.8099098641033556 \n",
            "[CV]  colsample_bytree=0.8446612641953124, gamma=0.505653044175774, max_depth=24, min_child_weight=8, subsample=0.8099098641033556, score=0.970, total= 1.2min\n",
            "[CV] colsample_bytree=0.8446612641953124, gamma=0.505653044175774, max_depth=24, min_child_weight=8, subsample=0.8099098641033556 \n",
            "[CV]  colsample_bytree=0.8446612641953124, gamma=0.505653044175774, max_depth=24, min_child_weight=8, subsample=0.8099098641033556, score=0.971, total= 1.2min\n",
            "[CV] colsample_bytree=0.7599443886861021, gamma=0.5373325305708924, max_depth=27, min_child_weight=10, subsample=0.7529847965068651 \n",
            "[CV]  colsample_bytree=0.7599443886861021, gamma=0.5373325305708924, max_depth=27, min_child_weight=10, subsample=0.7529847965068651, score=0.970, total= 2.8min\n",
            "[CV] colsample_bytree=0.7599443886861021, gamma=0.5373325305708924, max_depth=27, min_child_weight=10, subsample=0.7529847965068651 \n",
            "[CV]  colsample_bytree=0.7599443886861021, gamma=0.5373325305708924, max_depth=27, min_child_weight=10, subsample=0.7529847965068651, score=0.970, total= 2.8min\n",
            "[CV] colsample_bytree=0.7599443886861021, gamma=0.5373325305708924, max_depth=27, min_child_weight=10, subsample=0.7529847965068651 \n",
            "[CV]  colsample_bytree=0.7599443886861021, gamma=0.5373325305708924, max_depth=27, min_child_weight=10, subsample=0.7529847965068651, score=0.969, total= 2.7min\n",
            "[CV] colsample_bytree=0.7599443886861021, gamma=0.5373325305708924, max_depth=27, min_child_weight=10, subsample=0.7529847965068651 \n",
            "[CV]  colsample_bytree=0.7599443886861021, gamma=0.5373325305708924, max_depth=27, min_child_weight=10, subsample=0.7529847965068651, score=0.970, total= 2.8min\n",
            "[CV] colsample_bytree=0.7599443886861021, gamma=0.5373325305708924, max_depth=27, min_child_weight=10, subsample=0.7529847965068651 \n",
            "[CV]  colsample_bytree=0.7599443886861021, gamma=0.5373325305708924, max_depth=27, min_child_weight=10, subsample=0.7529847965068651, score=0.972, total= 2.8min\n",
            "[CV] colsample_bytree=0.9932923543227152, gamma=0.873410314598384, max_depth=20, min_child_weight=10, subsample=0.8721230154351118 \n",
            "[CV]  colsample_bytree=0.9932923543227152, gamma=0.873410314598384, max_depth=20, min_child_weight=10, subsample=0.8721230154351118, score=0.970, total=  36.0s\n",
            "[CV] colsample_bytree=0.9932923543227152, gamma=0.873410314598384, max_depth=20, min_child_weight=10, subsample=0.8721230154351118 \n",
            "[CV]  colsample_bytree=0.9932923543227152, gamma=0.873410314598384, max_depth=20, min_child_weight=10, subsample=0.8721230154351118, score=0.969, total=  36.0s\n",
            "[CV] colsample_bytree=0.9932923543227152, gamma=0.873410314598384, max_depth=20, min_child_weight=10, subsample=0.8721230154351118 \n",
            "[CV]  colsample_bytree=0.9932923543227152, gamma=0.873410314598384, max_depth=20, min_child_weight=10, subsample=0.8721230154351118, score=0.967, total=  36.7s\n",
            "[CV] colsample_bytree=0.9932923543227152, gamma=0.873410314598384, max_depth=20, min_child_weight=10, subsample=0.8721230154351118 \n",
            "[CV]  colsample_bytree=0.9932923543227152, gamma=0.873410314598384, max_depth=20, min_child_weight=10, subsample=0.8721230154351118, score=0.970, total=  36.1s\n",
            "[CV] colsample_bytree=0.9932923543227152, gamma=0.873410314598384, max_depth=20, min_child_weight=10, subsample=0.8721230154351118 \n",
            "[CV]  colsample_bytree=0.9932923543227152, gamma=0.873410314598384, max_depth=20, min_child_weight=10, subsample=0.8721230154351118, score=0.971, total=  36.3s\n",
            "[CV] colsample_bytree=0.7801997007878172, gamma=0.5106119689278932, max_depth=24, min_child_weight=19, subsample=0.8253152871382157 \n",
            "[CV]  colsample_bytree=0.7801997007878172, gamma=0.5106119689278932, max_depth=24, min_child_weight=19, subsample=0.8253152871382157, score=0.970, total=  45.3s\n",
            "[CV] colsample_bytree=0.7801997007878172, gamma=0.5106119689278932, max_depth=24, min_child_weight=19, subsample=0.8253152871382157 \n",
            "[CV]  colsample_bytree=0.7801997007878172, gamma=0.5106119689278932, max_depth=24, min_child_weight=19, subsample=0.8253152871382157, score=0.969, total=  45.1s\n",
            "[CV] colsample_bytree=0.7801997007878172, gamma=0.5106119689278932, max_depth=24, min_child_weight=19, subsample=0.8253152871382157 \n",
            "[CV]  colsample_bytree=0.7801997007878172, gamma=0.5106119689278932, max_depth=24, min_child_weight=19, subsample=0.8253152871382157, score=0.968, total=  45.2s\n",
            "[CV] colsample_bytree=0.7801997007878172, gamma=0.5106119689278932, max_depth=24, min_child_weight=19, subsample=0.8253152871382157 \n",
            "[CV]  colsample_bytree=0.7801997007878172, gamma=0.5106119689278932, max_depth=24, min_child_weight=19, subsample=0.8253152871382157, score=0.970, total=  45.6s\n",
            "[CV] colsample_bytree=0.7801997007878172, gamma=0.5106119689278932, max_depth=24, min_child_weight=19, subsample=0.8253152871382157 \n",
            "[CV]  colsample_bytree=0.7801997007878172, gamma=0.5106119689278932, max_depth=24, min_child_weight=19, subsample=0.8253152871382157, score=0.972, total=  45.7s\n",
            "[CV] colsample_bytree=0.7541666010159664, gamma=0.5127730017761714, max_depth=17, min_child_weight=11, subsample=0.6964101864104046 \n",
            "[CV]  colsample_bytree=0.7541666010159664, gamma=0.5127730017761714, max_depth=17, min_child_weight=11, subsample=0.6964101864104046, score=0.970, total=  21.3s\n",
            "[CV] colsample_bytree=0.7541666010159664, gamma=0.5127730017761714, max_depth=17, min_child_weight=11, subsample=0.6964101864104046 \n",
            "[CV]  colsample_bytree=0.7541666010159664, gamma=0.5127730017761714, max_depth=17, min_child_weight=11, subsample=0.6964101864104046, score=0.969, total=  21.2s\n",
            "[CV] colsample_bytree=0.7541666010159664, gamma=0.5127730017761714, max_depth=17, min_child_weight=11, subsample=0.6964101864104046 \n",
            "[CV]  colsample_bytree=0.7541666010159664, gamma=0.5127730017761714, max_depth=17, min_child_weight=11, subsample=0.6964101864104046, score=0.968, total=  21.1s\n",
            "[CV] colsample_bytree=0.7541666010159664, gamma=0.5127730017761714, max_depth=17, min_child_weight=11, subsample=0.6964101864104046 \n",
            "[CV]  colsample_bytree=0.7541666010159664, gamma=0.5127730017761714, max_depth=17, min_child_weight=11, subsample=0.6964101864104046, score=0.970, total=  21.6s\n",
            "[CV] colsample_bytree=0.7541666010159664, gamma=0.5127730017761714, max_depth=17, min_child_weight=11, subsample=0.6964101864104046 \n",
            "[CV]  colsample_bytree=0.7541666010159664, gamma=0.5127730017761714, max_depth=17, min_child_weight=11, subsample=0.6964101864104046, score=0.971, total=  21.3s\n",
            "[CV] colsample_bytree=0.8733054075301833, gamma=0.9879973262260968, max_depth=23, min_child_weight=10, subsample=0.9637281608315128 \n",
            "[CV]  colsample_bytree=0.8733054075301833, gamma=0.9879973262260968, max_depth=23, min_child_weight=10, subsample=0.9637281608315128, score=0.969, total=  55.6s\n",
            "[CV] colsample_bytree=0.8733054075301833, gamma=0.9879973262260968, max_depth=23, min_child_weight=10, subsample=0.9637281608315128 \n",
            "[CV]  colsample_bytree=0.8733054075301833, gamma=0.9879973262260968, max_depth=23, min_child_weight=10, subsample=0.9637281608315128, score=0.969, total=  55.2s\n",
            "[CV] colsample_bytree=0.8733054075301833, gamma=0.9879973262260968, max_depth=23, min_child_weight=10, subsample=0.9637281608315128 \n",
            "[CV]  colsample_bytree=0.8733054075301833, gamma=0.9879973262260968, max_depth=23, min_child_weight=10, subsample=0.9637281608315128, score=0.968, total=  55.1s\n",
            "[CV] colsample_bytree=0.8733054075301833, gamma=0.9879973262260968, max_depth=23, min_child_weight=10, subsample=0.9637281608315128 \n",
            "[CV]  colsample_bytree=0.8733054075301833, gamma=0.9879973262260968, max_depth=23, min_child_weight=10, subsample=0.9637281608315128, score=0.970, total=  55.3s\n",
            "[CV] colsample_bytree=0.8733054075301833, gamma=0.9879973262260968, max_depth=23, min_child_weight=10, subsample=0.9637281608315128 \n",
            "[CV]  colsample_bytree=0.8733054075301833, gamma=0.9879973262260968, max_depth=23, min_child_weight=10, subsample=0.9637281608315128, score=0.971, total=  55.4s\n"
          ],
          "name": "stdout"
        },
        {
          "output_type": "stream",
          "text": [
            "[Parallel(n_jobs=1)]: Done  50 out of  50 | elapsed: 66.0min finished\n"
          ],
          "name": "stderr"
        },
        {
          "output_type": "execute_result",
          "data": {
            "text/html": [
              "<div>\n",
              "<style scoped>\n",
              "    .dataframe tbody tr th:only-of-type {\n",
              "        vertical-align: middle;\n",
              "    }\n",
              "\n",
              "    .dataframe tbody tr th {\n",
              "        vertical-align: top;\n",
              "    }\n",
              "\n",
              "    .dataframe thead th {\n",
              "        text-align: right;\n",
              "    }\n",
              "</style>\n",
              "<table border=\"1\" class=\"dataframe\">\n",
              "  <thead>\n",
              "    <tr style=\"text-align: right;\">\n",
              "      <th></th>\n",
              "      <th>colsample_bytree</th>\n",
              "      <th>gamma</th>\n",
              "      <th>max_depth</th>\n",
              "      <th>min_child_weight</th>\n",
              "      <th>subsample</th>\n",
              "      <th>Score</th>\n",
              "    </tr>\n",
              "  </thead>\n",
              "  <tbody>\n",
              "    <tr>\n",
              "      <th>1</th>\n",
              "      <td>0.662407</td>\n",
              "      <td>0.624796</td>\n",
              "      <td>26</td>\n",
              "      <td>18</td>\n",
              "      <td>0.946470</td>\n",
              "      <td>0.970552</td>\n",
              "    </tr>\n",
              "    <tr>\n",
              "      <th>0</th>\n",
              "      <td>0.749816</td>\n",
              "      <td>1.260571</td>\n",
              "      <td>26</td>\n",
              "      <td>15</td>\n",
              "      <td>0.839463</td>\n",
              "      <td>0.970287</td>\n",
              "    </tr>\n",
              "    <tr>\n",
              "      <th>5</th>\n",
              "      <td>0.759944</td>\n",
              "      <td>0.537333</td>\n",
              "      <td>27</td>\n",
              "      <td>10</td>\n",
              "      <td>0.752985</td>\n",
              "      <td>0.970082</td>\n",
              "    </tr>\n",
              "    <tr>\n",
              "      <th>7</th>\n",
              "      <td>0.780200</td>\n",
              "      <td>0.510612</td>\n",
              "      <td>24</td>\n",
              "      <td>19</td>\n",
              "      <td>0.825315</td>\n",
              "      <td>0.969962</td>\n",
              "    </tr>\n",
              "    <tr>\n",
              "      <th>2</th>\n",
              "      <td>0.840446</td>\n",
              "      <td>1.066458</td>\n",
              "      <td>21</td>\n",
              "      <td>12</td>\n",
              "      <td>0.987964</td>\n",
              "      <td>0.969723</td>\n",
              "    </tr>\n",
              "    <tr>\n",
              "      <th>8</th>\n",
              "      <td>0.754167</td>\n",
              "      <td>0.512773</td>\n",
              "      <td>17</td>\n",
              "      <td>11</td>\n",
              "      <td>0.696410</td>\n",
              "      <td>0.969654</td>\n",
              "    </tr>\n",
              "    <tr>\n",
              "      <th>4</th>\n",
              "      <td>0.844661</td>\n",
              "      <td>0.505653</td>\n",
              "      <td>24</td>\n",
              "      <td>8</td>\n",
              "      <td>0.809910</td>\n",
              "      <td>0.969652</td>\n",
              "    </tr>\n",
              "    <tr>\n",
              "      <th>3</th>\n",
              "      <td>0.932977</td>\n",
              "      <td>0.669871</td>\n",
              "      <td>27</td>\n",
              "      <td>12</td>\n",
              "      <td>0.846993</td>\n",
              "      <td>0.969542</td>\n",
              "    </tr>\n",
              "    <tr>\n",
              "      <th>6</th>\n",
              "      <td>0.993292</td>\n",
              "      <td>0.873410</td>\n",
              "      <td>20</td>\n",
              "      <td>10</td>\n",
              "      <td>0.872123</td>\n",
              "      <td>0.969339</td>\n",
              "    </tr>\n",
              "    <tr>\n",
              "      <th>9</th>\n",
              "      <td>0.873305</td>\n",
              "      <td>0.987997</td>\n",
              "      <td>23</td>\n",
              "      <td>10</td>\n",
              "      <td>0.963728</td>\n",
              "      <td>0.969326</td>\n",
              "    </tr>\n",
              "  </tbody>\n",
              "</table>\n",
              "</div>"
            ],
            "text/plain": [
              "   colsample_bytree     gamma  max_depth  min_child_weight  subsample     Score\n",
              "1          0.662407  0.624796         26                18   0.946470  0.970552\n",
              "0          0.749816  1.260571         26                15   0.839463  0.970287\n",
              "5          0.759944  0.537333         27                10   0.752985  0.970082\n",
              "7          0.780200  0.510612         24                19   0.825315  0.969962\n",
              "2          0.840446  1.066458         21                12   0.987964  0.969723\n",
              "8          0.754167  0.512773         17                11   0.696410  0.969654\n",
              "4          0.844661  0.505653         24                 8   0.809910  0.969652\n",
              "3          0.932977  0.669871         27                12   0.846993  0.969542\n",
              "6          0.993292  0.873410         20                10   0.872123  0.969339\n",
              "9          0.873305  0.987997         23                10   0.963728  0.969326"
            ]
          },
          "metadata": {
            "tags": []
          },
          "execution_count": 21
        }
      ]
    },
    {
      "cell_type": "markdown",
      "metadata": {
        "id": "UH6Jyovd9ILp",
        "colab_type": "text"
      },
      "source": [
        "#Plots#"
      ]
    },
    {
      "cell_type": "markdown",
      "metadata": {
        "id": "Vvoteo549KqI",
        "colab_type": "text"
      },
      "source": [
        "## Plot of prediction vs actual ##"
      ]
    },
    {
      "cell_type": "code",
      "metadata": {
        "id": "gM40jQDp9HxK",
        "colab_type": "code",
        "colab": {}
      },
      "source": [
        "# run a dummy model"
      ],
      "execution_count": 0,
      "outputs": []
    },
    {
      "cell_type": "code",
      "metadata": {
        "id": "lsJN_9A1_R-c",
        "colab_type": "code",
        "colab": {}
      },
      "source": [
        "train_set_x_sample = train_set_x_reduced_pd.sample(n=100, random_state=42)\n",
        "train_set_y_sample = train_set_y.sample(n=100, random_state=42)\n",
        "test_set_x_sample = test_set_x_reduced_pd.sample(n=100, random_state=42)\n",
        "test_set_y_sample = test_set_y.sample(n=100, random_state=42)\n",
        "\n"
      ],
      "execution_count": 0,
      "outputs": []
    },
    {
      "cell_type": "code",
      "metadata": {
        "id": "uIRqpCp09PfL",
        "colab_type": "code",
        "outputId": "bf45a2c8-3850-4d57-d830-4d7ec99f871f",
        "colab": {
          "base_uri": "https://localhost:8080/",
          "height": 163
        }
      },
      "source": [
        "from sklearn.ensemble import ExtraTreesRegressor\n",
        "\n",
        "extra_trees = ExtraTreesRegressor(n_jobs=-1, verbose=1, n_estimators=10)\n",
        "extra_trees = extra_trees.fit(train_set_x_sample, train_set_y_sample)\n",
        "\n",
        "extra_trees.score(test_set_x_sample,test_set_y_sample)"
      ],
      "execution_count": 0,
      "outputs": [
        {
          "output_type": "stream",
          "text": [
            "/usr/local/lib/python3.6/dist-packages/ipykernel_launcher.py:4: DataConversionWarning: A column-vector y was passed when a 1d array was expected. Please change the shape of y to (n_samples,), for example using ravel().\n",
            "  after removing the cwd from sys.path.\n",
            "[Parallel(n_jobs=-1)]: Using backend ThreadingBackend with 2 concurrent workers.\n",
            "[Parallel(n_jobs=-1)]: Done  10 out of  10 | elapsed:    0.0s finished\n",
            "[Parallel(n_jobs=2)]: Using backend ThreadingBackend with 2 concurrent workers.\n",
            "[Parallel(n_jobs=2)]: Done  10 out of  10 | elapsed:    0.0s finished\n"
          ],
          "name": "stderr"
        },
        {
          "output_type": "execute_result",
          "data": {
            "text/plain": [
              "0.8237365134391085"
            ]
          },
          "metadata": {
            "tags": []
          },
          "execution_count": 16
        }
      ]
    },
    {
      "cell_type": "code",
      "metadata": {
        "id": "VMo1yaLTM0hG",
        "colab_type": "code",
        "outputId": "1beabf1e-b895-4e04-b012-d3b6ed40fba8",
        "colab": {
          "base_uri": "https://localhost:8080/",
          "height": 53
        }
      },
      "source": [
        "r2 = round(extra_trees.score(test_set_x_sample,test_set_y_sample),2)"
      ],
      "execution_count": 0,
      "outputs": [
        {
          "output_type": "stream",
          "text": [
            "[Parallel(n_jobs=2)]: Using backend ThreadingBackend with 2 concurrent workers.\n",
            "[Parallel(n_jobs=2)]: Done  10 out of  10 | elapsed:    0.0s finished\n"
          ],
          "name": "stderr"
        }
      ]
    },
    {
      "cell_type": "code",
      "metadata": {
        "id": "6b3cbT0IM-tI",
        "colab_type": "code",
        "outputId": "4cfe4315-6be0-4c22-a044-364c5080982d",
        "colab": {
          "base_uri": "https://localhost:8080/",
          "height": 35
        }
      },
      "source": [
        "r2"
      ],
      "execution_count": 0,
      "outputs": [
        {
          "output_type": "execute_result",
          "data": {
            "text/plain": [
              "0.82"
            ]
          },
          "metadata": {
            "tags": []
          },
          "execution_count": 100
        }
      ]
    },
    {
      "cell_type": "code",
      "metadata": {
        "id": "7P7Ug9_h_hu7",
        "colab_type": "code",
        "colab": {}
      },
      "source": [
        "#plot a graph\n",
        "\n",
        "import matplotlib.pyplot as plt"
      ],
      "execution_count": 0,
      "outputs": []
    },
    {
      "cell_type": "code",
      "metadata": {
        "id": "xQ_L9CS7AN4Q",
        "colab_type": "code",
        "outputId": "ed27e8cd-38fe-428d-d988-5f0d331c4161",
        "colab": {
          "base_uri": "https://localhost:8080/",
          "height": 53
        }
      },
      "source": [
        "test_x_predict = extra_trees.predict(test_set_x_sample)"
      ],
      "execution_count": 0,
      "outputs": [
        {
          "output_type": "stream",
          "text": [
            "[Parallel(n_jobs=2)]: Using backend ThreadingBackend with 2 concurrent workers.\n",
            "[Parallel(n_jobs=2)]: Done  10 out of  10 | elapsed:    0.0s finished\n"
          ],
          "name": "stderr"
        }
      ]
    },
    {
      "cell_type": "code",
      "metadata": {
        "id": "ChXohLOlFNmS",
        "colab_type": "code",
        "colab": {}
      },
      "source": [
        "max_x = test_set_y_sample['maize_a_2010'].max()\n",
        "max_y = max(test_x_predict)\n",
        "\n",
        "max_axis = max(max_x, max_y) + 1000 #adds a bit to the max axis so that we can see the max point easily"
      ],
      "execution_count": 0,
      "outputs": []
    },
    {
      "cell_type": "code",
      "metadata": {
        "id": "9HMXLeKiJCuZ",
        "colab_type": "code",
        "colab": {}
      },
      "source": [
        "#equation of line for prediction vs real values\n",
        "\n",
        "from sklearn.linear_model import LinearRegression as lin_reg\n",
        "\n",
        "model = lin_reg(fit_intercept=True)\n",
        "\n",
        "model.fit(test_set_y_sample,test_x_predict)\n",
        "\n",
        "intercept = model.intercept_\n",
        "gradient = model.coef_\n",
        "\n",
        "intercept_round = round(intercept,0)\n",
        "gradient_round = round(gradient[0],2)"
      ],
      "execution_count": 0,
      "outputs": []
    },
    {
      "cell_type": "code",
      "metadata": {
        "id": "HBnF2_Fy__RU",
        "colab_type": "code",
        "outputId": "3d072a83-7639-485e-eae2-625b2a938db5",
        "colab": {
          "base_uri": "https://localhost:8080/",
          "height": 331
        }
      },
      "source": [
        "plt.style.use('seaborn-pastel')\n",
        "\n",
        "fig, ax = plt.subplots(1,2, figsize=(8,4))\n",
        "\n",
        "major_ticks = np.arange(0, max_axis, 4000)\n",
        "minor_ticks = np.arange(0, max_axis, 2000)\n",
        "\n",
        "\n",
        "ax[0].scatter(x=test_set_y_sample, y=test_x_predict, alpha=0.3, c='b', marker=\".\")\n",
        "ax[0].set_xlim([0,max_axis])\n",
        "ax[0].set_xticks(major_ticks)\n",
        "ax[0].set_xticks(minor_ticks, minor=True)\n",
        "\n",
        "\n",
        "ax[0].set_ylim([0,max_axis])\n",
        "ax[0].set_yticks(major_ticks)\n",
        "ax[0].set_yticks(minor_ticks, minor=True)\n",
        "\n",
        "ax[0].grid(which='minor', color='whitesmoke')\n",
        "ax[0].grid(which='major', color='gainsboro')\n",
        "ax[0].set_axisbelow\n",
        "\n",
        "ax[0].tick_params(labelsize=8.5)\n",
        "\n",
        "\n",
        "ax[0].set_aspect('equal', 'box')\n",
        "\n",
        "ax[0].plot(np.arange(0,max_axis,10),np.arange(0,max_axis,10),linewidth=1, linestyle='dashed', c='r') #1:1 line\n",
        "\n",
        "#specify linear regression line (line through predictions vs truth)\n",
        "\n",
        "x = np.arange(0,max_axis,10)\n",
        "y = gradient*x + intercept\n",
        "ax[0].plot(x,y,linewidth=1) \n",
        "\n",
        "\n",
        "ax[0].set(xlabel= 'Actual', ylabel = 'Predicted')\n",
        "ax[0].text(x=2000, y=16000, s=f'R2={r2}\\ny={gradient_round}x+{intercept_round}', ma = 'left', size=10)\n",
        "\n",
        "plt.suptitle('Yield', fontsize=14, fontweight='bold')\n",
        "\n",
        "plt.show()\n",
        "\n",
        "\n",
        "\n",
        "\n"
      ],
      "execution_count": 0,
      "outputs": [
        {
          "output_type": "display_data",
          "data": {
            "image/png": "[encoded data removed]",
            "text/plain": [
              "<Figure size 640x320 with 2 Axes>"
            ]
          },
          "metadata": {
            "tags": []
          }
        }
      ]
    },
    {
      "cell_type": "code",
      "metadata": {
        "id": "byixm9D8X_m_",
        "colab_type": "code",
        "colab": {}
      },
      "source": [
        "#residuals\n",
        "\n",
        "residual = test_x_predict-test_set_y_sample.to_numpy().reshape(1,-1)\n",
        "\n",
        "max_residual = residual.max()\n",
        "min_residual = residual.min()"
      ],
      "execution_count": 0,
      "outputs": []
    },
    {
      "cell_type": "code",
      "metadata": {
        "id": "fT_sAUSMXx-s",
        "colab_type": "code",
        "outputId": "cf4f238e-80e0-43f1-8ead-37f59103e8a0",
        "colab": {
          "base_uri": "https://localhost:8080/",
          "height": 627
        }
      },
      "source": [
        "plt.style.use('seaborn-pastel')\n",
        "\n",
        "fig, ax = plt.subplots(2,2, figsize=(8,8))\n",
        "\n",
        "major_ticks = np.arange(0, max_axis, 4000)\n",
        "minor_ticks = np.arange(0, max_axis, 2000)\n",
        "\n",
        "\n",
        "ax[0,0].scatter(x=test_set_y_sample, y=test_x_predict, alpha=0.3, c='b', marker=\".\")\n",
        "ax[0,0].set_xlim([0,max_axis])\n",
        "ax[0,0].set_xticks(major_ticks)\n",
        "ax[0,0].set_xticks(minor_ticks, minor=True)\n",
        "\n",
        "\n",
        "ax[0,0].set_ylim([0,max_axis])\n",
        "ax[0,0].set_yticks(major_ticks)\n",
        "ax[0,0].set_yticks(minor_ticks, minor=True)\n",
        "\n",
        "ax[0,0].grid(which='minor', color='whitesmoke')\n",
        "ax[0,0].grid(which='major', color='gainsboro')\n",
        "ax[0,0].set_axisbelow\n",
        "\n",
        "ax[0,0].tick_params(labelsize=8.5)\n",
        "\n",
        "\n",
        "ax[0,0].set_aspect('equal', 'box')\n",
        "\n",
        "ax[0,0].plot(np.arange(0,max_axis,10),np.arange(0,max_axis,10),linewidth=1, linestyle='dashed', c='r') #1:1 line\n",
        "\n",
        "#specify linear regression line (line through predictions vs truth)\n",
        "\n",
        "x = np.arange(0,max_axis,10)\n",
        "y = gradient*x + intercept\n",
        "ax[0,0].plot(x,y,linewidth=1) \n",
        "\n",
        "\n",
        "ax[0,0].set(xlabel= 'Actual', ylabel = 'Predicted')\n",
        "ax[0,0].text(x=2000, y=16000, s=f'R2={r2}\\ny={gradient_round}x+{intercept_round}', ma = 'left', size=10)\n",
        "\n",
        "####################################################################\n",
        "##Plot for Residuals##\n",
        "\n",
        "#major_ticks_2 = np.arange(0, max_axis, 4000)\n",
        "#minor_ticks_2 = np.arange(0, max_axis, 2000)\n",
        "\n",
        "\n",
        "ax[1,0].scatter(x=test_set_y_sample, y=residual, alpha=0.3, c='b', marker=\".\")\n",
        "ax[1,0].set_xlim([0,max_axis])\n",
        "ax[1,0].set_xticks(major_ticks)\n",
        "ax[1,0].set_xticks(minor_ticks, minor=True)\n",
        "\n",
        "\n",
        "ax[1,0].set_ylim([min_residual,max_residual])\n",
        "#ax[1,0].set_yticks(major_ticks)\n",
        "#ax[1,0].set_yticks(minor_ticks, minor=True)\n",
        "\n",
        "ax[1,0].grid(which='minor', color='whitesmoke')\n",
        "ax[1,0].grid(which='major', color='gainsboro')\n",
        "ax[1,0].set_axisbelow\n",
        "\n",
        "ax[1,0].tick_params(labelsize=8.5)\n",
        "\n",
        "\n",
        "ax[1,0].set(xlabel= 'Actual Yield', ylabel = 'Residual')\n",
        "\n",
        "plt.suptitle('Yield', fontsize=14, fontweight='bold')\n",
        "\n",
        "plt.show()\n",
        "\n",
        "#put units"
      ],
      "execution_count": 0,
      "outputs": [
        {
          "output_type": "display_data",
          "data": {
            "image/png": "[encoded data removed]",
            "text/plain": [
              "<Figure size 640x640 with 4 Axes>"
            ]
          },
          "metadata": {
            "tags": []
          }
        }
      ]
    },
    {
      "cell_type": "markdown",
      "metadata": {
        "id": "CCPrNKOQeZwA",
        "colab_type": "text"
      },
      "source": [
        "#How to save models#"
      ]
    },
    {
      "cell_type": "markdown",
      "metadata": {
        "id": "4dRNfOrEftwu",
        "colab_type": "text"
      },
      "source": [
        "## sklearn stuff ##"
      ]
    },
    {
      "cell_type": "code",
      "metadata": {
        "id": "9nixqXwIAI-t",
        "colab_type": "code",
        "outputId": "e6a60350-09bd-45d6-899b-baa1d59d7a38",
        "colab": {
          "base_uri": "https://localhost:8080/",
          "height": 163
        }
      },
      "source": [
        "# run a dummy model\n",
        "train_set_x_sample = train_set_x_reduced_pd.sample(n=100, random_state=42)\n",
        "train_set_y_sample = train_set_y.sample(n=100, random_state=42)\n",
        "test_set_x_sample = test_set_x_reduced_pd.sample(n=100, random_state=42)\n",
        "test_set_y_sample = test_set_y.sample(n=100, random_state=42)\n",
        "\n",
        "from sklearn.ensemble import ExtraTreesRegressor\n",
        "\n",
        "extra_trees = ExtraTreesRegressor(n_jobs=-1, verbose=1, n_estimators=10)\n",
        "extra_trees = extra_trees.fit(train_set_x_sample, train_set_y_sample)\n",
        "\n",
        "extra_trees.score(test_set_x_sample,test_set_y_sample)"
      ],
      "execution_count": 0,
      "outputs": [
        {
          "output_type": "stream",
          "text": [
            "/usr/local/lib/python3.6/dist-packages/ipykernel_launcher.py:9: DataConversionWarning: A column-vector y was passed when a 1d array was expected. Please change the shape of y to (n_samples,), for example using ravel().\n",
            "  if __name__ == '__main__':\n",
            "[Parallel(n_jobs=-1)]: Using backend ThreadingBackend with 2 concurrent workers.\n",
            "[Parallel(n_jobs=-1)]: Done  10 out of  10 | elapsed:    0.0s finished\n",
            "[Parallel(n_jobs=2)]: Using backend ThreadingBackend with 2 concurrent workers.\n",
            "[Parallel(n_jobs=2)]: Done  10 out of  10 | elapsed:    0.0s finished\n"
          ],
          "name": "stderr"
        },
        {
          "output_type": "execute_result",
          "data": {
            "text/plain": [
              "0.8291296650591842"
            ]
          },
          "metadata": {
            "tags": []
          },
          "execution_count": 208
        }
      ]
    },
    {
      "cell_type": "code",
      "metadata": {
        "id": "h0qf-_7Cegpx",
        "colab_type": "code",
        "colab": {}
      },
      "source": [
        "import joblib"
      ],
      "execution_count": 0,
      "outputs": []
    },
    {
      "cell_type": "code",
      "metadata": {
        "id": "69GB2JuDep0f",
        "colab_type": "code",
        "outputId": "bc5afdd7-b451-4532-92cc-1587b88ea324",
        "colab": {
          "base_uri": "https://localhost:8080/",
          "height": 35
        }
      },
      "source": [
        "joblib.dump(extra_trees, 'extra_trees_test.pkl')"
      ],
      "execution_count": 0,
      "outputs": [
        {
          "output_type": "execute_result",
          "data": {
            "text/plain": [
              "['extra_trees_test.pkl']"
            ]
          },
          "metadata": {
            "tags": []
          },
          "execution_count": 212
        }
      ]
    },
    {
      "cell_type": "code",
      "metadata": {
        "id": "E9ilv30lfB-4",
        "colab_type": "code",
        "colab": {}
      },
      "source": [
        "model = joblib.load('extra_trees_test.pkl')"
      ],
      "execution_count": 0,
      "outputs": []
    },
    {
      "cell_type": "code",
      "metadata": {
        "id": "dEcOqwwBflsm",
        "colab_type": "code",
        "outputId": "932e54ab-ef3b-422e-ac20-7ba84bc3262b",
        "colab": {
          "base_uri": "https://localhost:8080/",
          "height": 359
        }
      },
      "source": [
        "model.predict(test_set_x_sample)"
      ],
      "execution_count": 0,
      "outputs": [
        {
          "output_type": "stream",
          "text": [
            "[Parallel(n_jobs=2)]: Using backend ThreadingBackend with 2 concurrent workers.\n",
            "[Parallel(n_jobs=2)]: Done  10 out of  10 | elapsed:    0.0s finished\n"
          ],
          "name": "stderr"
        },
        {
          "output_type": "execute_result",
          "data": {
            "text/plain": [
              "array([ 3374.63,  4283.42,   782.38,  7896.23,  5718.05,  5397.93,\n",
              "        1016.44,  5259.22,  2679.11,   945.45,  1238.13,  9304.16,\n",
              "        2862.22,  2620.7 ,  1292.96,  1038.32,  1302.21,   647.1 ,\n",
              "        2803.32,  1193.97,  4137.71,  6297.94,  3975.29,  4365.15,\n",
              "        3459.3 ,  5557.22,  1080.7 ,  6395.19,   665.75,  3210.03,\n",
              "        9356.27,  6362.44,  6478.66,  5990.05,  1486.14,  4597.41,\n",
              "        2028.09,  2236.77,  9817.07,   684.74,  1839.32,  2056.55,\n",
              "         775.69,  1296.91,  3091.59,  9537.31,  1084.45,  4550.12,\n",
              "         767.35,  1223.5 ,  4841.72,  8503.96,  1554.68,  5364.23,\n",
              "        4104.62,  1225.38,  1954.3 ,  1228.37,  2674.91,  6083.8 ,\n",
              "       11109.99,  6003.01,  4340.49,  9609.14,  2878.21,  1057.99,\n",
              "        1287.13,  6359.15,  1879.11,  5042.12,  3847.57,  9305.2 ,\n",
              "         828.39,  1186.15,  2913.78,  5314.59,  9320.2 ,  9941.81,\n",
              "         964.55,  6559.19,  2866.  ,  9703.68,  5533.11,  2877.04,\n",
              "        2469.43,  8969.96,  2611.86,  1600.82,   772.92, 11114.47,\n",
              "         787.1 ,  4694.9 ,  1199.78,  1297.08,  4855.35,  1311.53,\n",
              "        2797.79,  2729.38,  3894.65,  2856.16])"
            ]
          },
          "metadata": {
            "tags": []
          },
          "execution_count": 214
        }
      ]
    },
    {
      "cell_type": "markdown",
      "metadata": {
        "id": "51isVedDfwdj",
        "colab_type": "text"
      },
      "source": [
        "### xgboost ###"
      ]
    },
    {
      "cell_type": "code",
      "metadata": {
        "id": "yaBoUXAhf4vg",
        "colab_type": "code",
        "colab": {}
      },
      "source": [
        "import xgboost as xgb"
      ],
      "execution_count": 0,
      "outputs": []
    },
    {
      "cell_type": "code",
      "metadata": {
        "id": "NxYKWET9frmW",
        "colab_type": "code",
        "colab": {}
      },
      "source": [
        "xgb_model = xgb.XGBRegressor(objective=\"reg:squarederror\")"
      ],
      "execution_count": 0,
      "outputs": []
    },
    {
      "cell_type": "code",
      "metadata": {
        "id": "UGR7zIiLf3th",
        "colab_type": "code",
        "outputId": "e1424dca-7e48-4e9b-9bbb-157012b2df1b",
        "colab": {
          "base_uri": "https://localhost:8080/",
          "height": 143
        }
      },
      "source": [
        "xgb_model.fit(train_set_x_sample, train_set_y_sample)"
      ],
      "execution_count": 0,
      "outputs": [
        {
          "output_type": "execute_result",
          "data": {
            "text/plain": [
              "XGBRegressor(base_score=0.5, booster='gbtree', colsample_bylevel=1,\n",
              "             colsample_bynode=1, colsample_bytree=1, gamma=0,\n",
              "             importance_type='gain', learning_rate=0.1, max_delta_step=0,\n",
              "             max_depth=3, min_child_weight=1, missing=None, n_estimators=100,\n",
              "             n_jobs=1, nthread=None, objective='reg:squarederror',\n",
              "             random_state=0, reg_alpha=0, reg_lambda=1, scale_pos_weight=1,\n",
              "             seed=None, silent=None, subsample=1, verbosity=1)"
            ]
          },
          "metadata": {
            "tags": []
          },
          "execution_count": 222
        }
      ]
    },
    {
      "cell_type": "code",
      "metadata": {
        "id": "CX5lUNHI9DrD",
        "colab_type": "code",
        "colab": {}
      },
      "source": [
        "import joblib"
      ],
      "execution_count": 0,
      "outputs": []
    },
    {
      "cell_type": "code",
      "metadata": {
        "id": "V-wbNG4DgA7h",
        "colab_type": "code",
        "outputId": "f92bb0c1-1d3e-4fdb-bad0-260a9dad86a2",
        "colab": {
          "base_uri": "https://localhost:8080/",
          "height": 35
        }
      },
      "source": [
        "joblib.dump(xgb_model, 'xgb_test.pkl')"
      ],
      "execution_count": 0,
      "outputs": [
        {
          "output_type": "execute_result",
          "data": {
            "text/plain": [
              "['xgb_test.pkl']"
            ]
          },
          "metadata": {
            "tags": []
          },
          "execution_count": 223
        }
      ]
    },
    {
      "cell_type": "code",
      "metadata": {
        "id": "TAAmJNgggL16",
        "colab_type": "code",
        "colab": {}
      },
      "source": [
        "model = joblib.load('xgb_test.pkl')"
      ],
      "execution_count": 0,
      "outputs": []
    },
    {
      "cell_type": "code",
      "metadata": {
        "id": "vHWvWRb6gO63",
        "colab_type": "code",
        "outputId": "ae851d53-6e03-495f-9b9c-991c7535a466",
        "colab": {
          "base_uri": "https://localhost:8080/",
          "height": 395
        }
      },
      "source": [
        "model.predict(test_set_x_sample)"
      ],
      "execution_count": 0,
      "outputs": [
        {
          "output_type": "execute_result",
          "data": {
            "text/plain": [
              "array([ 2916.071  ,  4785.481  ,   781.84766,  8108.412  ,  5797.8613 ,\n",
              "        5644.642  ,  1374.9579 ,  5103.5063 ,  2572.9634 ,  1652.803  ,\n",
              "        1521.5322 ,  9203.719  ,  2750.3691 ,  2950.903  ,  1401.2427 ,\n",
              "         632.09283,  1159.1826 ,   703.75604,  2117.4104 ,   940.5816 ,\n",
              "        3603.631  ,  5930.0005 ,  4117.5796 ,  4703.8325 ,  3257.0186 ,\n",
              "        5765.243  ,  1041.748  ,  5795.2925 ,   734.2943 ,  3658.1077 ,\n",
              "        8800.001  ,  5999.551  ,  5673.2627 ,  5613.5566 ,  1402.8262 ,\n",
              "        3974.388  ,  2518.8499 ,  2053.026  , 10799.958  ,   775.85504,\n",
              "        1893.3688 ,  1953.3877 ,   898.353  ,  1466.0684 ,  3297.8215 ,\n",
              "        9915.315  ,  1452.1033 ,  4287.9175 ,   777.97754,  1224.8973 ,\n",
              "        4977.9697 ,  8516.485  ,  1471.8325 ,  5757.6475 ,  3183.8677 ,\n",
              "        1510.2534 ,  2027.5914 ,  1220.2667 ,  2715.1716 ,  5605.4434 ,\n",
              "       10683.647  ,  5598.6094 ,  4516.2046 , 10624.261  ,  2581.582  ,\n",
              "         907.82886,  1289.6753 ,  5935.2466 ,  1491.9308 ,  4867.1484 ,\n",
              "        3645.6494 ,  8479.252  ,  1051.0083 ,  1444.4298 ,  2872.633  ,\n",
              "        5636.856  ,  8994.884  , 10787.166  ,  1139.1903 ,  7893.9995 ,\n",
              "        2479.3647 ,  9800.073  ,  5473.9756 ,  2756.6038 ,  2441.631  ,\n",
              "       10444.31   ,  2432.8848 ,  1375.5084 ,   684.5622 , 10655.195  ,\n",
              "        1045.8711 ,  4706.5005 ,  1075.3801 ,  1325.9326 ,  4904.8213 ,\n",
              "         922.1377 ,  2637.1028 ,  2337.358  ,  3447.457  ,  2316.7202 ],\n",
              "      dtype=float32)"
            ]
          },
          "metadata": {
            "tags": []
          },
          "execution_count": 225
        }
      ]
    },
    {
      "cell_type": "code",
      "metadata": {
        "id": "HJXQx5gMgcOs",
        "colab_type": "code",
        "outputId": "77335b79-e36b-4f8e-f921-4ab6d3834e51",
        "colab": {
          "base_uri": "https://localhost:8080/",
          "height": 395
        }
      },
      "source": [
        "xgb_model.predict(test_set_x_sample)"
      ],
      "execution_count": 0,
      "outputs": [
        {
          "output_type": "execute_result",
          "data": {
            "text/plain": [
              "array([ 2916.071  ,  4785.481  ,   781.84766,  8108.412  ,  5797.8613 ,\n",
              "        5644.642  ,  1374.9579 ,  5103.5063 ,  2572.9634 ,  1652.803  ,\n",
              "        1521.5322 ,  9203.719  ,  2750.3691 ,  2950.903  ,  1401.2427 ,\n",
              "         632.09283,  1159.1826 ,   703.75604,  2117.4104 ,   940.5816 ,\n",
              "        3603.631  ,  5930.0005 ,  4117.5796 ,  4703.8325 ,  3257.0186 ,\n",
              "        5765.243  ,  1041.748  ,  5795.2925 ,   734.2943 ,  3658.1077 ,\n",
              "        8800.001  ,  5999.551  ,  5673.2627 ,  5613.5566 ,  1402.8262 ,\n",
              "        3974.388  ,  2518.8499 ,  2053.026  , 10799.958  ,   775.85504,\n",
              "        1893.3688 ,  1953.3877 ,   898.353  ,  1466.0684 ,  3297.8215 ,\n",
              "        9915.315  ,  1452.1033 ,  4287.9175 ,   777.97754,  1224.8973 ,\n",
              "        4977.9697 ,  8516.485  ,  1471.8325 ,  5757.6475 ,  3183.8677 ,\n",
              "        1510.2534 ,  2027.5914 ,  1220.2667 ,  2715.1716 ,  5605.4434 ,\n",
              "       10683.647  ,  5598.6094 ,  4516.2046 , 10624.261  ,  2581.582  ,\n",
              "         907.82886,  1289.6753 ,  5935.2466 ,  1491.9308 ,  4867.1484 ,\n",
              "        3645.6494 ,  8479.252  ,  1051.0083 ,  1444.4298 ,  2872.633  ,\n",
              "        5636.856  ,  8994.884  , 10787.166  ,  1139.1903 ,  7893.9995 ,\n",
              "        2479.3647 ,  9800.073  ,  5473.9756 ,  2756.6038 ,  2441.631  ,\n",
              "       10444.31   ,  2432.8848 ,  1375.5084 ,   684.5622 , 10655.195  ,\n",
              "        1045.8711 ,  4706.5005 ,  1075.3801 ,  1325.9326 ,  4904.8213 ,\n",
              "         922.1377 ,  2637.1028 ,  2337.358  ,  3447.457  ,  2316.7202 ],\n",
              "      dtype=float32)"
            ]
          },
          "metadata": {
            "tags": []
          },
          "execution_count": 226
        }
      ]
    },
    {
      "cell_type": "code",
      "metadata": {
        "id": "z8_7BFiGggE6",
        "colab_type": "code",
        "colab": {}
      },
      "source": [
        ""
      ],
      "execution_count": 0,
      "outputs": []
    }
  ]
}